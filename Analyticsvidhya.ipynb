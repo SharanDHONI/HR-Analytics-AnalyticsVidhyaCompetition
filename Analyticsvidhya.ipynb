{
 "cells": [
  {
   "cell_type": "code",
   "execution_count": 1,
   "id": "a0e81f4b",
   "metadata": {},
   "outputs": [],
   "source": [
    "import pandas as pd\n",
    "import numpy as np\n",
    "import seaborn as sns\n",
    "import matplotlib.pyplot as plt\n",
    "import warnings \n",
    "warnings.filterwarnings('ignore')"
   ]
  },
  {
   "cell_type": "markdown",
   "id": "8be12ad9",
   "metadata": {},
   "source": [
    "## Importing Data"
   ]
  },
  {
   "cell_type": "code",
   "execution_count": 2,
   "id": "1760677b",
   "metadata": {},
   "outputs": [],
   "source": [
    "df = pd.read_csv('train_LZdllcl.csv')"
   ]
  },
  {
   "cell_type": "code",
   "execution_count": 3,
   "id": "d27f6421",
   "metadata": {},
   "outputs": [
    {
     "data": {
      "text/html": [
       "<div>\n",
       "<style scoped>\n",
       "    .dataframe tbody tr th:only-of-type {\n",
       "        vertical-align: middle;\n",
       "    }\n",
       "\n",
       "    .dataframe tbody tr th {\n",
       "        vertical-align: top;\n",
       "    }\n",
       "\n",
       "    .dataframe thead th {\n",
       "        text-align: right;\n",
       "    }\n",
       "</style>\n",
       "<table border=\"1\" class=\"dataframe\">\n",
       "  <thead>\n",
       "    <tr style=\"text-align: right;\">\n",
       "      <th></th>\n",
       "      <th>employee_id</th>\n",
       "      <th>department</th>\n",
       "      <th>region</th>\n",
       "      <th>education</th>\n",
       "      <th>gender</th>\n",
       "      <th>recruitment_channel</th>\n",
       "      <th>no_of_trainings</th>\n",
       "      <th>age</th>\n",
       "      <th>previous_year_rating</th>\n",
       "      <th>length_of_service</th>\n",
       "      <th>KPIs_met &gt;80%</th>\n",
       "      <th>awards_won?</th>\n",
       "      <th>avg_training_score</th>\n",
       "      <th>is_promoted</th>\n",
       "    </tr>\n",
       "  </thead>\n",
       "  <tbody>\n",
       "    <tr>\n",
       "      <th>0</th>\n",
       "      <td>65438</td>\n",
       "      <td>Sales &amp; Marketing</td>\n",
       "      <td>region_7</td>\n",
       "      <td>Master's &amp; above</td>\n",
       "      <td>f</td>\n",
       "      <td>sourcing</td>\n",
       "      <td>1</td>\n",
       "      <td>35</td>\n",
       "      <td>5.0</td>\n",
       "      <td>8</td>\n",
       "      <td>1</td>\n",
       "      <td>0</td>\n",
       "      <td>49</td>\n",
       "      <td>0</td>\n",
       "    </tr>\n",
       "    <tr>\n",
       "      <th>1</th>\n",
       "      <td>65141</td>\n",
       "      <td>Operations</td>\n",
       "      <td>region_22</td>\n",
       "      <td>Bachelor's</td>\n",
       "      <td>m</td>\n",
       "      <td>other</td>\n",
       "      <td>1</td>\n",
       "      <td>30</td>\n",
       "      <td>5.0</td>\n",
       "      <td>4</td>\n",
       "      <td>0</td>\n",
       "      <td>0</td>\n",
       "      <td>60</td>\n",
       "      <td>0</td>\n",
       "    </tr>\n",
       "    <tr>\n",
       "      <th>2</th>\n",
       "      <td>7513</td>\n",
       "      <td>Sales &amp; Marketing</td>\n",
       "      <td>region_19</td>\n",
       "      <td>Bachelor's</td>\n",
       "      <td>m</td>\n",
       "      <td>sourcing</td>\n",
       "      <td>1</td>\n",
       "      <td>34</td>\n",
       "      <td>3.0</td>\n",
       "      <td>7</td>\n",
       "      <td>0</td>\n",
       "      <td>0</td>\n",
       "      <td>50</td>\n",
       "      <td>0</td>\n",
       "    </tr>\n",
       "    <tr>\n",
       "      <th>3</th>\n",
       "      <td>2542</td>\n",
       "      <td>Sales &amp; Marketing</td>\n",
       "      <td>region_23</td>\n",
       "      <td>Bachelor's</td>\n",
       "      <td>m</td>\n",
       "      <td>other</td>\n",
       "      <td>2</td>\n",
       "      <td>39</td>\n",
       "      <td>1.0</td>\n",
       "      <td>10</td>\n",
       "      <td>0</td>\n",
       "      <td>0</td>\n",
       "      <td>50</td>\n",
       "      <td>0</td>\n",
       "    </tr>\n",
       "    <tr>\n",
       "      <th>4</th>\n",
       "      <td>48945</td>\n",
       "      <td>Technology</td>\n",
       "      <td>region_26</td>\n",
       "      <td>Bachelor's</td>\n",
       "      <td>m</td>\n",
       "      <td>other</td>\n",
       "      <td>1</td>\n",
       "      <td>45</td>\n",
       "      <td>3.0</td>\n",
       "      <td>2</td>\n",
       "      <td>0</td>\n",
       "      <td>0</td>\n",
       "      <td>73</td>\n",
       "      <td>0</td>\n",
       "    </tr>\n",
       "  </tbody>\n",
       "</table>\n",
       "</div>"
      ],
      "text/plain": [
       "   employee_id         department     region         education gender  \\\n",
       "0        65438  Sales & Marketing   region_7  Master's & above      f   \n",
       "1        65141         Operations  region_22        Bachelor's      m   \n",
       "2         7513  Sales & Marketing  region_19        Bachelor's      m   \n",
       "3         2542  Sales & Marketing  region_23        Bachelor's      m   \n",
       "4        48945         Technology  region_26        Bachelor's      m   \n",
       "\n",
       "  recruitment_channel  no_of_trainings  age  previous_year_rating  \\\n",
       "0            sourcing                1   35                   5.0   \n",
       "1               other                1   30                   5.0   \n",
       "2            sourcing                1   34                   3.0   \n",
       "3               other                2   39                   1.0   \n",
       "4               other                1   45                   3.0   \n",
       "\n",
       "   length_of_service  KPIs_met >80%  awards_won?  avg_training_score  \\\n",
       "0                  8              1            0                  49   \n",
       "1                  4              0            0                  60   \n",
       "2                  7              0            0                  50   \n",
       "3                 10              0            0                  50   \n",
       "4                  2              0            0                  73   \n",
       "\n",
       "   is_promoted  \n",
       "0            0  \n",
       "1            0  \n",
       "2            0  \n",
       "3            0  \n",
       "4            0  "
      ]
     },
     "execution_count": 3,
     "metadata": {},
     "output_type": "execute_result"
    }
   ],
   "source": [
    "df.head()"
   ]
  },
  {
   "cell_type": "markdown",
   "id": "a60e8f44",
   "metadata": {},
   "source": [
    "## Data info and description "
   ]
  },
  {
   "cell_type": "code",
   "execution_count": 4,
   "id": "ae82bf24",
   "metadata": {},
   "outputs": [
    {
     "name": "stdout",
     "output_type": "stream",
     "text": [
      "<class 'pandas.core.frame.DataFrame'>\n",
      "RangeIndex: 54808 entries, 0 to 54807\n",
      "Data columns (total 14 columns):\n",
      " #   Column                Non-Null Count  Dtype  \n",
      "---  ------                --------------  -----  \n",
      " 0   employee_id           54808 non-null  int64  \n",
      " 1   department            54808 non-null  object \n",
      " 2   region                54808 non-null  object \n",
      " 3   education             52399 non-null  object \n",
      " 4   gender                54808 non-null  object \n",
      " 5   recruitment_channel   54808 non-null  object \n",
      " 6   no_of_trainings       54808 non-null  int64  \n",
      " 7   age                   54808 non-null  int64  \n",
      " 8   previous_year_rating  50684 non-null  float64\n",
      " 9   length_of_service     54808 non-null  int64  \n",
      " 10  KPIs_met >80%         54808 non-null  int64  \n",
      " 11  awards_won?           54808 non-null  int64  \n",
      " 12  avg_training_score    54808 non-null  int64  \n",
      " 13  is_promoted           54808 non-null  int64  \n",
      "dtypes: float64(1), int64(8), object(5)\n",
      "memory usage: 5.9+ MB\n"
     ]
    }
   ],
   "source": [
    "df.info()"
   ]
  },
  {
   "cell_type": "code",
   "execution_count": 5,
   "id": "f3cd79c0",
   "metadata": {},
   "outputs": [
    {
     "data": {
      "text/html": [
       "<div>\n",
       "<style scoped>\n",
       "    .dataframe tbody tr th:only-of-type {\n",
       "        vertical-align: middle;\n",
       "    }\n",
       "\n",
       "    .dataframe tbody tr th {\n",
       "        vertical-align: top;\n",
       "    }\n",
       "\n",
       "    .dataframe thead th {\n",
       "        text-align: right;\n",
       "    }\n",
       "</style>\n",
       "<table border=\"1\" class=\"dataframe\">\n",
       "  <thead>\n",
       "    <tr style=\"text-align: right;\">\n",
       "      <th></th>\n",
       "      <th>count</th>\n",
       "      <th>mean</th>\n",
       "      <th>std</th>\n",
       "      <th>min</th>\n",
       "      <th>25%</th>\n",
       "      <th>50%</th>\n",
       "      <th>75%</th>\n",
       "      <th>max</th>\n",
       "    </tr>\n",
       "  </thead>\n",
       "  <tbody>\n",
       "    <tr>\n",
       "      <th>employee_id</th>\n",
       "      <td>54808.0</td>\n",
       "      <td>39195.830627</td>\n",
       "      <td>22586.581449</td>\n",
       "      <td>1.0</td>\n",
       "      <td>19669.75</td>\n",
       "      <td>39225.5</td>\n",
       "      <td>58730.5</td>\n",
       "      <td>78298.0</td>\n",
       "    </tr>\n",
       "    <tr>\n",
       "      <th>no_of_trainings</th>\n",
       "      <td>54808.0</td>\n",
       "      <td>1.253011</td>\n",
       "      <td>0.609264</td>\n",
       "      <td>1.0</td>\n",
       "      <td>1.00</td>\n",
       "      <td>1.0</td>\n",
       "      <td>1.0</td>\n",
       "      <td>10.0</td>\n",
       "    </tr>\n",
       "    <tr>\n",
       "      <th>age</th>\n",
       "      <td>54808.0</td>\n",
       "      <td>34.803915</td>\n",
       "      <td>7.660169</td>\n",
       "      <td>20.0</td>\n",
       "      <td>29.00</td>\n",
       "      <td>33.0</td>\n",
       "      <td>39.0</td>\n",
       "      <td>60.0</td>\n",
       "    </tr>\n",
       "    <tr>\n",
       "      <th>previous_year_rating</th>\n",
       "      <td>50684.0</td>\n",
       "      <td>3.329256</td>\n",
       "      <td>1.259993</td>\n",
       "      <td>1.0</td>\n",
       "      <td>3.00</td>\n",
       "      <td>3.0</td>\n",
       "      <td>4.0</td>\n",
       "      <td>5.0</td>\n",
       "    </tr>\n",
       "    <tr>\n",
       "      <th>length_of_service</th>\n",
       "      <td>54808.0</td>\n",
       "      <td>5.865512</td>\n",
       "      <td>4.265094</td>\n",
       "      <td>1.0</td>\n",
       "      <td>3.00</td>\n",
       "      <td>5.0</td>\n",
       "      <td>7.0</td>\n",
       "      <td>37.0</td>\n",
       "    </tr>\n",
       "    <tr>\n",
       "      <th>KPIs_met &gt;80%</th>\n",
       "      <td>54808.0</td>\n",
       "      <td>0.351974</td>\n",
       "      <td>0.477590</td>\n",
       "      <td>0.0</td>\n",
       "      <td>0.00</td>\n",
       "      <td>0.0</td>\n",
       "      <td>1.0</td>\n",
       "      <td>1.0</td>\n",
       "    </tr>\n",
       "    <tr>\n",
       "      <th>awards_won?</th>\n",
       "      <td>54808.0</td>\n",
       "      <td>0.023172</td>\n",
       "      <td>0.150450</td>\n",
       "      <td>0.0</td>\n",
       "      <td>0.00</td>\n",
       "      <td>0.0</td>\n",
       "      <td>0.0</td>\n",
       "      <td>1.0</td>\n",
       "    </tr>\n",
       "    <tr>\n",
       "      <th>avg_training_score</th>\n",
       "      <td>54808.0</td>\n",
       "      <td>63.386750</td>\n",
       "      <td>13.371559</td>\n",
       "      <td>39.0</td>\n",
       "      <td>51.00</td>\n",
       "      <td>60.0</td>\n",
       "      <td>76.0</td>\n",
       "      <td>99.0</td>\n",
       "    </tr>\n",
       "    <tr>\n",
       "      <th>is_promoted</th>\n",
       "      <td>54808.0</td>\n",
       "      <td>0.085170</td>\n",
       "      <td>0.279137</td>\n",
       "      <td>0.0</td>\n",
       "      <td>0.00</td>\n",
       "      <td>0.0</td>\n",
       "      <td>0.0</td>\n",
       "      <td>1.0</td>\n",
       "    </tr>\n",
       "  </tbody>\n",
       "</table>\n",
       "</div>"
      ],
      "text/plain": [
       "                        count          mean           std   min       25%  \\\n",
       "employee_id           54808.0  39195.830627  22586.581449   1.0  19669.75   \n",
       "no_of_trainings       54808.0      1.253011      0.609264   1.0      1.00   \n",
       "age                   54808.0     34.803915      7.660169  20.0     29.00   \n",
       "previous_year_rating  50684.0      3.329256      1.259993   1.0      3.00   \n",
       "length_of_service     54808.0      5.865512      4.265094   1.0      3.00   \n",
       "KPIs_met >80%         54808.0      0.351974      0.477590   0.0      0.00   \n",
       "awards_won?           54808.0      0.023172      0.150450   0.0      0.00   \n",
       "avg_training_score    54808.0     63.386750     13.371559  39.0     51.00   \n",
       "is_promoted           54808.0      0.085170      0.279137   0.0      0.00   \n",
       "\n",
       "                          50%      75%      max  \n",
       "employee_id           39225.5  58730.5  78298.0  \n",
       "no_of_trainings           1.0      1.0     10.0  \n",
       "age                      33.0     39.0     60.0  \n",
       "previous_year_rating      3.0      4.0      5.0  \n",
       "length_of_service         5.0      7.0     37.0  \n",
       "KPIs_met >80%             0.0      1.0      1.0  \n",
       "awards_won?               0.0      0.0      1.0  \n",
       "avg_training_score       60.0     76.0     99.0  \n",
       "is_promoted               0.0      0.0      1.0  "
      ]
     },
     "execution_count": 5,
     "metadata": {},
     "output_type": "execute_result"
    }
   ],
   "source": [
    "df.describe().transpose()"
   ]
  },
  {
   "cell_type": "markdown",
   "id": "ef157df1",
   "metadata": {},
   "source": [
    "## Null value Analysis"
   ]
  },
  {
   "cell_type": "code",
   "execution_count": 6,
   "id": "0c85fd83",
   "metadata": {},
   "outputs": [
    {
     "data": {
      "text/plain": [
       "employee_id                0\n",
       "department                 0\n",
       "region                     0\n",
       "education               2409\n",
       "gender                     0\n",
       "recruitment_channel        0\n",
       "no_of_trainings            0\n",
       "age                        0\n",
       "previous_year_rating    4124\n",
       "length_of_service          0\n",
       "KPIs_met >80%              0\n",
       "awards_won?                0\n",
       "avg_training_score         0\n",
       "is_promoted                0\n",
       "dtype: int64"
      ]
     },
     "execution_count": 6,
     "metadata": {},
     "output_type": "execute_result"
    }
   ],
   "source": [
    "df.isnull().sum()"
   ]
  },
  {
   "cell_type": "code",
   "execution_count": 7,
   "id": "53c916b3",
   "metadata": {},
   "outputs": [
    {
     "data": {
      "text/plain": [
       "Bachelor's          36669\n",
       "Master's & above    14925\n",
       "Below Secondary       805\n",
       "Name: education, dtype: int64"
      ]
     },
     "execution_count": 7,
     "metadata": {},
     "output_type": "execute_result"
    }
   ],
   "source": [
    "df.education.value_counts()"
   ]
  },
  {
   "cell_type": "code",
   "execution_count": 8,
   "id": "97865cc0",
   "metadata": {},
   "outputs": [
    {
     "data": {
      "text/plain": [
       "3.0    18618\n",
       "5.0    11741\n",
       "4.0     9877\n",
       "1.0     6223\n",
       "2.0     4225\n",
       "Name: previous_year_rating, dtype: int64"
      ]
     },
     "execution_count": 8,
     "metadata": {},
     "output_type": "execute_result"
    }
   ],
   "source": [
    "df.previous_year_rating.value_counts()"
   ]
  },
  {
   "cell_type": "code",
   "execution_count": 9,
   "id": "6491874c",
   "metadata": {},
   "outputs": [],
   "source": [
    "dept_count = pd.DataFrame(df.department.value_counts())\n",
    "# dept_count"
   ]
  },
  {
   "cell_type": "code",
   "execution_count": 10,
   "id": "994f5f19",
   "metadata": {},
   "outputs": [
    {
     "name": "stdout",
     "output_type": "stream",
     "text": [
      "Sales & Marketing\n",
      "Bachelor's          11099\n",
      "Master's & above     4166\n",
      "Name: education, dtype: int64\n",
      "\n",
      "\n",
      "Operations\n",
      "Bachelor's          7781\n",
      "Master's & above    3165\n",
      "Below Secondary      176\n",
      "Name: education, dtype: int64\n",
      "\n",
      "\n",
      "Technology\n",
      "Bachelor's          4642\n",
      "Master's & above    2196\n",
      "Below Secondary      201\n",
      "Name: education, dtype: int64\n",
      "\n",
      "\n",
      "Procurement\n",
      "Bachelor's          4393\n",
      "Master's & above    2544\n",
      "Below Secondary      129\n",
      "Name: education, dtype: int64\n",
      "\n",
      "\n",
      "Analytics\n",
      "Bachelor's          3978\n",
      "Master's & above    1037\n",
      "Name: education, dtype: int64\n",
      "\n",
      "\n",
      "Finance\n",
      "Bachelor's          1895\n",
      "Master's & above     499\n",
      "Below Secondary      106\n",
      "Name: education, dtype: int64\n",
      "\n",
      "\n",
      "HR\n",
      "Bachelor's          1525\n",
      "Master's & above     733\n",
      "Below Secondary      128\n",
      "Name: education, dtype: int64\n",
      "\n",
      "\n",
      "Legal\n",
      "Bachelor's          814\n",
      "Master's & above    156\n",
      "Below Secondary      65\n",
      "Name: education, dtype: int64\n",
      "\n",
      "\n",
      "R&D\n",
      "Bachelor's          542\n",
      "Master's & above    429\n",
      "Name: education, dtype: int64\n",
      "\n",
      "\n"
     ]
    }
   ],
   "source": [
    "for i in dept_count.index:\n",
    "    print(i)\n",
    "    print(df.loc[df.department == i].education.value_counts())\n",
    "    print('\\n')"
   ]
  },
  {
   "cell_type": "markdown",
   "id": "6f2a8878",
   "metadata": {},
   "source": [
    "## Imputing the Null values"
   ]
  },
  {
   "cell_type": "code",
   "execution_count": 11,
   "id": "055e9fe2",
   "metadata": {},
   "outputs": [],
   "source": [
    "# df.loc[df.education.isnull()].department.value_counts()"
   ]
  },
  {
   "cell_type": "code",
   "execution_count": 12,
   "id": "1d2ff517",
   "metadata": {},
   "outputs": [],
   "source": [
    "df.education.fillna(\"Bachelor's\",axis=0,inplace=True)"
   ]
  },
  {
   "cell_type": "code",
   "execution_count": 13,
   "id": "b7d343e2",
   "metadata": {},
   "outputs": [],
   "source": [
    "# df[df['previous_year_rating'].isnull()]"
   ]
  },
  {
   "cell_type": "code",
   "execution_count": 14,
   "id": "92390bdc",
   "metadata": {},
   "outputs": [],
   "source": [
    "df.previous_year_rating.fillna(0,axis=0,inplace=True)"
   ]
  },
  {
   "cell_type": "code",
   "execution_count": null,
   "id": "7c66aa8e",
   "metadata": {},
   "outputs": [],
   "source": []
  },
  {
   "cell_type": "markdown",
   "id": "e3d0422b",
   "metadata": {},
   "source": [
    "## Analysis "
   ]
  },
  {
   "cell_type": "code",
   "execution_count": 15,
   "id": "29d47f52",
   "metadata": {},
   "outputs": [
    {
     "data": {
      "text/html": [
       "<div>\n",
       "<style scoped>\n",
       "    .dataframe tbody tr th:only-of-type {\n",
       "        vertical-align: middle;\n",
       "    }\n",
       "\n",
       "    .dataframe tbody tr th {\n",
       "        vertical-align: top;\n",
       "    }\n",
       "\n",
       "    .dataframe thead th {\n",
       "        text-align: right;\n",
       "    }\n",
       "</style>\n",
       "<table border=\"1\" class=\"dataframe\">\n",
       "  <thead>\n",
       "    <tr style=\"text-align: right;\">\n",
       "      <th></th>\n",
       "      <th>employee_id</th>\n",
       "      <th>department</th>\n",
       "      <th>region</th>\n",
       "      <th>education</th>\n",
       "      <th>gender</th>\n",
       "      <th>recruitment_channel</th>\n",
       "      <th>no_of_trainings</th>\n",
       "      <th>age</th>\n",
       "      <th>previous_year_rating</th>\n",
       "      <th>length_of_service</th>\n",
       "      <th>KPIs_met &gt;80%</th>\n",
       "      <th>awards_won?</th>\n",
       "      <th>avg_training_score</th>\n",
       "      <th>is_promoted</th>\n",
       "    </tr>\n",
       "  </thead>\n",
       "  <tbody>\n",
       "    <tr>\n",
       "      <th>0</th>\n",
       "      <td>65438</td>\n",
       "      <td>Sales &amp; Marketing</td>\n",
       "      <td>region_7</td>\n",
       "      <td>Master's &amp; above</td>\n",
       "      <td>f</td>\n",
       "      <td>sourcing</td>\n",
       "      <td>1</td>\n",
       "      <td>35</td>\n",
       "      <td>5.0</td>\n",
       "      <td>8</td>\n",
       "      <td>1</td>\n",
       "      <td>0</td>\n",
       "      <td>49</td>\n",
       "      <td>0</td>\n",
       "    </tr>\n",
       "    <tr>\n",
       "      <th>1</th>\n",
       "      <td>65141</td>\n",
       "      <td>Operations</td>\n",
       "      <td>region_22</td>\n",
       "      <td>Bachelor's</td>\n",
       "      <td>m</td>\n",
       "      <td>other</td>\n",
       "      <td>1</td>\n",
       "      <td>30</td>\n",
       "      <td>5.0</td>\n",
       "      <td>4</td>\n",
       "      <td>0</td>\n",
       "      <td>0</td>\n",
       "      <td>60</td>\n",
       "      <td>0</td>\n",
       "    </tr>\n",
       "    <tr>\n",
       "      <th>2</th>\n",
       "      <td>7513</td>\n",
       "      <td>Sales &amp; Marketing</td>\n",
       "      <td>region_19</td>\n",
       "      <td>Bachelor's</td>\n",
       "      <td>m</td>\n",
       "      <td>sourcing</td>\n",
       "      <td>1</td>\n",
       "      <td>34</td>\n",
       "      <td>3.0</td>\n",
       "      <td>7</td>\n",
       "      <td>0</td>\n",
       "      <td>0</td>\n",
       "      <td>50</td>\n",
       "      <td>0</td>\n",
       "    </tr>\n",
       "    <tr>\n",
       "      <th>3</th>\n",
       "      <td>2542</td>\n",
       "      <td>Sales &amp; Marketing</td>\n",
       "      <td>region_23</td>\n",
       "      <td>Bachelor's</td>\n",
       "      <td>m</td>\n",
       "      <td>other</td>\n",
       "      <td>2</td>\n",
       "      <td>39</td>\n",
       "      <td>1.0</td>\n",
       "      <td>10</td>\n",
       "      <td>0</td>\n",
       "      <td>0</td>\n",
       "      <td>50</td>\n",
       "      <td>0</td>\n",
       "    </tr>\n",
       "    <tr>\n",
       "      <th>4</th>\n",
       "      <td>48945</td>\n",
       "      <td>Technology</td>\n",
       "      <td>region_26</td>\n",
       "      <td>Bachelor's</td>\n",
       "      <td>m</td>\n",
       "      <td>other</td>\n",
       "      <td>1</td>\n",
       "      <td>45</td>\n",
       "      <td>3.0</td>\n",
       "      <td>2</td>\n",
       "      <td>0</td>\n",
       "      <td>0</td>\n",
       "      <td>73</td>\n",
       "      <td>0</td>\n",
       "    </tr>\n",
       "  </tbody>\n",
       "</table>\n",
       "</div>"
      ],
      "text/plain": [
       "   employee_id         department     region         education gender  \\\n",
       "0        65438  Sales & Marketing   region_7  Master's & above      f   \n",
       "1        65141         Operations  region_22        Bachelor's      m   \n",
       "2         7513  Sales & Marketing  region_19        Bachelor's      m   \n",
       "3         2542  Sales & Marketing  region_23        Bachelor's      m   \n",
       "4        48945         Technology  region_26        Bachelor's      m   \n",
       "\n",
       "  recruitment_channel  no_of_trainings  age  previous_year_rating  \\\n",
       "0            sourcing                1   35                   5.0   \n",
       "1               other                1   30                   5.0   \n",
       "2            sourcing                1   34                   3.0   \n",
       "3               other                2   39                   1.0   \n",
       "4               other                1   45                   3.0   \n",
       "\n",
       "   length_of_service  KPIs_met >80%  awards_won?  avg_training_score  \\\n",
       "0                  8              1            0                  49   \n",
       "1                  4              0            0                  60   \n",
       "2                  7              0            0                  50   \n",
       "3                 10              0            0                  50   \n",
       "4                  2              0            0                  73   \n",
       "\n",
       "   is_promoted  \n",
       "0            0  \n",
       "1            0  \n",
       "2            0  \n",
       "3            0  \n",
       "4            0  "
      ]
     },
     "execution_count": 15,
     "metadata": {},
     "output_type": "execute_result"
    }
   ],
   "source": [
    "df.head()"
   ]
  },
  {
   "cell_type": "code",
   "execution_count": null,
   "id": "5ec9e27f",
   "metadata": {},
   "outputs": [],
   "source": []
  },
  {
   "cell_type": "code",
   "execution_count": 16,
   "id": "38ff7eb7",
   "metadata": {},
   "outputs": [],
   "source": [
    "# Adding new feature \"Age Category\"\n",
    "ac = []\n",
    "for i in df.age:\n",
    "    if 20 <= i < 30:\n",
    "        ac.append('20 - 29 years')\n",
    "    elif 30<= i < 40:\n",
    "        ac.append('30 - 39 years')\n",
    "    elif 40<= i < 50:\n",
    "        ac.append('40 - 49 years')\n",
    "    elif 50<= i <= 60:\n",
    "        ac.append('50 - 60 years')\n",
    "df['age_category'] = ac"
   ]
  },
  {
   "cell_type": "code",
   "execution_count": 17,
   "id": "e3176d45",
   "metadata": {},
   "outputs": [],
   "source": [
    "# Adding new feature \"los category\"\n",
    "los = []\n",
    "for i in df.length_of_service:\n",
    "    if 1<=i<3:\n",
    "        los.append('1 - 2 years')\n",
    "    elif 3<= i < 6:\n",
    "        los.append('3 - 5 years')\n",
    "    elif 6<= i < 11:\n",
    "        los.append('6 - 10 years')\n",
    "    elif 11<= i < 21:\n",
    "        los.append('11 to 20 years')\n",
    "    elif 21 <= i < 31:\n",
    "        los.append('21 - 30 years')\n",
    "    elif i > 30:\n",
    "        los.append('> than 30 years')\n",
    "df['los_category'] = los"
   ]
  },
  {
   "cell_type": "code",
   "execution_count": null,
   "id": "b65c05e4",
   "metadata": {},
   "outputs": [],
   "source": []
  },
  {
   "cell_type": "code",
   "execution_count": null,
   "id": "4b930faf",
   "metadata": {},
   "outputs": [],
   "source": []
  },
  {
   "cell_type": "code",
   "execution_count": 18,
   "id": "f5440cb7",
   "metadata": {
    "scrolled": true
   },
   "outputs": [
    {
     "data": {
      "text/plain": [
       "gender\n",
       "f    3.136341\n",
       "m    3.054343\n",
       "Name: previous_year_rating, dtype: float64"
      ]
     },
     "execution_count": 18,
     "metadata": {},
     "output_type": "execute_result"
    }
   ],
   "source": [
    "## previous year rating wrt gender\n",
    "df.previous_year_rating.groupby(df.gender).mean().sort_values(ascending=False)\n",
    "\n",
    "# inference : Female employees have slightly better than male"
   ]
  },
  {
   "cell_type": "code",
   "execution_count": 19,
   "id": "ccd9fdfc",
   "metadata": {},
   "outputs": [
    {
     "data": {
      "text/plain": [
       "region\n",
       "region_4     3.406929\n",
       "region_3     3.355491\n",
       "region_17    3.257538\n",
       "region_19    3.257437\n",
       "region_23    3.238298\n",
       "region_7     3.224241\n",
       "region_28    3.205615\n",
       "region_15    3.204416\n",
       "region_25    3.195360\n",
       "region_13    3.172205\n",
       "Name: previous_year_rating, dtype: float64"
      ]
     },
     "execution_count": 19,
     "metadata": {},
     "output_type": "execute_result"
    }
   ],
   "source": [
    "## previous year rating wrt region \n",
    "df.previous_year_rating.groupby(df.region).mean().sort_values(ascending=False).head(10) # top 10 regions\n",
    "# df.previous_year_rating.groupby(df.region).mean().sort_values(ascending=False) # full list"
   ]
  },
  {
   "cell_type": "code",
   "execution_count": null,
   "id": "b2ae6580",
   "metadata": {},
   "outputs": [],
   "source": []
  },
  {
   "cell_type": "code",
   "execution_count": 20,
   "id": "80814bfc",
   "metadata": {},
   "outputs": [
    {
     "data": {
      "text/plain": [
       "education\n",
       "Master's & above    3.333936\n",
       "Bachelor's          3.003762\n",
       "Below Secondary     1.987578\n",
       "Name: previous_year_rating, dtype: float64"
      ]
     },
     "execution_count": 20,
     "metadata": {},
     "output_type": "execute_result"
    }
   ],
   "source": [
    "## previous year rating wrt education\n",
    "df.previous_year_rating.groupby(df.education).mean().sort_values(ascending=False)"
   ]
  },
  {
   "cell_type": "code",
   "execution_count": 21,
   "id": "4cc14e74",
   "metadata": {},
   "outputs": [
    {
     "data": {
      "text/plain": [
       "department\n",
       "Operations           3.443955\n",
       "R&D                  3.253253\n",
       "Analytics            3.247571\n",
       "HR                   3.128619\n",
       "Finance              3.115142\n",
       "Procurement          3.100588\n",
       "Technology           2.917064\n",
       "Legal                2.854668\n",
       "Sales & Marketing    2.829097\n",
       "Name: previous_year_rating, dtype: float64"
      ]
     },
     "execution_count": 21,
     "metadata": {},
     "output_type": "execute_result"
    }
   ],
   "source": [
    "## previous year rating wrt department\n",
    "df.previous_year_rating.groupby(df.department).mean().sort_values(ascending=False)"
   ]
  },
  {
   "cell_type": "code",
   "execution_count": 22,
   "id": "942cc787",
   "metadata": {},
   "outputs": [
    {
     "data": {
      "text/plain": [
       "recruitment_channel\n",
       "referred    3.550788\n",
       "sourcing    3.073213\n",
       "other       3.065263\n",
       "Name: previous_year_rating, dtype: float64"
      ]
     },
     "execution_count": 22,
     "metadata": {},
     "output_type": "execute_result"
    }
   ],
   "source": [
    "## previous year rating wrt recruitment_channel\n",
    "df.previous_year_rating.groupby(df.recruitment_channel).mean().sort_values(ascending=False)"
   ]
  },
  {
   "cell_type": "code",
   "execution_count": 23,
   "id": "19d93cec",
   "metadata": {},
   "outputs": [
    {
     "data": {
      "text/plain": [
       "no_of_trainings\n",
       "1     3.117581\n",
       "2     2.969576\n",
       "3     2.814752\n",
       "7     2.666667\n",
       "10    2.600000\n",
       "4     2.551282\n",
       "5     2.531250\n",
       "8     2.200000\n",
       "6     2.022727\n",
       "9     1.600000\n",
       "Name: previous_year_rating, dtype: float64"
      ]
     },
     "execution_count": 23,
     "metadata": {},
     "output_type": "execute_result"
    }
   ],
   "source": [
    "## previous year rating wrt no_of_trainings\n",
    "df.previous_year_rating.groupby(df.no_of_trainings).mean().sort_values(ascending=False)\n",
    "# Inference : People who went through more than 3 trainings\n",
    "#             have not gotten good ratings the next year."
   ]
  },
  {
   "cell_type": "code",
   "execution_count": 24,
   "id": "f9205ccd",
   "metadata": {},
   "outputs": [
    {
     "data": {
      "text/plain": [
       "age_category\n",
       "40 - 49 years    3.323615\n",
       "50 - 60 years    3.302401\n",
       "30 - 39 years    3.282269\n",
       "20 - 29 years    2.480177\n",
       "Name: previous_year_rating, dtype: float64"
      ]
     },
     "execution_count": 24,
     "metadata": {},
     "output_type": "execute_result"
    }
   ],
   "source": [
    "## previous year rating wrt age_category\n",
    "df.previous_year_rating.groupby(df.age_category).mean().sort_values(ascending=False)\n",
    "\n",
    "## previous year rating wrt age\n",
    "# df.previous_year_rating.groupby(df.age).mean().sort_values(ascending=False)"
   ]
  },
  {
   "cell_type": "code",
   "execution_count": 25,
   "id": "98cbed14",
   "metadata": {},
   "outputs": [
    {
     "data": {
      "text/plain": [
       "los_category\n",
       "> than 30 years    3.613636\n",
       "6 - 10 years       3.341801\n",
       "3 - 5 years        3.328054\n",
       "11 to 20 years     3.313711\n",
       "21 - 30 years      3.293249\n",
       "1 - 2 years        2.096608\n",
       "Name: previous_year_rating, dtype: float64"
      ]
     },
     "execution_count": 25,
     "metadata": {},
     "output_type": "execute_result"
    }
   ],
   "source": [
    "## previous year rating wrt length of service category\n",
    "df.previous_year_rating.groupby(df.los_category).mean().sort_values(ascending=False)\n",
    "\n",
    "# inferences : Experienced candidates have performed better\n",
    "#               than the candidates with less experience\n",
    "\n",
    "## previous year rating wrt length of service\n",
    "# df.previous_year_rating.groupby(df.length_of_service).mean().sort_values(ascending=False)"
   ]
  },
  {
   "cell_type": "code",
   "execution_count": 26,
   "id": "83408c8a",
   "metadata": {},
   "outputs": [
    {
     "data": {
      "text/plain": [
       "KPIs_met >80%\n",
       "1    3.636307\n",
       "0    2.775910\n",
       "Name: previous_year_rating, dtype: float64"
      ]
     },
     "execution_count": 26,
     "metadata": {},
     "output_type": "execute_result"
    }
   ],
   "source": [
    "## previous year rating wrt KPI met \n",
    "df.previous_year_rating.groupby(df['KPIs_met >80%']).mean().sort_values(ascending=False)\n",
    "# Inference : candidates who have achived KPI's > 80 have better ratings than others"
   ]
  },
  {
   "cell_type": "code",
   "execution_count": 27,
   "id": "787d5e5e",
   "metadata": {},
   "outputs": [
    {
     "data": {
      "image/png": "[encoded data removed]",
      "text/plain": [
       "<Figure size 432x288 with 1 Axes>"
      ]
     },
     "metadata": {},
     "output_type": "display_data"
    }
   ],
   "source": [
    "## count of how many have achieved the KPI's > 80%\n",
    "plt.pie(df['KPIs_met >80%'].value_counts(),labels=df['KPIs_met >80%'].value_counts().index,startangle=90)\n",
    "plt.show()"
   ]
  },
  {
   "cell_type": "code",
   "execution_count": 28,
   "id": "b97a5ca6",
   "metadata": {},
   "outputs": [
    {
     "data": {
      "text/plain": [
       "awards_won?\n",
       "1    3.287402\n",
       "0    3.073798\n",
       "Name: previous_year_rating, dtype: float64"
      ]
     },
     "execution_count": 28,
     "metadata": {},
     "output_type": "execute_result"
    }
   ],
   "source": [
    "## previous year rating wrt awards won\n",
    "df.previous_year_rating.groupby(df['awards_won?']).mean().sort_values(ascending=False)\n",
    "\n",
    "## Inference : employees who hav not won awards have also equally performed well."
   ]
  },
  {
   "cell_type": "code",
   "execution_count": 29,
   "id": "3dbbdabd",
   "metadata": {},
   "outputs": [
    {
     "data": {
      "text/plain": [
       "is_promoted\n",
       "1    3.696658\n",
       "0    3.021221\n",
       "Name: previous_year_rating, dtype: float64"
      ]
     },
     "execution_count": 29,
     "metadata": {},
     "output_type": "execute_result"
    }
   ],
   "source": [
    "## previous year rating wrt promotion\n",
    "df.previous_year_rating.groupby(df['is_promoted']).mean().sort_values(ascending=False)\n",
    "\n",
    "# Inference : people who got promoted also had better ratings than emps who did not\n",
    "#             get promoted"
   ]
  },
  {
   "cell_type": "code",
   "execution_count": null,
   "id": "f34463f8",
   "metadata": {},
   "outputs": [],
   "source": []
  },
  {
   "cell_type": "markdown",
   "id": "7173a525",
   "metadata": {},
   "source": [
    "## Data preprocessing for ML"
   ]
  },
  {
   "cell_type": "code",
   "execution_count": 30,
   "id": "4dc1b73e",
   "metadata": {},
   "outputs": [],
   "source": [
    "ml = df.copy()"
   ]
  },
  {
   "cell_type": "code",
   "execution_count": 31,
   "id": "3a5d0725",
   "metadata": {},
   "outputs": [],
   "source": [
    "ml2 = ml.copy()"
   ]
  },
  {
   "cell_type": "code",
   "execution_count": 32,
   "id": "1f9df7af",
   "metadata": {},
   "outputs": [],
   "source": [
    "from sklearn.preprocessing import LabelEncoder\n",
    "le = LabelEncoder()\n",
    "from sklearn.model_selection import train_test_split\n",
    "from sklearn.linear_model import LogisticRegression\n",
    "from sklearn.neighbors import KNeighborsClassifier\n",
    "from sklearn.naive_bayes import GaussianNB\n",
    "from sklearn.svm import SVC\n",
    "from sklearn.tree import DecisionTreeClassifier\n",
    "from sklearn.ensemble import RandomForestClassifier\n",
    "from sklearn.ensemble import GradientBoostingClassifier\n",
    "from sklearn.ensemble import AdaBoostClassifier\n",
    "from xgboost import XGBRFClassifier\n",
    "from xgboost import XGBClassifier\n",
    "from catboost import CatBoostClassifier\n",
    "from lightgbm import LGBMClassifier\n",
    "from sklearn.metrics import accuracy_score, f1_score, classification_report, confusion_matrix, roc_auc_score,roc_curve"
   ]
  },
  {
   "cell_type": "code",
   "execution_count": null,
   "id": "6dd60d38",
   "metadata": {},
   "outputs": [],
   "source": []
  },
  {
   "cell_type": "code",
   "execution_count": 33,
   "id": "356738fd",
   "metadata": {},
   "outputs": [],
   "source": [
    "dept = []\n",
    "for i in ml2.department:\n",
    "    if i == 'Sales & Marketing':\n",
    "        dept.append(1)\n",
    "    elif i == 'Operations':\n",
    "        dept.append(2)\n",
    "    elif i == 'Technology':\n",
    "        dept.append(3)\n",
    "    elif i == 'Analytics':\n",
    "        dept.append(4)\n",
    "    elif i == 'R&D':\n",
    "        dept.append(5)\n",
    "    elif i == 'Procurement':\n",
    "        dept.append(6)\n",
    "    elif i == 'Finance':\n",
    "        dept.append(7)\n",
    "    elif i == 'HR':\n",
    "        dept.append(8)\n",
    "    elif i == 'Legal':\n",
    "        dept.append(9)\n",
    "        \n",
    "ml2['department'] = dept"
   ]
  },
  {
   "cell_type": "code",
   "execution_count": 34,
   "id": "32bc9e1e",
   "metadata": {},
   "outputs": [],
   "source": [
    "# ml2['region'] = le.fit_transform(ml2['region']) #Too many values to loop, so label_encoding "
   ]
  },
  {
   "cell_type": "code",
   "execution_count": 35,
   "id": "27c55d1f",
   "metadata": {},
   "outputs": [],
   "source": [
    "## code to Lable encode and reverse it ! ## refer the code snippet file\n",
    "\n",
    "# encoders = {}\n",
    "# for x in ml2.columns:\n",
    "#     if ml2[x].dtypes=='object':\n",
    "#         le = LabelEncoder()\n",
    "#         ml2[x]=le.fit_transform(ml2[x].astype(str))\n",
    "#         encoders[x] = le\n",
    "\n",
    "# for x, le in encoders.items():\n",
    "#     ml2[x] = le.inverse_transform(ml2[x])"
   ]
  },
  {
   "cell_type": "code",
   "execution_count": 36,
   "id": "59b47661",
   "metadata": {},
   "outputs": [],
   "source": [
    "edu = []\n",
    "for i in ml2.education:\n",
    "    if i == \"Bachelor's\":\n",
    "        edu.append(2)\n",
    "    elif i == \"Master's & above\":\n",
    "        edu.append(1)\n",
    "    elif i == \"Below Secondary\":\n",
    "        edu.append(3)\n",
    "ml2['education'] = edu"
   ]
  },
  {
   "cell_type": "code",
   "execution_count": 37,
   "id": "e60d5bda",
   "metadata": {},
   "outputs": [],
   "source": [
    "gen = []\n",
    "for i in ml2.gender:\n",
    "    if i == 'f':\n",
    "        gen.append(1)\n",
    "    elif i == 'm':\n",
    "        gen.append(2)\n",
    "ml2['gender'] = gen"
   ]
  },
  {
   "cell_type": "code",
   "execution_count": 38,
   "id": "912fe7e3",
   "metadata": {},
   "outputs": [],
   "source": [
    "rc = []\n",
    "for i in ml2.recruitment_channel:\n",
    "    if i == 'other':\n",
    "        rc.append(1)\n",
    "    elif i == 'sourcing':\n",
    "        rc.append(2)\n",
    "    elif i == 'referred':\n",
    "        rc.append(3)\n",
    "ml2['recruitment_channel'] = rc"
   ]
  },
  {
   "cell_type": "code",
   "execution_count": 39,
   "id": "db989f52",
   "metadata": {},
   "outputs": [],
   "source": [
    "## AGE CATEGORY (IF NEEDED)\n",
    "# ac = []\n",
    "# for i in ml2.age_category:\n",
    "#     if i == '30 - 39 years':\n",
    "#         ac.append(1)\n",
    "#     elif i == '20 - 29 years':\n",
    "#         ac.append(2)\n",
    "#     elif i == '40 - 49 years':\n",
    "#         ac.append(3)\n",
    "#     elif i == '50 - 60 years':\n",
    "#         ac.append(4)\n",
    "# ml2['age_category'] = ac"
   ]
  },
  {
   "cell_type": "code",
   "execution_count": null,
   "id": "6eadc090",
   "metadata": {},
   "outputs": [],
   "source": []
  },
  {
   "cell_type": "code",
   "execution_count": 40,
   "id": "afe8d5de",
   "metadata": {},
   "outputs": [],
   "source": [
    "## dropping age_category and los_category\n",
    "ml2.drop(['region','employee_id','age_category','los_category'],axis=1,inplace=True)"
   ]
  },
  {
   "cell_type": "code",
   "execution_count": 41,
   "id": "7125aee2",
   "metadata": {
    "scrolled": false
   },
   "outputs": [
    {
     "data": {
      "text/html": [
       "<div>\n",
       "<style scoped>\n",
       "    .dataframe tbody tr th:only-of-type {\n",
       "        vertical-align: middle;\n",
       "    }\n",
       "\n",
       "    .dataframe tbody tr th {\n",
       "        vertical-align: top;\n",
       "    }\n",
       "\n",
       "    .dataframe thead th {\n",
       "        text-align: right;\n",
       "    }\n",
       "</style>\n",
       "<table border=\"1\" class=\"dataframe\">\n",
       "  <thead>\n",
       "    <tr style=\"text-align: right;\">\n",
       "      <th></th>\n",
       "      <th>department</th>\n",
       "      <th>education</th>\n",
       "      <th>gender</th>\n",
       "      <th>recruitment_channel</th>\n",
       "      <th>no_of_trainings</th>\n",
       "      <th>age</th>\n",
       "      <th>previous_year_rating</th>\n",
       "      <th>length_of_service</th>\n",
       "      <th>KPIs_met &gt;80%</th>\n",
       "      <th>awards_won?</th>\n",
       "      <th>avg_training_score</th>\n",
       "      <th>is_promoted</th>\n",
       "    </tr>\n",
       "  </thead>\n",
       "  <tbody>\n",
       "    <tr>\n",
       "      <th>0</th>\n",
       "      <td>1</td>\n",
       "      <td>1</td>\n",
       "      <td>1</td>\n",
       "      <td>2</td>\n",
       "      <td>1</td>\n",
       "      <td>35</td>\n",
       "      <td>5.0</td>\n",
       "      <td>8</td>\n",
       "      <td>1</td>\n",
       "      <td>0</td>\n",
       "      <td>49</td>\n",
       "      <td>0</td>\n",
       "    </tr>\n",
       "    <tr>\n",
       "      <th>1</th>\n",
       "      <td>2</td>\n",
       "      <td>2</td>\n",
       "      <td>2</td>\n",
       "      <td>1</td>\n",
       "      <td>1</td>\n",
       "      <td>30</td>\n",
       "      <td>5.0</td>\n",
       "      <td>4</td>\n",
       "      <td>0</td>\n",
       "      <td>0</td>\n",
       "      <td>60</td>\n",
       "      <td>0</td>\n",
       "    </tr>\n",
       "    <tr>\n",
       "      <th>2</th>\n",
       "      <td>1</td>\n",
       "      <td>2</td>\n",
       "      <td>2</td>\n",
       "      <td>2</td>\n",
       "      <td>1</td>\n",
       "      <td>34</td>\n",
       "      <td>3.0</td>\n",
       "      <td>7</td>\n",
       "      <td>0</td>\n",
       "      <td>0</td>\n",
       "      <td>50</td>\n",
       "      <td>0</td>\n",
       "    </tr>\n",
       "    <tr>\n",
       "      <th>3</th>\n",
       "      <td>1</td>\n",
       "      <td>2</td>\n",
       "      <td>2</td>\n",
       "      <td>1</td>\n",
       "      <td>2</td>\n",
       "      <td>39</td>\n",
       "      <td>1.0</td>\n",
       "      <td>10</td>\n",
       "      <td>0</td>\n",
       "      <td>0</td>\n",
       "      <td>50</td>\n",
       "      <td>0</td>\n",
       "    </tr>\n",
       "    <tr>\n",
       "      <th>4</th>\n",
       "      <td>3</td>\n",
       "      <td>2</td>\n",
       "      <td>2</td>\n",
       "      <td>1</td>\n",
       "      <td>1</td>\n",
       "      <td>45</td>\n",
       "      <td>3.0</td>\n",
       "      <td>2</td>\n",
       "      <td>0</td>\n",
       "      <td>0</td>\n",
       "      <td>73</td>\n",
       "      <td>0</td>\n",
       "    </tr>\n",
       "  </tbody>\n",
       "</table>\n",
       "</div>"
      ],
      "text/plain": [
       "   department  education  gender  recruitment_channel  no_of_trainings  age  \\\n",
       "0           1          1       1                    2                1   35   \n",
       "1           2          2       2                    1                1   30   \n",
       "2           1          2       2                    2                1   34   \n",
       "3           1          2       2                    1                2   39   \n",
       "4           3          2       2                    1                1   45   \n",
       "\n",
       "   previous_year_rating  length_of_service  KPIs_met >80%  awards_won?  \\\n",
       "0                   5.0                  8              1            0   \n",
       "1                   5.0                  4              0            0   \n",
       "2                   3.0                  7              0            0   \n",
       "3                   1.0                 10              0            0   \n",
       "4                   3.0                  2              0            0   \n",
       "\n",
       "   avg_training_score  is_promoted  \n",
       "0                  49            0  \n",
       "1                  60            0  \n",
       "2                  50            0  \n",
       "3                  50            0  \n",
       "4                  73            0  "
      ]
     },
     "execution_count": 41,
     "metadata": {},
     "output_type": "execute_result"
    }
   ],
   "source": [
    "ml2.head()"
   ]
  },
  {
   "cell_type": "code",
   "execution_count": 42,
   "id": "5ae65c24",
   "metadata": {},
   "outputs": [],
   "source": [
    "# ml2.info()"
   ]
  },
  {
   "cell_type": "code",
   "execution_count": 43,
   "id": "d025564b",
   "metadata": {},
   "outputs": [
    {
     "name": "stdout",
     "output_type": "stream",
     "text": [
      "0    50140\n",
      "1     4668\n",
      "Name: is_promoted, dtype: int64\n"
     ]
    },
    {
     "data": {
      "image/png": "[encoded data removed]",
      "text/plain": [
       "<Figure size 432x288 with 1 Axes>"
      ]
     },
     "metadata": {
      "needs_background": "light"
     },
     "output_type": "display_data"
    }
   ],
   "source": [
    "sns.countplot(ml2.is_promoted)\n",
    "plt.grid()\n",
    "print(ml2.is_promoted.value_counts())\n",
    "plt.show()"
   ]
  },
  {
   "cell_type": "markdown",
   "id": "54adc084",
   "metadata": {},
   "source": [
    "## ML Models"
   ]
  },
  {
   "cell_type": "code",
   "execution_count": 44,
   "id": "c79db250",
   "metadata": {},
   "outputs": [],
   "source": [
    "lr = LogisticRegression()\n",
    "kn = KNeighborsClassifier()\n",
    "gnb = GaussianNB()\n",
    "svc = SVC(probability=True)\n",
    "rf = RandomForestClassifier()\n",
    "dt = DecisionTreeClassifier()\n",
    "gb = GradientBoostingClassifier()\n",
    "adb = AdaBoostClassifier()\n",
    "xgb = XGBClassifier()\n",
    "xgbrf = XGBRFClassifier()\n",
    "lgb = LGBMClassifier()\n",
    "cat = CatBoostClassifier(verbose=False)"
   ]
  },
  {
   "cell_type": "code",
   "execution_count": 45,
   "id": "ebc6939d",
   "metadata": {},
   "outputs": [],
   "source": [
    "x = ml2.drop('is_promoted',axis=1)\n",
    "y = ml2.is_promoted"
   ]
  },
  {
   "cell_type": "code",
   "execution_count": 46,
   "id": "0cce2a7a",
   "metadata": {},
   "outputs": [],
   "source": [
    "xtrain,xtest,ytrain,ytest = train_test_split(x,y,test_size=0.15, random_state=43)"
   ]
  },
  {
   "cell_type": "markdown",
   "id": "f18bd789",
   "metadata": {},
   "source": [
    "### Logistics Regression"
   ]
  },
  {
   "cell_type": "code",
   "execution_count": 47,
   "id": "0d46e154",
   "metadata": {},
   "outputs": [
    {
     "data": {
      "image/png": "[encoded data removed]",
      "text/plain": [
       "<Figure size 432x288 with 1 Axes>"
      ]
     },
     "metadata": {
      "needs_background": "light"
     },
     "output_type": "display_data"
    },
    {
     "name": "stdout",
     "output_type": "stream",
     "text": [
      "Accuracy : 0.9167131756321641\n",
      "\n",
      "Classification report :\n",
      "\n",
      "              precision    recall  f1-score   support\n",
      "\n",
      "           0       0.92      1.00      0.96     42626\n",
      "           1       0.59      0.07      0.12      3960\n",
      "\n",
      "    accuracy                           0.92     46586\n",
      "   macro avg       0.75      0.53      0.54     46586\n",
      "weighted avg       0.89      0.92      0.89     46586\n",
      "\n",
      "\n",
      "\n",
      " ------------------------------------------------------------------------------------------ \n",
      "\n",
      "\n"
     ]
    },
    {
     "data": {
      "image/png": "[encoded data removed]",
      "text/plain": [
       "<Figure size 432x288 with 1 Axes>"
      ]
     },
     "metadata": {
      "needs_background": "light"
     },
     "output_type": "display_data"
    },
    {
     "name": "stdout",
     "output_type": "stream",
     "text": [
      "Accuracy : 0.9165653125760156\n",
      "\n",
      "Classification report :\n",
      "\n",
      "              precision    recall  f1-score   support\n",
      "\n",
      "           0       0.92      1.00      0.96      7514\n",
      "           1       0.62      0.08      0.14       708\n",
      "\n",
      "    accuracy                           0.92      8222\n",
      "   macro avg       0.77      0.54      0.55      8222\n",
      "weighted avg       0.89      0.92      0.89      8222\n",
      "\n"
     ]
    }
   ],
   "source": [
    "lr.fit(xtrain,ytrain)\n",
    "lr_train_pred = lr.predict(xtrain)\n",
    "lr_train_pp = lr.predict_proba(xtrain)\n",
    "lr_train_pp = lr_train_pp[:,1]\n",
    "lr_train_acc = accuracy_score(ytrain,lr_train_pred)\n",
    "fpr, tpr, thresholds = roc_curve(ytrain, lr_train_pred)\n",
    "plt.plot(fpr, tpr, color='orange', label='ROC')\n",
    "plt.plot([0,1])\n",
    "plt.grid()\n",
    "plt.show()\n",
    "print('Accuracy :',lr_train_acc)\n",
    "print('\\nClassification report :\\n')\n",
    "print(classification_report(ytrain,lr_train_pred))\n",
    "print('\\n\\n','--'*45,'\\n\\n')\n",
    "lr.fit(xtrain,ytrain)\n",
    "lr_test_pred = lr.predict(xtest)\n",
    "lr_test_pp = lr.predict_proba(xtest)\n",
    "lr_test_pp = lr_test_pp[:,1]\n",
    "lr_test_acc = accuracy_score(ytest,lr_test_pred)\n",
    "fpr, tpr, thresholds = roc_curve(ytest, lr_test_pred)\n",
    "plt.plot(fpr, tpr, color='orange', label='ROC')\n",
    "plt.plot([0, 1], [0, 1], color='darkblue', linestyle='--',marker='o')\n",
    "plt.grid()\n",
    "plt.show()\n",
    "print('Accuracy :',lr_test_acc)\n",
    "print('\\nClassification report :\\n')\n",
    "print(classification_report(ytest,lr_test_pred))"
   ]
  },
  {
   "cell_type": "markdown",
   "id": "f00fe214",
   "metadata": {},
   "source": [
    "### KNN"
   ]
  },
  {
   "cell_type": "code",
   "execution_count": 48,
   "id": "b234a160",
   "metadata": {},
   "outputs": [
    {
     "data": {
      "image/png": "[encoded data removed]",
      "text/plain": [
       "<Figure size 432x288 with 1 Axes>"
      ]
     },
     "metadata": {
      "needs_background": "light"
     },
     "output_type": "display_data"
    },
    {
     "name": "stdout",
     "output_type": "stream",
     "text": [
      "Accuracy : 0.9336925256514833\n",
      "\n",
      "Classification report :\n",
      "\n",
      "              precision    recall  f1-score   support\n",
      "\n",
      "           0       0.93      1.00      0.96     42626\n",
      "           1       0.88      0.25      0.39      3960\n",
      "\n",
      "    accuracy                           0.93     46586\n",
      "   macro avg       0.91      0.62      0.68     46586\n",
      "weighted avg       0.93      0.93      0.92     46586\n",
      "\n",
      "\n",
      "\n",
      " ------------------------------------------------------------------------------------------ \n",
      "\n",
      "\n"
     ]
    },
    {
     "data": {
      "image/png": "[encoded data removed]",
      "text/plain": [
       "<Figure size 432x288 with 1 Axes>"
      ]
     },
     "metadata": {
      "needs_background": "light"
     },
     "output_type": "display_data"
    },
    {
     "name": "stdout",
     "output_type": "stream",
     "text": [
      "Accuracy : 0.9255655558258331\n",
      "\n",
      "Classification report :\n",
      "\n",
      "              precision    recall  f1-score   support\n",
      "\n",
      "           0       0.93      0.99      0.96      7514\n",
      "           1       0.74      0.21      0.32       708\n",
      "\n",
      "    accuracy                           0.93      8222\n",
      "   macro avg       0.84      0.60      0.64      8222\n",
      "weighted avg       0.91      0.93      0.91      8222\n",
      "\n"
     ]
    }
   ],
   "source": [
    "kn.fit(xtrain,ytrain)\n",
    "kn_train_pred = kn.predict(xtrain)\n",
    "kn_train_pp = kn.predict_proba(xtrain)\n",
    "kn_train_pp = kn_train_pp[:,1]\n",
    "kn_train_acc = accuracy_score(ytrain,kn_train_pred)\n",
    "fpr, tpr, thresholds = roc_curve(ytrain, kn_train_pred)\n",
    "plt.plot(fpr, tpr, color='orange', label='ROC')\n",
    "plt.plot([0,1])\n",
    "plt.grid()\n",
    "plt.show()\n",
    "print('Accuracy :',kn_train_acc)\n",
    "print('\\nClassification report :\\n')\n",
    "print(classification_report(ytrain,kn_train_pred))\n",
    "print('\\n\\n','--'*45,'\\n\\n')\n",
    "kn.fit(xtrain,ytrain)\n",
    "kn_test_pred = kn.predict(xtest)\n",
    "kn_test_pp = kn.predict_proba(xtest)\n",
    "kn_test_pp = kn_test_pp[:,1]\n",
    "kn_test_acc = accuracy_score(ytest,kn_test_pred)\n",
    "fpr, tpr, thresholds = roc_curve(ytest, kn_test_pred)\n",
    "plt.plot(fpr, tpr, color='orange', label='ROC')\n",
    "plt.plot([0, 1], [0, 1], color='darkblue', linestyle='--',marker='o')\n",
    "plt.grid()\n",
    "plt.show()\n",
    "print('Accuracy :',kn_test_acc)\n",
    "print('\\nClassification report :\\n')\n",
    "print(classification_report(ytest,kn_test_pred))"
   ]
  },
  {
   "cell_type": "markdown",
   "id": "53e4ce67",
   "metadata": {},
   "source": [
    "### Gausian Naive bayse"
   ]
  },
  {
   "cell_type": "code",
   "execution_count": 49,
   "id": "c79ec825",
   "metadata": {},
   "outputs": [
    {
     "data": {
      "image/png": "[encoded data removed]",
      "text/plain": [
       "<Figure size 432x288 with 1 Axes>"
      ]
     },
     "metadata": {
      "needs_background": "light"
     },
     "output_type": "display_data"
    },
    {
     "name": "stdout",
     "output_type": "stream",
     "text": [
      "Accuracy : 0.9128922852359078\n",
      "\n",
      "Classification report :\n",
      "\n",
      "              precision    recall  f1-score   support\n",
      "\n",
      "           0       0.92      0.99      0.95     42626\n",
      "           1       0.46      0.13      0.20      3960\n",
      "\n",
      "    accuracy                           0.91     46586\n",
      "   macro avg       0.69      0.56      0.58     46586\n",
      "weighted avg       0.88      0.91      0.89     46586\n",
      "\n",
      "\n",
      "\n",
      " ------------------------------------------------------------------------------------------ \n",
      "\n",
      "\n"
     ]
    },
    {
     "data": {
      "image/png": "[encoded data removed]",
      "text/plain": [
       "<Figure size 432x288 with 1 Axes>"
      ]
     },
     "metadata": {
      "needs_background": "light"
     },
     "output_type": "display_data"
    },
    {
     "name": "stdout",
     "output_type": "stream",
     "text": [
      "Accuracy : 0.9103624422281683\n",
      "\n",
      "Classification report :\n",
      "\n",
      "              precision    recall  f1-score   support\n",
      "\n",
      "           0       0.92      0.99      0.95      7514\n",
      "           1       0.43      0.12      0.18       708\n",
      "\n",
      "    accuracy                           0.91      8222\n",
      "   macro avg       0.67      0.55      0.57      8222\n",
      "weighted avg       0.88      0.91      0.89      8222\n",
      "\n"
     ]
    }
   ],
   "source": [
    "gnb.fit(xtrain,ytrain)\n",
    "gnb_train_pred = gnb.predict(xtrain)\n",
    "gnb_train_pp = gnb.predict_proba(xtrain)\n",
    "gnb_train_pp = gnb_train_pp[:,1]\n",
    "gnb_train_acc = accuracy_score(ytrain,gnb_train_pred)\n",
    "fpr, tpr, thresholds = roc_curve(ytrain, gnb_train_pred)\n",
    "plt.plot(fpr, tpr, color='orange', label='ROC')\n",
    "plt.plot([0,1])\n",
    "plt.grid()\n",
    "plt.show()\n",
    "print('Accuracy :',gnb_train_acc)\n",
    "print('\\nClassification report :\\n')\n",
    "print(classification_report(ytrain,gnb_train_pred))\n",
    "print('\\n\\n','--'*45,'\\n\\n')\n",
    "gnb.fit(xtrain,ytrain)\n",
    "gnb_test_pred = gnb.predict(xtest)\n",
    "gnb_test_pp = gnb.predict_proba(xtest)\n",
    "gnb_test_pp = gnb_test_pp[:,1]\n",
    "gnb_test_acc = accuracy_score(ytest,gnb_test_pred)\n",
    "fpr, tpr, thresholds = roc_curve(ytest, gnb_test_pred)\n",
    "plt.plot(fpr, tpr, color='orange', label='ROC')\n",
    "plt.plot([0, 1], [0, 1], color='darkblue', linestyle='--',marker='o')\n",
    "plt.grid()\n",
    "plt.show()\n",
    "print('Accuracy :',gnb_test_acc)\n",
    "print('\\nClassification report :\\n')\n",
    "print(classification_report(ytest,gnb_test_pred))"
   ]
  },
  {
   "cell_type": "markdown",
   "id": "12200975",
   "metadata": {},
   "source": [
    "### SVM Classifier"
   ]
  },
  {
   "cell_type": "code",
   "execution_count": 50,
   "id": "58423a34",
   "metadata": {},
   "outputs": [],
   "source": [
    "# svc.fit(xtrain,ytrain)\n",
    "# svc_train_pred = svc.predict(xtrain)\n",
    "# svc_train_pp = svc.predict_proba(xtrain)\n",
    "# svc_train_pp = svc_train_pp[:,1]\n",
    "# svc_train_acc = accuracy_score(ytrain,svc_train_pred)\n",
    "# fpr, tpr, thresholds = roc_curve(ytrain, svc_train_pred)\n",
    "# plt.plot(fpr, tpr, color='orange', label='ROC')\n",
    "# plt.plot([0,1])\n",
    "# plt.grid()\n",
    "# plt.show()\n",
    "# print('Accuracy :',svc_train_acc)\n",
    "# print('\\nClassification report :\\n')\n",
    "# print(classification_report(ytrain,svc_train_pred))\n",
    "\n",
    "# print('\\n\\n','--'*45,'\\n\\n')\n",
    "\n",
    "# svc.fit(xtrain,ytrain)\n",
    "# svc_test_pred = svc.predict(xtest)\n",
    "# svc_test_pp = svc.predict_proba(xtest)\n",
    "# svc_test_pp = svc_test_pp[:,1]\n",
    "# svc_test_acc = accuracy_score(ytest,svc_test_pred)\n",
    "# fpr, tpr, thresholds = roc_curve(ytest, svc_test_pred)\n",
    "# plt.plot(fpr, tpr, color='orange', label='ROC')\n",
    "# plt.plot([0, 1], [0, 1], color='darkblue', linestyle='--',marker='o')\n",
    "# plt.grid()\n",
    "# plt.show()\n",
    "# print('Accuracy :',svc_test_acc)\n",
    "# print('\\nClassification report :\\n')\n",
    "# print(classification_report(ytest,svc_test_pred))"
   ]
  },
  {
   "cell_type": "markdown",
   "id": "445b4389",
   "metadata": {},
   "source": [
    "### Decision Tree"
   ]
  },
  {
   "cell_type": "code",
   "execution_count": 51,
   "id": "f1a768f8",
   "metadata": {},
   "outputs": [
    {
     "data": {
      "image/png": "[encoded data removed]",
      "text/plain": [
       "<Figure size 432x288 with 1 Axes>"
      ]
     },
     "metadata": {
      "needs_background": "light"
     },
     "output_type": "display_data"
    },
    {
     "name": "stdout",
     "output_type": "stream",
     "text": [
      "Accuracy : 0.9966513544841797\n",
      "\n",
      "Classification report :\n",
      "\n",
      "              precision    recall  f1-score   support\n",
      "\n",
      "           0       1.00      1.00      1.00     42626\n",
      "           1       1.00      0.96      0.98      3960\n",
      "\n",
      "    accuracy                           1.00     46586\n",
      "   macro avg       1.00      0.98      0.99     46586\n",
      "weighted avg       1.00      1.00      1.00     46586\n",
      "\n",
      "\n",
      "\n",
      " ------------------------------------------------------------------------------------------ \n",
      "\n",
      "\n"
     ]
    },
    {
     "data": {
      "image/png": "[encoded data removed]",
      "text/plain": [
       "<Figure size 432x288 with 1 Axes>"
      ]
     },
     "metadata": {
      "needs_background": "light"
     },
     "output_type": "display_data"
    },
    {
     "name": "stdout",
     "output_type": "stream",
     "text": [
      "Accuracy : 0.8983215762588178\n",
      "\n",
      "Classification report :\n",
      "\n",
      "              precision    recall  f1-score   support\n",
      "\n",
      "           0       0.95      0.94      0.94      7514\n",
      "           1       0.42      0.48      0.45       708\n",
      "\n",
      "    accuracy                           0.90      8222\n",
      "   macro avg       0.69      0.71      0.70      8222\n",
      "weighted avg       0.90      0.90      0.90      8222\n",
      "\n"
     ]
    }
   ],
   "source": [
    "dt.fit(xtrain,ytrain)\n",
    "dt_train_pred = dt.predict(xtrain)\n",
    "dt_train_pp = dt.predict_proba(xtrain)\n",
    "dt_train_pp = dt_train_pp[:,1]\n",
    "dt_train_acc = accuracy_score(ytrain,dt_train_pred)\n",
    "fpr, tpr, thresholds = roc_curve(ytrain, dt_train_pred)\n",
    "plt.plot(fpr, tpr, color='orange', label='ROC')\n",
    "plt.plot([0,1])\n",
    "plt.grid()\n",
    "plt.show()\n",
    "print('Accuracy :',dt_train_acc)\n",
    "print('\\nClassification report :\\n')\n",
    "print(classification_report(ytrain,dt_train_pred))\n",
    "print('\\n\\n','--'*45,'\\n\\n')\n",
    "dt.fit(xtrain,ytrain)\n",
    "dt_test_pred = dt.predict(xtest)\n",
    "dt_test_pp = dt.predict_proba(xtest)\n",
    "dt_test_pp = dt_test_pp[:,1]\n",
    "dt_test_acc = accuracy_score(ytest,dt_test_pred)\n",
    "fpr, tpr, thresholds = roc_curve(ytest, dt_test_pred)\n",
    "plt.plot(fpr, tpr, color='orange', label='ROC')\n",
    "plt.plot([0, 1], [0, 1], color='darkblue', linestyle='--',marker='o')\n",
    "plt.grid()\n",
    "plt.show()\n",
    "print('Accuracy :',dt_test_acc)\n",
    "print('\\nClassification report :\\n')\n",
    "print(classification_report(ytest,dt_test_pred))"
   ]
  },
  {
   "cell_type": "code",
   "execution_count": null,
   "id": "dd56af43",
   "metadata": {},
   "outputs": [],
   "source": []
  },
  {
   "cell_type": "markdown",
   "id": "7e1db73e",
   "metadata": {},
   "source": [
    "### Random Forest"
   ]
  },
  {
   "cell_type": "code",
   "execution_count": 52,
   "id": "24bddc53",
   "metadata": {},
   "outputs": [
    {
     "data": {
      "image/png": "[encoded data removed]",
      "text/plain": [
       "<Figure size 432x288 with 1 Axes>"
      ]
     },
     "metadata": {
      "needs_background": "light"
     },
     "output_type": "display_data"
    },
    {
     "name": "stdout",
     "output_type": "stream",
     "text": [
      "Accuracy : 0.9966084231314128\n",
      "\n",
      "Classification report :\n",
      "\n",
      "              precision    recall  f1-score   support\n",
      "\n",
      "           0       1.00      1.00      1.00     42626\n",
      "           1       0.99      0.97      0.98      3960\n",
      "\n",
      "    accuracy                           1.00     46586\n",
      "   macro avg       1.00      0.98      0.99     46586\n",
      "weighted avg       1.00      1.00      1.00     46586\n",
      "\n",
      "\n",
      "\n",
      " ------------------------------------------------------------------------------------------ \n",
      "\n",
      "\n"
     ]
    },
    {
     "data": {
      "image/png": "[encoded data removed]",
      "text/plain": [
       "<Figure size 432x288 with 1 Axes>"
      ]
     },
     "metadata": {
      "needs_background": "light"
     },
     "output_type": "display_data"
    },
    {
     "name": "stdout",
     "output_type": "stream",
     "text": [
      "Accuracy : 0.9311603016297738\n",
      "\n",
      "Classification report :\n",
      "\n",
      "              precision    recall  f1-score   support\n",
      "\n",
      "           0       0.94      0.99      0.96      7514\n",
      "           1       0.72      0.33      0.45       708\n",
      "\n",
      "    accuracy                           0.93      8222\n",
      "   macro avg       0.83      0.66      0.71      8222\n",
      "weighted avg       0.92      0.93      0.92      8222\n",
      "\n"
     ]
    }
   ],
   "source": [
    "rf.fit(xtrain,ytrain)\n",
    "rf_train_pred = rf.predict(xtrain)\n",
    "rf_train_pp = rf.predict_proba(xtrain)\n",
    "rf_train_pp = rf_train_pp[:,1]\n",
    "rf_train_acc = accuracy_score(ytrain,rf_train_pred)\n",
    "fpr, tpr, thresholds = roc_curve(ytrain, rf_train_pred)\n",
    "plt.plot(fpr, tpr, color='orange', label='ROC')\n",
    "plt.plot([0,1])\n",
    "plt.grid()\n",
    "plt.show()\n",
    "print('Accuracy :',rf_train_acc)\n",
    "print('\\nClassification report :\\n')\n",
    "print(classification_report(ytrain,rf_train_pred))\n",
    "print('\\n\\n','--'*45,'\\n\\n')\n",
    "rf.fit(xtrain,ytrain)\n",
    "rf_test_pred = rf.predict(xtest)\n",
    "rf_test_pp = rf.predict_proba(xtest)\n",
    "rf_test_pp = rf_test_pp[:,1]\n",
    "rf_test_acc = accuracy_score(ytest,rf_test_pred)\n",
    "fpr, tpr, thresholds = roc_curve(ytest, rf_test_pred)\n",
    "plt.plot(fpr, tpr, color='orange', label='ROC')\n",
    "plt.plot([0, 1], [0, 1], color='darkblue', linestyle='--',marker='o')\n",
    "plt.grid()\n",
    "plt.show()\n",
    "print('Accuracy :',rf_test_acc)\n",
    "print('\\nClassification report :\\n')\n",
    "print(classification_report(ytest,rf_test_pred))"
   ]
  },
  {
   "cell_type": "markdown",
   "id": "14f93bfd",
   "metadata": {},
   "source": [
    "### XGB"
   ]
  },
  {
   "cell_type": "code",
   "execution_count": 53,
   "id": "2291f5c0",
   "metadata": {},
   "outputs": [
    {
     "name": "stdout",
     "output_type": "stream",
     "text": [
      "[11:17:26] WARNING: ../src/learner.cc:1115: Starting in XGBoost 1.3.0, the default evaluation metric used with the objective 'binary:logistic' was changed from 'error' to 'logloss'. Explicitly set eval_metric if you'd like to restore the old behavior.\n"
     ]
    },
    {
     "data": {
      "image/png": "[encoded data removed]",
      "text/plain": [
       "<Figure size 432x288 with 1 Axes>"
      ]
     },
     "metadata": {
      "needs_background": "light"
     },
     "output_type": "display_data"
    },
    {
     "name": "stdout",
     "output_type": "stream",
     "text": [
      "Accuracy : 0.9487614304726741\n",
      "\n",
      "Classification report :\n",
      "\n",
      "              precision    recall  f1-score   support\n",
      "\n",
      "           0       0.95      1.00      0.97     42626\n",
      "           1       0.97      0.41      0.58      3960\n",
      "\n",
      "    accuracy                           0.95     46586\n",
      "   macro avg       0.96      0.70      0.77     46586\n",
      "weighted avg       0.95      0.95      0.94     46586\n",
      "\n",
      "\n",
      "\n",
      " ------------------------------------------------------------------------------------------ \n",
      "\n",
      "\n",
      "[11:17:26] WARNING: ../src/learner.cc:1115: Starting in XGBoost 1.3.0, the default evaluation metric used with the objective 'binary:logistic' was changed from 'error' to 'logloss'. Explicitly set eval_metric if you'd like to restore the old behavior.\n"
     ]
    },
    {
     "data": {
      "image/png": "[encoded data removed]",
      "text/plain": [
       "<Figure size 432x288 with 1 Axes>"
      ]
     },
     "metadata": {
      "needs_background": "light"
     },
     "output_type": "display_data"
    },
    {
     "name": "stdout",
     "output_type": "stream",
     "text": [
      "Accuracy : 0.9421065434200925\n",
      "\n",
      "Classification report :\n",
      "\n",
      "              precision    recall  f1-score   support\n",
      "\n",
      "           0       0.94      1.00      0.97      7514\n",
      "           1       0.89      0.37      0.52       708\n",
      "\n",
      "    accuracy                           0.94      8222\n",
      "   macro avg       0.92      0.68      0.75      8222\n",
      "weighted avg       0.94      0.94      0.93      8222\n",
      "\n"
     ]
    }
   ],
   "source": [
    "xgb.fit(xtrain,ytrain)\n",
    "xgb_train_pred = xgb.predict(xtrain)\n",
    "xgb_train_pp = xgb.predict_proba(xtrain)\n",
    "xgb_train_pp = xgb_train_pp[:,1]\n",
    "xgb_train_acc = accuracy_score(ytrain,xgb_train_pred)\n",
    "fpr, tpr, thresholds = roc_curve(ytrain, xgb_train_pred)\n",
    "plt.plot(fpr, tpr, color='orange', label='ROC')\n",
    "plt.plot([0,1])\n",
    "plt.grid()\n",
    "plt.show()\n",
    "print('Accuracy :',xgb_train_acc)\n",
    "print('\\nClassification report :\\n')\n",
    "print(classification_report(ytrain,xgb_train_pred))\n",
    "print('\\n\\n','--'*45,'\\n\\n')\n",
    "xgb.fit(xtrain,ytrain)\n",
    "xgb_test_pred = xgb.predict(xtest)\n",
    "xgb_test_pp = xgb.predict_proba(xtest)\n",
    "xgb_test_pp = xgb_test_pp[:,1]\n",
    "xgb_test_acc = accuracy_score(ytest,xgb_test_pred)\n",
    "fpr, tpr, thresholds = roc_curve(ytest, xgb_test_pred)\n",
    "plt.plot(fpr, tpr, color='orange', label='ROC')\n",
    "plt.plot([0, 1], [0, 1], color='darkblue', linestyle='--',marker='o')\n",
    "plt.grid()\n",
    "plt.show()\n",
    "print('Accuracy :',xgb_test_acc)\n",
    "print('\\nClassification report :\\n')\n",
    "print(classification_report(ytest,xgb_test_pred))"
   ]
  },
  {
   "cell_type": "markdown",
   "id": "5454094e",
   "metadata": {},
   "source": [
    "### XGBRF"
   ]
  },
  {
   "cell_type": "code",
   "execution_count": 54,
   "id": "64f69e18",
   "metadata": {},
   "outputs": [
    {
     "name": "stdout",
     "output_type": "stream",
     "text": [
      "[11:17:28] WARNING: ../src/learner.cc:1115: Starting in XGBoost 1.3.0, the default evaluation metric used with the objective 'binary:logistic' was changed from 'error' to 'logloss'. Explicitly set eval_metric if you'd like to restore the old behavior.\n"
     ]
    },
    {
     "data": {
      "image/png": "[encoded data removed]",
      "text/plain": [
       "<Figure size 432x288 with 1 Axes>"
      ]
     },
     "metadata": {
      "needs_background": "light"
     },
     "output_type": "display_data"
    },
    {
     "name": "stdout",
     "output_type": "stream",
     "text": [
      "Accuracy : 0.9330056240072124\n",
      "\n",
      "Classification report :\n",
      "\n",
      "              precision    recall  f1-score   support\n",
      "\n",
      "           0       0.93      1.00      0.96     42626\n",
      "           1       0.96      0.22      0.36      3960\n",
      "\n",
      "    accuracy                           0.93     46586\n",
      "   macro avg       0.94      0.61      0.66     46586\n",
      "weighted avg       0.93      0.93      0.91     46586\n",
      "\n",
      "\n",
      "\n",
      " ------------------------------------------------------------------------------------------ \n",
      "\n",
      "\n",
      "[11:17:29] WARNING: ../src/learner.cc:1115: Starting in XGBoost 1.3.0, the default evaluation metric used with the objective 'binary:logistic' was changed from 'error' to 'logloss'. Explicitly set eval_metric if you'd like to restore the old behavior.\n"
     ]
    },
    {
     "data": {
      "image/png": "[encoded data removed]",
      "text/plain": [
       "<Figure size 432x288 with 1 Axes>"
      ]
     },
     "metadata": {
      "needs_background": "light"
     },
     "output_type": "display_data"
    },
    {
     "name": "stdout",
     "output_type": "stream",
     "text": [
      "Accuracy : 0.9327414254439309\n",
      "\n",
      "Classification report :\n",
      "\n",
      "              precision    recall  f1-score   support\n",
      "\n",
      "           0       0.93      1.00      0.96      7514\n",
      "           1       0.98      0.22      0.36       708\n",
      "\n",
      "    accuracy                           0.93      8222\n",
      "   macro avg       0.96      0.61      0.66      8222\n",
      "weighted avg       0.94      0.93      0.91      8222\n",
      "\n"
     ]
    }
   ],
   "source": [
    "xgbrf.fit(xtrain,ytrain)\n",
    "xgbrf_train_pred = xgbrf.predict(xtrain)\n",
    "xgbrf_train_pp = xgbrf.predict_proba(xtrain)\n",
    "xgbrf_train_pp = xgbrf_train_pp[:,1]\n",
    "xgbrf_train_acc = accuracy_score(ytrain,xgbrf_train_pred)\n",
    "fpr, tpr, thresholds = roc_curve(ytrain, xgbrf_train_pred)\n",
    "plt.plot(fpr, tpr, color='orange', label='ROC')\n",
    "plt.plot([0,1])\n",
    "plt.grid()\n",
    "plt.show()\n",
    "print('Accuracy :',xgbrf_train_acc)\n",
    "print('\\nClassification report :\\n')\n",
    "print(classification_report(ytrain,xgbrf_train_pred))\n",
    "print('\\n\\n','--'*45,'\\n\\n')\n",
    "xgbrf.fit(xtrain,ytrain)\n",
    "xgbrf_test_pred = xgbrf.predict(xtest)\n",
    "xgbrf_test_pp = xgbrf.predict_proba(xtest)\n",
    "xgbrf_test_pp = xgbrf_test_pp[:,1]\n",
    "xgbrf_test_acc = accuracy_score(ytest,xgbrf_test_pred)\n",
    "fpr, tpr, thresholds = roc_curve(ytest, xgbrf_test_pred)\n",
    "plt.plot(fpr, tpr, color='orange', label='ROC')\n",
    "plt.plot([0, 1], [0, 1], color='darkblue', linestyle='--',marker='o')\n",
    "plt.grid()\n",
    "plt.show()\n",
    "print('Accuracy :',xgbrf_test_acc)\n",
    "print('\\nClassification report :\\n')\n",
    "print(classification_report(ytest,xgbrf_test_pred))"
   ]
  },
  {
   "cell_type": "markdown",
   "id": "828e76d2",
   "metadata": {},
   "source": [
    "### Catboosting"
   ]
  },
  {
   "cell_type": "code",
   "execution_count": 55,
   "id": "e78859aa",
   "metadata": {},
   "outputs": [
    {
     "data": {
      "image/png": "[encoded data removed]",
      "text/plain": [
       "<Figure size 432x288 with 1 Axes>"
      ]
     },
     "metadata": {
      "needs_background": "light"
     },
     "output_type": "display_data"
    },
    {
     "name": "stdout",
     "output_type": "stream",
     "text": [
      "Accuracy : 0.9480745288284034\n",
      "\n",
      "Classification report :\n",
      "\n",
      "              precision    recall  f1-score   support\n",
      "\n",
      "           0       0.95      1.00      0.97     42626\n",
      "           1       0.98      0.40      0.56      3960\n",
      "\n",
      "    accuracy                           0.95     46586\n",
      "   macro avg       0.97      0.70      0.77     46586\n",
      "weighted avg       0.95      0.95      0.94     46586\n",
      "\n",
      "\n",
      "\n",
      " ------------------------------------------------------------------------------------------ \n",
      "\n",
      "\n"
     ]
    },
    {
     "data": {
      "image/png": "[encoded data removed]",
      "text/plain": [
       "<Figure size 432x288 with 1 Axes>"
      ]
     },
     "metadata": {
      "needs_background": "light"
     },
     "output_type": "display_data"
    },
    {
     "name": "stdout",
     "output_type": "stream",
     "text": [
      "Accuracy : 0.9428362928727804\n",
      "\n",
      "Classification report :\n",
      "\n",
      "              precision    recall  f1-score   support\n",
      "\n",
      "           0       0.94      1.00      0.97      7514\n",
      "           1       0.93      0.36      0.52       708\n",
      "\n",
      "    accuracy                           0.94      8222\n",
      "   macro avg       0.94      0.68      0.75      8222\n",
      "weighted avg       0.94      0.94      0.93      8222\n",
      "\n"
     ]
    }
   ],
   "source": [
    "cat.fit(xtrain,ytrain)\n",
    "cat_train_pred = cat.predict(xtrain)\n",
    "cat_train_pp = cat.predict_proba(xtrain)\n",
    "cat_train_pp = cat_train_pp[:,1]\n",
    "cat_train_acc = accuracy_score(ytrain,cat_train_pred)\n",
    "fpr, tpr, thresholds = roc_curve(ytrain, cat_train_pred)\n",
    "plt.plot(fpr, tpr, color='orange', label='ROC')\n",
    "plt.plot([0,1])\n",
    "plt.grid()\n",
    "plt.show()\n",
    "print('Accuracy :',cat_train_acc)\n",
    "print('\\nClassification report :\\n')\n",
    "print(classification_report(ytrain,cat_train_pred))\n",
    "print('\\n\\n','--'*45,'\\n\\n')\n",
    "cat.fit(xtrain,ytrain)\n",
    "cat_test_pred = cat.predict(xtest)\n",
    "cat_test_pp = cat.predict_proba(xtest)\n",
    "cat_test_pp = cat_test_pp[:,1]\n",
    "cat_test_acc = accuracy_score(ytest,cat_test_pred)\n",
    "fpr, tpr, thresholds = roc_curve(ytest, cat_test_pred)\n",
    "plt.plot(fpr, tpr, color='orange', label='ROC')\n",
    "plt.plot([0, 1], [0, 1], color='darkblue', linestyle='--',marker='o')\n",
    "plt.grid()\n",
    "plt.show()\n",
    "print('Accuracy :',cat_test_acc)\n",
    "print('\\nClassification report :\\n')\n",
    "print(classification_report(ytest,cat_test_pred))"
   ]
  },
  {
   "cell_type": "markdown",
   "id": "9da4e0c2",
   "metadata": {},
   "source": [
    "### Light GBM"
   ]
  },
  {
   "cell_type": "code",
   "execution_count": 56,
   "id": "5151dc9a",
   "metadata": {},
   "outputs": [
    {
     "data": {
      "image/png": "[encoded data removed]",
      "text/plain": [
       "<Figure size 432x288 with 1 Axes>"
      ]
     },
     "metadata": {
      "needs_background": "light"
     },
     "output_type": "display_data"
    },
    {
     "name": "stdout",
     "output_type": "stream",
     "text": [
      "Accuracy : 0.9447473489889666\n",
      "\n",
      "Classification report :\n",
      "\n",
      "              precision    recall  f1-score   support\n",
      "\n",
      "           0       0.94      1.00      0.97     42626\n",
      "           1       0.97      0.36      0.53      3960\n",
      "\n",
      "    accuracy                           0.94     46586\n",
      "   macro avg       0.96      0.68      0.75     46586\n",
      "weighted avg       0.95      0.94      0.93     46586\n",
      "\n",
      "\n",
      "\n",
      " ------------------------------------------------------------------------------------------ \n",
      "\n",
      "\n"
     ]
    },
    {
     "data": {
      "image/png": "[encoded data removed]",
      "text/plain": [
       "<Figure size 432x288 with 1 Axes>"
      ]
     },
     "metadata": {
      "needs_background": "light"
     },
     "output_type": "display_data"
    },
    {
     "name": "stdout",
     "output_type": "stream",
     "text": [
      "Accuracy : 0.9441741668693748\n",
      "\n",
      "Classification report :\n",
      "\n",
      "              precision    recall  f1-score   support\n",
      "\n",
      "           0       0.94      1.00      0.97      7514\n",
      "           1       0.96      0.37      0.53       708\n",
      "\n",
      "    accuracy                           0.94      8222\n",
      "   macro avg       0.95      0.68      0.75      8222\n",
      "weighted avg       0.95      0.94      0.93      8222\n",
      "\n"
     ]
    }
   ],
   "source": [
    "lgb.fit(xtrain,ytrain)\n",
    "lgb_train_pred = lgb.predict(xtrain)\n",
    "lgb_train_pp = lgb.predict_proba(xtrain)\n",
    "lgb_train_pp = lgb_train_pp[:,1]\n",
    "lgb_train_acc = accuracy_score(ytrain,lgb_train_pred)\n",
    "fpr, tpr, thresholds = roc_curve(ytrain, lgb_train_pred)\n",
    "plt.plot(fpr, tpr, color='orange', label='ROC')\n",
    "plt.plot([0,1])\n",
    "plt.grid()\n",
    "plt.show()\n",
    "print('Accuracy :',lgb_train_acc)\n",
    "print('\\nClassification report :\\n')\n",
    "print(classification_report(ytrain,lgb_train_pred))\n",
    "print('\\n\\n','--'*45,'\\n\\n')\n",
    "lgb.fit(xtrain,ytrain)\n",
    "lgb_test_pred = lgb.predict(xtest)\n",
    "lgb_test_pp = lgb.predict_proba(xtest)\n",
    "lgb_test_pp = lgb_test_pp[:,1]\n",
    "lgb_test_acc = accuracy_score(ytest,lgb_test_pred)\n",
    "fpr, tpr, thresholds = roc_curve(ytest, lgb_test_pred)\n",
    "plt.plot(fpr, tpr, color='orange', label='ROC')\n",
    "plt.plot([0, 1], [0, 1], color='darkblue', linestyle='--',marker='o')\n",
    "plt.grid()\n",
    "plt.show()\n",
    "print('Accuracy :',lgb_test_acc)\n",
    "print('\\nClassification report :\\n')\n",
    "print(classification_report(ytest,lgb_test_pred))"
   ]
  },
  {
   "cell_type": "code",
   "execution_count": null,
   "id": "3dafe391",
   "metadata": {},
   "outputs": [],
   "source": []
  },
  {
   "cell_type": "code",
   "execution_count": 59,
   "id": "d0bdfc47",
   "metadata": {},
   "outputs": [],
   "source": [
    "lr_test_pp = lr_test_pp.tolist()\n",
    "kn_test_pp = kn_test_pp.tolist()\n",
    "gnb_test_pp = gnb_test_pp.tolist()\n",
    "dt_test_pp = dt_test_pp.tolist()\n",
    "rf_test_pp = rf_test_pp.tolist()\n",
    "xgb_test_pp = xgb_test_pp.tolist()\n",
    "xgbrf_test_pp = xgbrf_test_pp.tolist()\n",
    "cat_test_pp = cat_test_pp.tolist()\n",
    "lgb_test_pp = lgb_test_pp.tolist()"
   ]
  },
  {
   "cell_type": "code",
   "execution_count": null,
   "id": "162c4ec9",
   "metadata": {},
   "outputs": [],
   "source": []
  },
  {
   "cell_type": "code",
   "execution_count": 60,
   "id": "a3b29a35",
   "metadata": {},
   "outputs": [],
   "source": [
    "mean_probas = pd.DataFrame({'lr_test_pp':lr_test_pp , 'kn_test_pp':kn_test_pp , 'gnb_test_pp':gnb_test_pp,'dt_test_pp':dt_test_pp,\n",
    "             'rf_test_pp':rf_test_pp,'xgb_test_pp':xgb_test_pp,'xgbrf_test_pp':xgbrf_test_pp,'cat_test_pp':cat_test_pp,\n",
    "             'lgb_test_pp':lgb_test_pp})"
   ]
  },
  {
   "cell_type": "code",
   "execution_count": 61,
   "id": "5db4705f",
   "metadata": {},
   "outputs": [
    {
     "data": {
      "text/html": [
       "<div>\n",
       "<style scoped>\n",
       "    .dataframe tbody tr th:only-of-type {\n",
       "        vertical-align: middle;\n",
       "    }\n",
       "\n",
       "    .dataframe tbody tr th {\n",
       "        vertical-align: top;\n",
       "    }\n",
       "\n",
       "    .dataframe thead th {\n",
       "        text-align: right;\n",
       "    }\n",
       "</style>\n",
       "<table border=\"1\" class=\"dataframe\">\n",
       "  <thead>\n",
       "    <tr style=\"text-align: right;\">\n",
       "      <th></th>\n",
       "      <th>lr_test_pp</th>\n",
       "      <th>kn_test_pp</th>\n",
       "      <th>gnb_test_pp</th>\n",
       "      <th>dt_test_pp</th>\n",
       "      <th>rf_test_pp</th>\n",
       "      <th>xgb_test_pp</th>\n",
       "      <th>xgbrf_test_pp</th>\n",
       "      <th>cat_test_pp</th>\n",
       "      <th>lgb_test_pp</th>\n",
       "    </tr>\n",
       "  </thead>\n",
       "  <tbody>\n",
       "    <tr>\n",
       "      <th>0</th>\n",
       "      <td>0.212094</td>\n",
       "      <td>0.4</td>\n",
       "      <td>0.083852</td>\n",
       "      <td>0.0</td>\n",
       "      <td>0.18</td>\n",
       "      <td>0.214577</td>\n",
       "      <td>0.204307</td>\n",
       "      <td>0.232207</td>\n",
       "      <td>0.227824</td>\n",
       "    </tr>\n",
       "    <tr>\n",
       "      <th>1</th>\n",
       "      <td>0.041922</td>\n",
       "      <td>0.0</td>\n",
       "      <td>0.054198</td>\n",
       "      <td>0.0</td>\n",
       "      <td>0.05</td>\n",
       "      <td>0.032700</td>\n",
       "      <td>0.133241</td>\n",
       "      <td>0.020500</td>\n",
       "      <td>0.033187</td>\n",
       "    </tr>\n",
       "    <tr>\n",
       "      <th>2</th>\n",
       "      <td>0.091065</td>\n",
       "      <td>0.0</td>\n",
       "      <td>0.042881</td>\n",
       "      <td>0.0</td>\n",
       "      <td>0.00</td>\n",
       "      <td>0.017563</td>\n",
       "      <td>0.132936</td>\n",
       "      <td>0.020344</td>\n",
       "      <td>0.021244</td>\n",
       "    </tr>\n",
       "    <tr>\n",
       "      <th>3</th>\n",
       "      <td>0.014569</td>\n",
       "      <td>0.0</td>\n",
       "      <td>0.002120</td>\n",
       "      <td>0.0</td>\n",
       "      <td>0.00</td>\n",
       "      <td>0.000015</td>\n",
       "      <td>0.120536</td>\n",
       "      <td>0.000003</td>\n",
       "      <td>0.000235</td>\n",
       "    </tr>\n",
       "    <tr>\n",
       "      <th>4</th>\n",
       "      <td>0.082890</td>\n",
       "      <td>0.0</td>\n",
       "      <td>0.037944</td>\n",
       "      <td>0.0</td>\n",
       "      <td>0.19</td>\n",
       "      <td>0.338605</td>\n",
       "      <td>0.191357</td>\n",
       "      <td>0.243513</td>\n",
       "      <td>0.181416</td>\n",
       "    </tr>\n",
       "  </tbody>\n",
       "</table>\n",
       "</div>"
      ],
      "text/plain": [
       "   lr_test_pp  kn_test_pp  gnb_test_pp  dt_test_pp  rf_test_pp  xgb_test_pp  \\\n",
       "0    0.212094         0.4     0.083852         0.0        0.18     0.214577   \n",
       "1    0.041922         0.0     0.054198         0.0        0.05     0.032700   \n",
       "2    0.091065         0.0     0.042881         0.0        0.00     0.017563   \n",
       "3    0.014569         0.0     0.002120         0.0        0.00     0.000015   \n",
       "4    0.082890         0.0     0.037944         0.0        0.19     0.338605   \n",
       "\n",
       "   xgbrf_test_pp  cat_test_pp  lgb_test_pp  \n",
       "0       0.204307     0.232207     0.227824  \n",
       "1       0.133241     0.020500     0.033187  \n",
       "2       0.132936     0.020344     0.021244  \n",
       "3       0.120536     0.000003     0.000235  \n",
       "4       0.191357     0.243513     0.181416  "
      ]
     },
     "execution_count": 61,
     "metadata": {},
     "output_type": "execute_result"
    }
   ],
   "source": [
    "mean_probas.head()"
   ]
  },
  {
   "cell_type": "code",
   "execution_count": 62,
   "id": "32782ba0",
   "metadata": {},
   "outputs": [],
   "source": [
    "# (0.212094+0.4+0.083852+0+0.23+0.214577+0.204307+0.232207+0.227824)/9"
   ]
  },
  {
   "cell_type": "code",
   "execution_count": 63,
   "id": "9ada452e",
   "metadata": {},
   "outputs": [],
   "source": [
    "mp = []\n",
    "for i in mean_probas.index:\n",
    "    mp.append(mean_probas.iloc[i].mean())\n"
   ]
  },
  {
   "cell_type": "markdown",
   "id": "acf5703e",
   "metadata": {},
   "source": [
    "### Choose if you want a single model's proba or the mean proba "
   ]
  },
  {
   "cell_type": "code",
   "execution_count": 64,
   "id": "64719257",
   "metadata": {},
   "outputs": [],
   "source": [
    "mean_probas['mean_proba'] = mp ## MEAN PROBA"
   ]
  },
  {
   "cell_type": "code",
   "execution_count": 65,
   "id": "f0d7a117",
   "metadata": {},
   "outputs": [],
   "source": [
    "# mean_probas['mean_proba'] = lgb_test_pp ## SINGLE MODEL PROBA"
   ]
  },
  {
   "cell_type": "code",
   "execution_count": 66,
   "id": "84fecfef",
   "metadata": {},
   "outputs": [],
   "source": [
    "fpr,tpr,threshold = roc_curve(ytest,mean_probas['mean_proba'])"
   ]
  },
  {
   "cell_type": "code",
   "execution_count": 67,
   "id": "257f0fd3",
   "metadata": {},
   "outputs": [],
   "source": [
    "final_probas = mean_probas['mean_proba']"
   ]
  },
  {
   "cell_type": "code",
   "execution_count": 68,
   "id": "7fe93246",
   "metadata": {},
   "outputs": [
    {
     "name": "stdout",
     "output_type": "stream",
     "text": [
      "\n",
      "len of dataframe :  959\n"
     ]
    },
    {
     "data": {
      "text/html": [
       "<div>\n",
       "<style scoped>\n",
       "    .dataframe tbody tr th:only-of-type {\n",
       "        vertical-align: middle;\n",
       "    }\n",
       "\n",
       "    .dataframe tbody tr th {\n",
       "        vertical-align: top;\n",
       "    }\n",
       "\n",
       "    .dataframe thead th {\n",
       "        text-align: right;\n",
       "    }\n",
       "</style>\n",
       "<table border=\"1\" class=\"dataframe\">\n",
       "  <thead>\n",
       "    <tr style=\"text-align: right;\">\n",
       "      <th></th>\n",
       "      <th>threshold</th>\n",
       "      <th>fpr</th>\n",
       "      <th>tpr</th>\n",
       "    </tr>\n",
       "  </thead>\n",
       "  <tbody>\n",
       "    <tr>\n",
       "      <th>0</th>\n",
       "      <td>1.973796</td>\n",
       "      <td>0.000000</td>\n",
       "      <td>0.000000</td>\n",
       "    </tr>\n",
       "    <tr>\n",
       "      <th>1</th>\n",
       "      <td>0.973796</td>\n",
       "      <td>0.000000</td>\n",
       "      <td>0.001412</td>\n",
       "    </tr>\n",
       "    <tr>\n",
       "      <th>2</th>\n",
       "      <td>0.609055</td>\n",
       "      <td>0.000000</td>\n",
       "      <td>0.233051</td>\n",
       "    </tr>\n",
       "    <tr>\n",
       "      <th>3</th>\n",
       "      <td>0.607780</td>\n",
       "      <td>0.000133</td>\n",
       "      <td>0.233051</td>\n",
       "    </tr>\n",
       "    <tr>\n",
       "      <th>4</th>\n",
       "      <td>0.574953</td>\n",
       "      <td>0.000133</td>\n",
       "      <td>0.266949</td>\n",
       "    </tr>\n",
       "    <tr>\n",
       "      <th>5</th>\n",
       "      <td>0.574497</td>\n",
       "      <td>0.000266</td>\n",
       "      <td>0.266949</td>\n",
       "    </tr>\n",
       "    <tr>\n",
       "      <th>6</th>\n",
       "      <td>0.572164</td>\n",
       "      <td>0.000266</td>\n",
       "      <td>0.269774</td>\n",
       "    </tr>\n",
       "    <tr>\n",
       "      <th>7</th>\n",
       "      <td>0.572070</td>\n",
       "      <td>0.000399</td>\n",
       "      <td>0.269774</td>\n",
       "    </tr>\n",
       "    <tr>\n",
       "      <th>8</th>\n",
       "      <td>0.556426</td>\n",
       "      <td>0.000399</td>\n",
       "      <td>0.295198</td>\n",
       "    </tr>\n",
       "    <tr>\n",
       "      <th>9</th>\n",
       "      <td>0.550765</td>\n",
       "      <td>0.000665</td>\n",
       "      <td>0.295198</td>\n",
       "    </tr>\n",
       "  </tbody>\n",
       "</table>\n",
       "</div>"
      ],
      "text/plain": [
       "   threshold       fpr       tpr\n",
       "0   1.973796  0.000000  0.000000\n",
       "1   0.973796  0.000000  0.001412\n",
       "2   0.609055  0.000000  0.233051\n",
       "3   0.607780  0.000133  0.233051\n",
       "4   0.574953  0.000133  0.266949\n",
       "5   0.574497  0.000266  0.266949\n",
       "6   0.572164  0.000266  0.269774\n",
       "7   0.572070  0.000399  0.269774\n",
       "8   0.556426  0.000399  0.295198\n",
       "9   0.550765  0.000665  0.295198"
      ]
     },
     "execution_count": 68,
     "metadata": {},
     "output_type": "execute_result"
    }
   ],
   "source": [
    "print('\\nlen of dataframe : ',len(pd.DataFrame({'threshold':threshold , 'fpr':fpr, 'tpr':tpr})))\n",
    "pd.DataFrame({'threshold':threshold , 'fpr':fpr, 'tpr':tpr}).head(10)"
   ]
  },
  {
   "cell_type": "code",
   "execution_count": 71,
   "id": "1774a180",
   "metadata": {},
   "outputs": [],
   "source": [
    "# final_probas"
   ]
  },
  {
   "cell_type": "code",
   "execution_count": 70,
   "id": "0f27f8a6",
   "metadata": {},
   "outputs": [
    {
     "data": {
      "text/html": [
       "<div>\n",
       "<style scoped>\n",
       "    .dataframe tbody tr th:only-of-type {\n",
       "        vertical-align: middle;\n",
       "    }\n",
       "\n",
       "    .dataframe tbody tr th {\n",
       "        vertical-align: top;\n",
       "    }\n",
       "\n",
       "    .dataframe thead th {\n",
       "        text-align: right;\n",
       "    }\n",
       "</style>\n",
       "<table border=\"1\" class=\"dataframe\">\n",
       "  <thead>\n",
       "    <tr style=\"text-align: right;\">\n",
       "      <th></th>\n",
       "      <th>Threshold</th>\n",
       "      <th>Accuracies</th>\n",
       "    </tr>\n",
       "  </thead>\n",
       "  <tbody>\n",
       "    <tr>\n",
       "      <th>50</th>\n",
       "      <td>0.391228</td>\n",
       "      <td>0.526725</td>\n",
       "    </tr>\n",
       "    <tr>\n",
       "      <th>51</th>\n",
       "      <td>0.385416</td>\n",
       "      <td>0.526112</td>\n",
       "    </tr>\n",
       "    <tr>\n",
       "      <th>52</th>\n",
       "      <td>0.384527</td>\n",
       "      <td>0.525604</td>\n",
       "    </tr>\n",
       "    <tr>\n",
       "      <th>59</th>\n",
       "      <td>0.367229</td>\n",
       "      <td>0.523719</td>\n",
       "    </tr>\n",
       "    <tr>\n",
       "      <th>39</th>\n",
       "      <td>0.425033</td>\n",
       "      <td>0.523571</td>\n",
       "    </tr>\n",
       "    <tr>\n",
       "      <th>...</th>\n",
       "      <td>...</td>\n",
       "      <td>...</td>\n",
       "    </tr>\n",
       "    <tr>\n",
       "      <th>956</th>\n",
       "      <td>0.014348</td>\n",
       "      <td>0.159747</td>\n",
       "    </tr>\n",
       "    <tr>\n",
       "      <th>957</th>\n",
       "      <td>0.014342</td>\n",
       "      <td>0.159729</td>\n",
       "    </tr>\n",
       "    <tr>\n",
       "      <th>958</th>\n",
       "      <td>0.013662</td>\n",
       "      <td>0.158584</td>\n",
       "    </tr>\n",
       "    <tr>\n",
       "      <th>1</th>\n",
       "      <td>0.973796</td>\n",
       "      <td>0.000000</td>\n",
       "    </tr>\n",
       "    <tr>\n",
       "      <th>0</th>\n",
       "      <td>1.973796</td>\n",
       "      <td>0.000000</td>\n",
       "    </tr>\n",
       "  </tbody>\n",
       "</table>\n",
       "<p>959 rows × 2 columns</p>\n",
       "</div>"
      ],
      "text/plain": [
       "     Threshold  Accuracies\n",
       "50    0.391228    0.526725\n",
       "51    0.385416    0.526112\n",
       "52    0.384527    0.525604\n",
       "59    0.367229    0.523719\n",
       "39    0.425033    0.523571\n",
       "..         ...         ...\n",
       "956   0.014348    0.159747\n",
       "957   0.014342    0.159729\n",
       "958   0.013662    0.158584\n",
       "1     0.973796    0.000000\n",
       "0     1.973796    0.000000\n",
       "\n",
       "[959 rows x 2 columns]"
      ]
     },
     "execution_count": 70,
     "metadata": {},
     "output_type": "execute_result"
    }
   ],
   "source": [
    "acc=[]\n",
    "for i in threshold:\n",
    "    ypred = np.where(final_probas>i,1,0)\n",
    "    acc.append(f1_score(ytest,ypred))\n",
    "    \n",
    "decider = pd.concat([pd.Series(threshold),pd.Series(acc)],axis=1)\n",
    "decider.rename(columns = {0: 'Threshold', 1: 'Accuracies'}, inplace = True)\n",
    "decider.sort_values('Accuracies',ascending=False)\n"
   ]
  },
  {
   "cell_type": "code",
   "execution_count": null,
   "id": "4018ad9a",
   "metadata": {},
   "outputs": [],
   "source": []
  },
  {
   "cell_type": "code",
   "execution_count": 72,
   "id": "c34981f4",
   "metadata": {},
   "outputs": [],
   "source": [
    "fins = []\n",
    "for i in mean_probas.mean_proba:\n",
    "    if i > 0.391228:\n",
    "        fins.append(1)\n",
    "    else:\n",
    "        fins.append(0)\n",
    "mean_probas['predictions'] = fins\n"
   ]
  },
  {
   "cell_type": "code",
   "execution_count": 73,
   "id": "55ed05c3",
   "metadata": {},
   "outputs": [
    {
     "data": {
      "text/html": [
       "<div>\n",
       "<style scoped>\n",
       "    .dataframe tbody tr th:only-of-type {\n",
       "        vertical-align: middle;\n",
       "    }\n",
       "\n",
       "    .dataframe tbody tr th {\n",
       "        vertical-align: top;\n",
       "    }\n",
       "\n",
       "    .dataframe thead th {\n",
       "        text-align: right;\n",
       "    }\n",
       "</style>\n",
       "<table border=\"1\" class=\"dataframe\">\n",
       "  <thead>\n",
       "    <tr style=\"text-align: right;\">\n",
       "      <th></th>\n",
       "      <th>lr_test_pp</th>\n",
       "      <th>kn_test_pp</th>\n",
       "      <th>gnb_test_pp</th>\n",
       "      <th>dt_test_pp</th>\n",
       "      <th>rf_test_pp</th>\n",
       "      <th>xgb_test_pp</th>\n",
       "      <th>xgbrf_test_pp</th>\n",
       "      <th>cat_test_pp</th>\n",
       "      <th>lgb_test_pp</th>\n",
       "      <th>mean_proba</th>\n",
       "      <th>predictions</th>\n",
       "    </tr>\n",
       "  </thead>\n",
       "  <tbody>\n",
       "    <tr>\n",
       "      <th>0</th>\n",
       "      <td>0.212094</td>\n",
       "      <td>0.4</td>\n",
       "      <td>0.083852</td>\n",
       "      <td>0.0</td>\n",
       "      <td>0.18</td>\n",
       "      <td>0.214577</td>\n",
       "      <td>0.204307</td>\n",
       "      <td>0.232207</td>\n",
       "      <td>0.227824</td>\n",
       "      <td>0.194984</td>\n",
       "      <td>0</td>\n",
       "    </tr>\n",
       "    <tr>\n",
       "      <th>1</th>\n",
       "      <td>0.041922</td>\n",
       "      <td>0.0</td>\n",
       "      <td>0.054198</td>\n",
       "      <td>0.0</td>\n",
       "      <td>0.05</td>\n",
       "      <td>0.032700</td>\n",
       "      <td>0.133241</td>\n",
       "      <td>0.020500</td>\n",
       "      <td>0.033187</td>\n",
       "      <td>0.040639</td>\n",
       "      <td>0</td>\n",
       "    </tr>\n",
       "    <tr>\n",
       "      <th>2</th>\n",
       "      <td>0.091065</td>\n",
       "      <td>0.0</td>\n",
       "      <td>0.042881</td>\n",
       "      <td>0.0</td>\n",
       "      <td>0.00</td>\n",
       "      <td>0.017563</td>\n",
       "      <td>0.132936</td>\n",
       "      <td>0.020344</td>\n",
       "      <td>0.021244</td>\n",
       "      <td>0.036226</td>\n",
       "      <td>0</td>\n",
       "    </tr>\n",
       "    <tr>\n",
       "      <th>3</th>\n",
       "      <td>0.014569</td>\n",
       "      <td>0.0</td>\n",
       "      <td>0.002120</td>\n",
       "      <td>0.0</td>\n",
       "      <td>0.00</td>\n",
       "      <td>0.000015</td>\n",
       "      <td>0.120536</td>\n",
       "      <td>0.000003</td>\n",
       "      <td>0.000235</td>\n",
       "      <td>0.015275</td>\n",
       "      <td>0</td>\n",
       "    </tr>\n",
       "    <tr>\n",
       "      <th>4</th>\n",
       "      <td>0.082890</td>\n",
       "      <td>0.0</td>\n",
       "      <td>0.037944</td>\n",
       "      <td>0.0</td>\n",
       "      <td>0.19</td>\n",
       "      <td>0.338605</td>\n",
       "      <td>0.191357</td>\n",
       "      <td>0.243513</td>\n",
       "      <td>0.181416</td>\n",
       "      <td>0.140636</td>\n",
       "      <td>0</td>\n",
       "    </tr>\n",
       "  </tbody>\n",
       "</table>\n",
       "</div>"
      ],
      "text/plain": [
       "   lr_test_pp  kn_test_pp  gnb_test_pp  dt_test_pp  rf_test_pp  xgb_test_pp  \\\n",
       "0    0.212094         0.4     0.083852         0.0        0.18     0.214577   \n",
       "1    0.041922         0.0     0.054198         0.0        0.05     0.032700   \n",
       "2    0.091065         0.0     0.042881         0.0        0.00     0.017563   \n",
       "3    0.014569         0.0     0.002120         0.0        0.00     0.000015   \n",
       "4    0.082890         0.0     0.037944         0.0        0.19     0.338605   \n",
       "\n",
       "   xgbrf_test_pp  cat_test_pp  lgb_test_pp  mean_proba  predictions  \n",
       "0       0.204307     0.232207     0.227824    0.194984            0  \n",
       "1       0.133241     0.020500     0.033187    0.040639            0  \n",
       "2       0.132936     0.020344     0.021244    0.036226            0  \n",
       "3       0.120536     0.000003     0.000235    0.015275            0  \n",
       "4       0.191357     0.243513     0.181416    0.140636            0  "
      ]
     },
     "execution_count": 73,
     "metadata": {},
     "output_type": "execute_result"
    }
   ],
   "source": [
    "mean_probas.head()"
   ]
  },
  {
   "cell_type": "code",
   "execution_count": null,
   "id": "0115a2aa",
   "metadata": {},
   "outputs": [],
   "source": []
  },
  {
   "cell_type": "code",
   "execution_count": 74,
   "id": "7eaa089e",
   "metadata": {},
   "outputs": [
    {
     "name": "stdout",
     "output_type": "stream",
     "text": [
      "\n",
      "\n"
     ]
    },
    {
     "data": {
      "image/png": "[encoded data removed]",
      "text/plain": [
       "<Figure size 432x288 with 2 Axes>"
      ]
     },
     "metadata": {
      "needs_background": "light"
     },
     "output_type": "display_data"
    },
    {
     "name": "stdout",
     "output_type": "stream",
     "text": [
      "[[7464  437]\n",
      " [  50  271]]\n",
      "              precision    recall  f1-score   support\n",
      "\n",
      "           0       0.94      0.99      0.97      7514\n",
      "           1       0.84      0.38      0.53       708\n",
      "\n",
      "    accuracy                           0.94      8222\n",
      "   macro avg       0.89      0.69      0.75      8222\n",
      "weighted avg       0.94      0.94      0.93      8222\n",
      "\n",
      "ROC AUC Score : 0.6880570580866752\n"
     ]
    },
    {
     "data": {
      "image/png": "[encoded data removed]",
      "text/plain": [
       "<Figure size 432x288 with 1 Axes>"
      ]
     },
     "metadata": {
      "needs_background": "light"
     },
     "output_type": "display_data"
    }
   ],
   "source": [
    "\n",
    "\n",
    "mean_cm = confusion_matrix(ytest,fins)\n",
    "# print(mean_cm.transpose())\n",
    "print('\\n')\n",
    "# print(mean_cm)\n",
    "# print('\\n')\n",
    "sns.heatmap(mean_cm.transpose(),annot=True)\n",
    "plt.tick_params(labeltop=True,labelbottom=False)\n",
    "\n",
    "plt.show()\n",
    "print(confusion_matrix(ytest,fins).transpose())\n",
    "print(classification_report(ytest,fins))\n",
    "plt.plot(fpr,tpr,linestyle='--')\n",
    "plt.plot([0,1],[0,1],linestyle='--')\n",
    "plt.xticks(np.arange(0,1.1,0.1))\n",
    "plt.yticks(np.arange(0,1.1,0.1))\n",
    "plt.xlabel('FPR')\n",
    "plt.ylabel('TPR')\n",
    "plt.title('Roc-Auc-Curve')\n",
    "plt.grid()\n",
    "print('ROC AUC Score :',roc_auc_score(ytest,fins))\n",
    "plt.show()\n",
    "\n"
   ]
  },
  {
   "cell_type": "code",
   "execution_count": 75,
   "id": "9f553124",
   "metadata": {},
   "outputs": [],
   "source": [
    "final_threshold = threshold[50]"
   ]
  },
  {
   "cell_type": "code",
   "execution_count": 76,
   "id": "fee27df8",
   "metadata": {},
   "outputs": [
    {
     "data": {
      "text/plain": [
       "0.3912278925365656"
      ]
     },
     "execution_count": 76,
     "metadata": {},
     "output_type": "execute_result"
    }
   ],
   "source": [
    "final_threshold"
   ]
  },
  {
   "cell_type": "code",
   "execution_count": null,
   "id": "6996d3aa",
   "metadata": {},
   "outputs": [],
   "source": []
  },
  {
   "cell_type": "code",
   "execution_count": null,
   "id": "c7c06860",
   "metadata": {},
   "outputs": [],
   "source": []
  },
  {
   "cell_type": "markdown",
   "id": "34f3dca4",
   "metadata": {},
   "source": [
    "### Test data"
   ]
  },
  {
   "cell_type": "code",
   "execution_count": 77,
   "id": "6ca6bfd1",
   "metadata": {},
   "outputs": [],
   "source": [
    "test = pd.read_csv('test_2umaH9m.csv')"
   ]
  },
  {
   "cell_type": "code",
   "execution_count": 78,
   "id": "77aa3b6c",
   "metadata": {},
   "outputs": [
    {
     "data": {
      "text/html": [
       "<div>\n",
       "<style scoped>\n",
       "    .dataframe tbody tr th:only-of-type {\n",
       "        vertical-align: middle;\n",
       "    }\n",
       "\n",
       "    .dataframe tbody tr th {\n",
       "        vertical-align: top;\n",
       "    }\n",
       "\n",
       "    .dataframe thead th {\n",
       "        text-align: right;\n",
       "    }\n",
       "</style>\n",
       "<table border=\"1\" class=\"dataframe\">\n",
       "  <thead>\n",
       "    <tr style=\"text-align: right;\">\n",
       "      <th></th>\n",
       "      <th>employee_id</th>\n",
       "      <th>department</th>\n",
       "      <th>region</th>\n",
       "      <th>education</th>\n",
       "      <th>gender</th>\n",
       "      <th>recruitment_channel</th>\n",
       "      <th>no_of_trainings</th>\n",
       "      <th>age</th>\n",
       "      <th>previous_year_rating</th>\n",
       "      <th>length_of_service</th>\n",
       "      <th>KPIs_met &gt;80%</th>\n",
       "      <th>awards_won?</th>\n",
       "      <th>avg_training_score</th>\n",
       "    </tr>\n",
       "  </thead>\n",
       "  <tbody>\n",
       "    <tr>\n",
       "      <th>0</th>\n",
       "      <td>8724</td>\n",
       "      <td>Technology</td>\n",
       "      <td>region_26</td>\n",
       "      <td>Bachelor's</td>\n",
       "      <td>m</td>\n",
       "      <td>sourcing</td>\n",
       "      <td>1</td>\n",
       "      <td>24</td>\n",
       "      <td>NaN</td>\n",
       "      <td>1</td>\n",
       "      <td>1</td>\n",
       "      <td>0</td>\n",
       "      <td>77</td>\n",
       "    </tr>\n",
       "    <tr>\n",
       "      <th>1</th>\n",
       "      <td>74430</td>\n",
       "      <td>HR</td>\n",
       "      <td>region_4</td>\n",
       "      <td>Bachelor's</td>\n",
       "      <td>f</td>\n",
       "      <td>other</td>\n",
       "      <td>1</td>\n",
       "      <td>31</td>\n",
       "      <td>3.0</td>\n",
       "      <td>5</td>\n",
       "      <td>0</td>\n",
       "      <td>0</td>\n",
       "      <td>51</td>\n",
       "    </tr>\n",
       "    <tr>\n",
       "      <th>2</th>\n",
       "      <td>72255</td>\n",
       "      <td>Sales &amp; Marketing</td>\n",
       "      <td>region_13</td>\n",
       "      <td>Bachelor's</td>\n",
       "      <td>m</td>\n",
       "      <td>other</td>\n",
       "      <td>1</td>\n",
       "      <td>31</td>\n",
       "      <td>1.0</td>\n",
       "      <td>4</td>\n",
       "      <td>0</td>\n",
       "      <td>0</td>\n",
       "      <td>47</td>\n",
       "    </tr>\n",
       "    <tr>\n",
       "      <th>3</th>\n",
       "      <td>38562</td>\n",
       "      <td>Procurement</td>\n",
       "      <td>region_2</td>\n",
       "      <td>Bachelor's</td>\n",
       "      <td>f</td>\n",
       "      <td>other</td>\n",
       "      <td>3</td>\n",
       "      <td>31</td>\n",
       "      <td>2.0</td>\n",
       "      <td>9</td>\n",
       "      <td>0</td>\n",
       "      <td>0</td>\n",
       "      <td>65</td>\n",
       "    </tr>\n",
       "    <tr>\n",
       "      <th>4</th>\n",
       "      <td>64486</td>\n",
       "      <td>Finance</td>\n",
       "      <td>region_29</td>\n",
       "      <td>Bachelor's</td>\n",
       "      <td>m</td>\n",
       "      <td>sourcing</td>\n",
       "      <td>1</td>\n",
       "      <td>30</td>\n",
       "      <td>4.0</td>\n",
       "      <td>7</td>\n",
       "      <td>0</td>\n",
       "      <td>0</td>\n",
       "      <td>61</td>\n",
       "    </tr>\n",
       "  </tbody>\n",
       "</table>\n",
       "</div>"
      ],
      "text/plain": [
       "   employee_id         department     region   education gender  \\\n",
       "0         8724         Technology  region_26  Bachelor's      m   \n",
       "1        74430                 HR   region_4  Bachelor's      f   \n",
       "2        72255  Sales & Marketing  region_13  Bachelor's      m   \n",
       "3        38562        Procurement   region_2  Bachelor's      f   \n",
       "4        64486            Finance  region_29  Bachelor's      m   \n",
       "\n",
       "  recruitment_channel  no_of_trainings  age  previous_year_rating  \\\n",
       "0            sourcing                1   24                   NaN   \n",
       "1               other                1   31                   3.0   \n",
       "2               other                1   31                   1.0   \n",
       "3               other                3   31                   2.0   \n",
       "4            sourcing                1   30                   4.0   \n",
       "\n",
       "   length_of_service  KPIs_met >80%  awards_won?  avg_training_score  \n",
       "0                  1              1            0                  77  \n",
       "1                  5              0            0                  51  \n",
       "2                  4              0            0                  47  \n",
       "3                  9              0            0                  65  \n",
       "4                  7              0            0                  61  "
      ]
     },
     "execution_count": 78,
     "metadata": {},
     "output_type": "execute_result"
    }
   ],
   "source": [
    "test.head()"
   ]
  },
  {
   "cell_type": "code",
   "execution_count": 79,
   "id": "284fb64f",
   "metadata": {},
   "outputs": [
    {
     "name": "stdout",
     "output_type": "stream",
     "text": [
      "<class 'pandas.core.frame.DataFrame'>\n",
      "RangeIndex: 23490 entries, 0 to 23489\n",
      "Data columns (total 13 columns):\n",
      " #   Column                Non-Null Count  Dtype  \n",
      "---  ------                --------------  -----  \n",
      " 0   employee_id           23490 non-null  int64  \n",
      " 1   department            23490 non-null  object \n",
      " 2   region                23490 non-null  object \n",
      " 3   education             22456 non-null  object \n",
      " 4   gender                23490 non-null  object \n",
      " 5   recruitment_channel   23490 non-null  object \n",
      " 6   no_of_trainings       23490 non-null  int64  \n",
      " 7   age                   23490 non-null  int64  \n",
      " 8   previous_year_rating  21678 non-null  float64\n",
      " 9   length_of_service     23490 non-null  int64  \n",
      " 10  KPIs_met >80%         23490 non-null  int64  \n",
      " 11  awards_won?           23490 non-null  int64  \n",
      " 12  avg_training_score    23490 non-null  int64  \n",
      "dtypes: float64(1), int64(7), object(5)\n",
      "memory usage: 2.3+ MB\n"
     ]
    }
   ],
   "source": [
    "test.info()"
   ]
  },
  {
   "cell_type": "code",
   "execution_count": 80,
   "id": "d6e6902d",
   "metadata": {},
   "outputs": [
    {
     "data": {
      "text/html": [
       "<div>\n",
       "<style scoped>\n",
       "    .dataframe tbody tr th:only-of-type {\n",
       "        vertical-align: middle;\n",
       "    }\n",
       "\n",
       "    .dataframe tbody tr th {\n",
       "        vertical-align: top;\n",
       "    }\n",
       "\n",
       "    .dataframe thead th {\n",
       "        text-align: right;\n",
       "    }\n",
       "</style>\n",
       "<table border=\"1\" class=\"dataframe\">\n",
       "  <thead>\n",
       "    <tr style=\"text-align: right;\">\n",
       "      <th></th>\n",
       "      <th>count</th>\n",
       "      <th>mean</th>\n",
       "      <th>std</th>\n",
       "      <th>min</th>\n",
       "      <th>25%</th>\n",
       "      <th>50%</th>\n",
       "      <th>75%</th>\n",
       "      <th>max</th>\n",
       "    </tr>\n",
       "  </thead>\n",
       "  <tbody>\n",
       "    <tr>\n",
       "      <th>employee_id</th>\n",
       "      <td>23490.0</td>\n",
       "      <td>39041.399149</td>\n",
       "      <td>22640.809201</td>\n",
       "      <td>3.0</td>\n",
       "      <td>19370.25</td>\n",
       "      <td>38963.5</td>\n",
       "      <td>58690.0</td>\n",
       "      <td>78295.0</td>\n",
       "    </tr>\n",
       "    <tr>\n",
       "      <th>no_of_trainings</th>\n",
       "      <td>23490.0</td>\n",
       "      <td>1.254236</td>\n",
       "      <td>0.600910</td>\n",
       "      <td>1.0</td>\n",
       "      <td>1.00</td>\n",
       "      <td>1.0</td>\n",
       "      <td>1.0</td>\n",
       "      <td>9.0</td>\n",
       "    </tr>\n",
       "    <tr>\n",
       "      <th>age</th>\n",
       "      <td>23490.0</td>\n",
       "      <td>34.782929</td>\n",
       "      <td>7.679492</td>\n",
       "      <td>20.0</td>\n",
       "      <td>29.00</td>\n",
       "      <td>33.0</td>\n",
       "      <td>39.0</td>\n",
       "      <td>60.0</td>\n",
       "    </tr>\n",
       "    <tr>\n",
       "      <th>previous_year_rating</th>\n",
       "      <td>21678.0</td>\n",
       "      <td>3.339146</td>\n",
       "      <td>1.263294</td>\n",
       "      <td>1.0</td>\n",
       "      <td>3.00</td>\n",
       "      <td>3.0</td>\n",
       "      <td>4.0</td>\n",
       "      <td>5.0</td>\n",
       "    </tr>\n",
       "    <tr>\n",
       "      <th>length_of_service</th>\n",
       "      <td>23490.0</td>\n",
       "      <td>5.810387</td>\n",
       "      <td>4.207917</td>\n",
       "      <td>1.0</td>\n",
       "      <td>3.00</td>\n",
       "      <td>5.0</td>\n",
       "      <td>7.0</td>\n",
       "      <td>34.0</td>\n",
       "    </tr>\n",
       "    <tr>\n",
       "      <th>KPIs_met &gt;80%</th>\n",
       "      <td>23490.0</td>\n",
       "      <td>0.358834</td>\n",
       "      <td>0.479668</td>\n",
       "      <td>0.0</td>\n",
       "      <td>0.00</td>\n",
       "      <td>0.0</td>\n",
       "      <td>1.0</td>\n",
       "      <td>1.0</td>\n",
       "    </tr>\n",
       "    <tr>\n",
       "      <th>awards_won?</th>\n",
       "      <td>23490.0</td>\n",
       "      <td>0.022776</td>\n",
       "      <td>0.149191</td>\n",
       "      <td>0.0</td>\n",
       "      <td>0.00</td>\n",
       "      <td>0.0</td>\n",
       "      <td>0.0</td>\n",
       "      <td>1.0</td>\n",
       "    </tr>\n",
       "    <tr>\n",
       "      <th>avg_training_score</th>\n",
       "      <td>23490.0</td>\n",
       "      <td>63.263133</td>\n",
       "      <td>13.411750</td>\n",
       "      <td>39.0</td>\n",
       "      <td>51.00</td>\n",
       "      <td>60.0</td>\n",
       "      <td>76.0</td>\n",
       "      <td>99.0</td>\n",
       "    </tr>\n",
       "  </tbody>\n",
       "</table>\n",
       "</div>"
      ],
      "text/plain": [
       "                        count          mean           std   min       25%  \\\n",
       "employee_id           23490.0  39041.399149  22640.809201   3.0  19370.25   \n",
       "no_of_trainings       23490.0      1.254236      0.600910   1.0      1.00   \n",
       "age                   23490.0     34.782929      7.679492  20.0     29.00   \n",
       "previous_year_rating  21678.0      3.339146      1.263294   1.0      3.00   \n",
       "length_of_service     23490.0      5.810387      4.207917   1.0      3.00   \n",
       "KPIs_met >80%         23490.0      0.358834      0.479668   0.0      0.00   \n",
       "awards_won?           23490.0      0.022776      0.149191   0.0      0.00   \n",
       "avg_training_score    23490.0     63.263133     13.411750  39.0     51.00   \n",
       "\n",
       "                          50%      75%      max  \n",
       "employee_id           38963.5  58690.0  78295.0  \n",
       "no_of_trainings           1.0      1.0      9.0  \n",
       "age                      33.0     39.0     60.0  \n",
       "previous_year_rating      3.0      4.0      5.0  \n",
       "length_of_service         5.0      7.0     34.0  \n",
       "KPIs_met >80%             0.0      1.0      1.0  \n",
       "awards_won?               0.0      0.0      1.0  \n",
       "avg_training_score       60.0     76.0     99.0  "
      ]
     },
     "execution_count": 80,
     "metadata": {},
     "output_type": "execute_result"
    }
   ],
   "source": [
    "test.describe().transpose()"
   ]
  },
  {
   "cell_type": "markdown",
   "id": "0324a3a5",
   "metadata": {},
   "source": [
    "### Imputing Nulls"
   ]
  },
  {
   "cell_type": "code",
   "execution_count": 81,
   "id": "87595f42",
   "metadata": {},
   "outputs": [
    {
     "data": {
      "text/plain": [
       "employee_id                0\n",
       "department                 0\n",
       "region                     0\n",
       "education               1034\n",
       "gender                     0\n",
       "recruitment_channel        0\n",
       "no_of_trainings            0\n",
       "age                        0\n",
       "previous_year_rating    1812\n",
       "length_of_service          0\n",
       "KPIs_met >80%              0\n",
       "awards_won?                0\n",
       "avg_training_score         0\n",
       "dtype: int64"
      ]
     },
     "execution_count": 81,
     "metadata": {},
     "output_type": "execute_result"
    }
   ],
   "source": [
    "test.isnull().sum()"
   ]
  },
  {
   "cell_type": "code",
   "execution_count": null,
   "id": "611b067e",
   "metadata": {},
   "outputs": [],
   "source": []
  },
  {
   "cell_type": "code",
   "execution_count": 82,
   "id": "dd641218",
   "metadata": {},
   "outputs": [],
   "source": [
    "test.education.fillna(\"Bachelor's\",axis=0,inplace=True)"
   ]
  },
  {
   "cell_type": "code",
   "execution_count": 83,
   "id": "671c59f4",
   "metadata": {},
   "outputs": [],
   "source": [
    "test.previous_year_rating.fillna(0,axis=0,inplace=True)"
   ]
  },
  {
   "cell_type": "code",
   "execution_count": 84,
   "id": "0c06d153",
   "metadata": {},
   "outputs": [],
   "source": [
    "eid = test.employee_id.tolist()"
   ]
  },
  {
   "cell_type": "code",
   "execution_count": null,
   "id": "f217ede6",
   "metadata": {},
   "outputs": [],
   "source": [
    "test.drop('employee_id',axis=1,inplace=True)\n",
    "test.drop('region',axis=1,inplace=True)"
   ]
  },
  {
   "cell_type": "code",
   "execution_count": null,
   "id": "6d904b3a",
   "metadata": {},
   "outputs": [],
   "source": []
  },
  {
   "cell_type": "code",
   "execution_count": 89,
   "id": "1d8998c4",
   "metadata": {},
   "outputs": [],
   "source": [
    "dept = []\n",
    "for i in test.department:\n",
    "    if i == 'Sales & Marketing':\n",
    "        dept.append(1)\n",
    "    elif i == 'Operations':\n",
    "        dept.append(2)\n",
    "    elif i == 'Technology':\n",
    "        dept.append(3)\n",
    "    elif i == 'Analytics':\n",
    "        dept.append(4)\n",
    "    elif i == 'R&D':\n",
    "        dept.append(5)\n",
    "    elif i == 'Procurement':\n",
    "        dept.append(6)\n",
    "    elif i == 'Finance':\n",
    "        dept.append(7)\n",
    "    elif i == 'HR':\n",
    "        dept.append(8)\n",
    "    elif i == 'Legal':\n",
    "        dept.append(9)\n",
    "        \n",
    "test['department'] = dept"
   ]
  },
  {
   "cell_type": "code",
   "execution_count": 90,
   "id": "d8af361c",
   "metadata": {},
   "outputs": [],
   "source": [
    "edu = []\n",
    "for i in test.education:\n",
    "    if i == \"Bachelor's\":\n",
    "        edu.append(2)\n",
    "    elif i == \"Master's & above\":\n",
    "        edu.append(1)\n",
    "    elif i == \"Below Secondary\":\n",
    "        edu.append(3)\n",
    "test['education'] = edu"
   ]
  },
  {
   "cell_type": "code",
   "execution_count": 91,
   "id": "ecf25290",
   "metadata": {},
   "outputs": [],
   "source": [
    "gen = []\n",
    "for i in test.gender:\n",
    "    if i == 'f':\n",
    "        gen.append(1)\n",
    "    elif i == 'm':\n",
    "        gen.append(2)\n",
    "test['gender'] = gen"
   ]
  },
  {
   "cell_type": "code",
   "execution_count": 92,
   "id": "0acbdc6d",
   "metadata": {},
   "outputs": [],
   "source": [
    "rc = []\n",
    "for i in test.recruitment_channel:\n",
    "    if i == 'other':\n",
    "        rc.append(1)\n",
    "    elif i == 'sourcing':\n",
    "        rc.append(2)\n",
    "    elif i == 'referred':\n",
    "        rc.append(3)\n",
    "test['recruitment_channel'] = rc"
   ]
  },
  {
   "cell_type": "code",
   "execution_count": 93,
   "id": "e4a34e05",
   "metadata": {
    "scrolled": true
   },
   "outputs": [
    {
     "data": {
      "text/html": [
       "<div>\n",
       "<style scoped>\n",
       "    .dataframe tbody tr th:only-of-type {\n",
       "        vertical-align: middle;\n",
       "    }\n",
       "\n",
       "    .dataframe tbody tr th {\n",
       "        vertical-align: top;\n",
       "    }\n",
       "\n",
       "    .dataframe thead th {\n",
       "        text-align: right;\n",
       "    }\n",
       "</style>\n",
       "<table border=\"1\" class=\"dataframe\">\n",
       "  <thead>\n",
       "    <tr style=\"text-align: right;\">\n",
       "      <th></th>\n",
       "      <th>department</th>\n",
       "      <th>education</th>\n",
       "      <th>gender</th>\n",
       "      <th>recruitment_channel</th>\n",
       "      <th>no_of_trainings</th>\n",
       "      <th>age</th>\n",
       "      <th>previous_year_rating</th>\n",
       "      <th>length_of_service</th>\n",
       "      <th>KPIs_met &gt;80%</th>\n",
       "      <th>awards_won?</th>\n",
       "      <th>avg_training_score</th>\n",
       "    </tr>\n",
       "  </thead>\n",
       "  <tbody>\n",
       "    <tr>\n",
       "      <th>0</th>\n",
       "      <td>3</td>\n",
       "      <td>2</td>\n",
       "      <td>2</td>\n",
       "      <td>2</td>\n",
       "      <td>1</td>\n",
       "      <td>24</td>\n",
       "      <td>0.0</td>\n",
       "      <td>1</td>\n",
       "      <td>1</td>\n",
       "      <td>0</td>\n",
       "      <td>77</td>\n",
       "    </tr>\n",
       "    <tr>\n",
       "      <th>1</th>\n",
       "      <td>8</td>\n",
       "      <td>2</td>\n",
       "      <td>1</td>\n",
       "      <td>1</td>\n",
       "      <td>1</td>\n",
       "      <td>31</td>\n",
       "      <td>3.0</td>\n",
       "      <td>5</td>\n",
       "      <td>0</td>\n",
       "      <td>0</td>\n",
       "      <td>51</td>\n",
       "    </tr>\n",
       "    <tr>\n",
       "      <th>2</th>\n",
       "      <td>1</td>\n",
       "      <td>2</td>\n",
       "      <td>2</td>\n",
       "      <td>1</td>\n",
       "      <td>1</td>\n",
       "      <td>31</td>\n",
       "      <td>1.0</td>\n",
       "      <td>4</td>\n",
       "      <td>0</td>\n",
       "      <td>0</td>\n",
       "      <td>47</td>\n",
       "    </tr>\n",
       "    <tr>\n",
       "      <th>3</th>\n",
       "      <td>6</td>\n",
       "      <td>2</td>\n",
       "      <td>1</td>\n",
       "      <td>1</td>\n",
       "      <td>3</td>\n",
       "      <td>31</td>\n",
       "      <td>2.0</td>\n",
       "      <td>9</td>\n",
       "      <td>0</td>\n",
       "      <td>0</td>\n",
       "      <td>65</td>\n",
       "    </tr>\n",
       "    <tr>\n",
       "      <th>4</th>\n",
       "      <td>7</td>\n",
       "      <td>2</td>\n",
       "      <td>2</td>\n",
       "      <td>2</td>\n",
       "      <td>1</td>\n",
       "      <td>30</td>\n",
       "      <td>4.0</td>\n",
       "      <td>7</td>\n",
       "      <td>0</td>\n",
       "      <td>0</td>\n",
       "      <td>61</td>\n",
       "    </tr>\n",
       "  </tbody>\n",
       "</table>\n",
       "</div>"
      ],
      "text/plain": [
       "   department  education  gender  recruitment_channel  no_of_trainings  age  \\\n",
       "0           3          2       2                    2                1   24   \n",
       "1           8          2       1                    1                1   31   \n",
       "2           1          2       2                    1                1   31   \n",
       "3           6          2       1                    1                3   31   \n",
       "4           7          2       2                    2                1   30   \n",
       "\n",
       "   previous_year_rating  length_of_service  KPIs_met >80%  awards_won?  \\\n",
       "0                   0.0                  1              1            0   \n",
       "1                   3.0                  5              0            0   \n",
       "2                   1.0                  4              0            0   \n",
       "3                   2.0                  9              0            0   \n",
       "4                   4.0                  7              0            0   \n",
       "\n",
       "   avg_training_score  \n",
       "0                  77  \n",
       "1                  51  \n",
       "2                  47  \n",
       "3                  65  \n",
       "4                  61  "
      ]
     },
     "execution_count": 93,
     "metadata": {},
     "output_type": "execute_result"
    }
   ],
   "source": [
    "test.head()"
   ]
  },
  {
   "cell_type": "code",
   "execution_count": null,
   "id": "817d61c5",
   "metadata": {},
   "outputs": [],
   "source": []
  },
  {
   "cell_type": "code",
   "execution_count": 94,
   "id": "8f9121e0",
   "metadata": {
    "scrolled": true
   },
   "outputs": [],
   "source": [
    "x_train = ml2.drop('is_promoted',axis=1)\n",
    "y_train = ml2.is_promoted"
   ]
  },
  {
   "cell_type": "code",
   "execution_count": 95,
   "id": "39007590",
   "metadata": {},
   "outputs": [],
   "source": [
    "x_test = test"
   ]
  },
  {
   "cell_type": "code",
   "execution_count": 97,
   "id": "662d6ecb",
   "metadata": {},
   "outputs": [],
   "source": [
    "lgb.fit(x_train,y_train)\n",
    "lgb_final_pred = lgb.predict(x_test)\n",
    "lgb_final_pp = lgb.predict_proba(x_test)\n",
    "lgb_final_pp = lgb_final_pp[:,1]"
   ]
  },
  {
   "cell_type": "code",
   "execution_count": 98,
   "id": "74184c82",
   "metadata": {},
   "outputs": [],
   "source": [
    "cat.fit(x_train,y_train)\n",
    "cat_final_pred = cat.predict(x_test)\n",
    "cat_final_pp = cat.predict_proba(x_test)\n",
    "cat_final_pp = cat_final_pp[:,1]"
   ]
  },
  {
   "cell_type": "code",
   "execution_count": 99,
   "id": "c3eb72b2",
   "metadata": {},
   "outputs": [],
   "source": [
    "lr.fit(x_train,y_train)\n",
    "lr_final_pred = lr.predict(x_test)\n",
    "lr_final_pp = lr.predict_proba(x_test)\n",
    "lr_final_pp = lr_final_pp[:,1]"
   ]
  },
  {
   "cell_type": "code",
   "execution_count": 100,
   "id": "c2e08fed",
   "metadata": {},
   "outputs": [],
   "source": [
    "kn.fit(x_train,y_train)\n",
    "kn_final_pred = kn.predict(x_test)\n",
    "kn_final_pp = kn.predict_proba(x_test)\n",
    "kn_final_pp = kn_final_pp[:,1]"
   ]
  },
  {
   "cell_type": "code",
   "execution_count": 101,
   "id": "8b083b6f",
   "metadata": {},
   "outputs": [],
   "source": [
    "gnb.fit(x_train,y_train)\n",
    "gnb_final_pred = gnb.predict(x_test)\n",
    "gnb_final_pp = gnb.predict_proba(x_test)\n",
    "gnb_final_pp = gnb_final_pp[:,1]"
   ]
  },
  {
   "cell_type": "code",
   "execution_count": 102,
   "id": "ff9cc868",
   "metadata": {},
   "outputs": [],
   "source": [
    "dt.fit(x_train,y_train)\n",
    "dt_final_pred = dt.predict(x_test)\n",
    "dt_final_pp = dt.predict_proba(x_test)\n",
    "dt_final_pp = dt_final_pp[:,1]"
   ]
  },
  {
   "cell_type": "code",
   "execution_count": 103,
   "id": "edb5a643",
   "metadata": {},
   "outputs": [],
   "source": [
    "rf.fit(x_train,y_train)\n",
    "rf_final_pred = rf.predict(x_test)\n",
    "rf_final_pp = rf.predict_proba(x_test)\n",
    "rf_final_pp = rf_final_pp[:,1]"
   ]
  },
  {
   "cell_type": "code",
   "execution_count": 104,
   "id": "ef93ce4b",
   "metadata": {},
   "outputs": [
    {
     "name": "stdout",
     "output_type": "stream",
     "text": [
      "[14:28:30] WARNING: ../src/learner.cc:1115: Starting in XGBoost 1.3.0, the default evaluation metric used with the objective 'binary:logistic' was changed from 'error' to 'logloss'. Explicitly set eval_metric if you'd like to restore the old behavior.\n"
     ]
    }
   ],
   "source": [
    "xgb.fit(x_train,y_train)\n",
    "xgb_final_pred = xgb.predict(x_test)\n",
    "xgb_final_pp = xgb.predict_proba(x_test)\n",
    "xgb_final_pp = xgb_final_pp[:,1]"
   ]
  },
  {
   "cell_type": "code",
   "execution_count": 105,
   "id": "96aed0ff",
   "metadata": {},
   "outputs": [
    {
     "name": "stdout",
     "output_type": "stream",
     "text": [
      "[14:28:41] WARNING: ../src/learner.cc:1115: Starting in XGBoost 1.3.0, the default evaluation metric used with the objective 'binary:logistic' was changed from 'error' to 'logloss'. Explicitly set eval_metric if you'd like to restore the old behavior.\n"
     ]
    }
   ],
   "source": [
    "xgbrf.fit(x_train,y_train)\n",
    "xgbrf_final_pred = xgbrf.predict(x_test)\n",
    "xgbrf_final_pp = xgbrf.predict_proba(x_test)\n",
    "xgbrf_final_pp = xgbrf_final_pp[:,1]"
   ]
  },
  {
   "cell_type": "code",
   "execution_count": null,
   "id": "06b65b48",
   "metadata": {},
   "outputs": [],
   "source": []
  },
  {
   "cell_type": "code",
   "execution_count": 107,
   "id": "e75e7eb8",
   "metadata": {},
   "outputs": [],
   "source": [
    "lgb_final_pp = lgb_final_pp.tolist()\n",
    "cat_final_pp = cat_final_pp.tolist()\n",
    "lr_final_pp = lr_final_pp.tolist()\n",
    "kn_final_pp = kn_final_pp.tolist()\n",
    "gnb_final_pp = gnb_final_pp.tolist()\n",
    "dt_final_pp = dt_final_pp.tolist()\n",
    "rf_final_pp = rf_final_pp.tolist()\n",
    "xgb_final_pp = xgb_final_pp.tolist()\n",
    "xgbrf_final_pp = xgbrf_final_pp.tolist()"
   ]
  },
  {
   "cell_type": "code",
   "execution_count": null,
   "id": "4bcba68b",
   "metadata": {},
   "outputs": [],
   "source": []
  },
  {
   "cell_type": "code",
   "execution_count": null,
   "id": "44d0d889",
   "metadata": {},
   "outputs": [],
   "source": [
    "final_probas = pd.DataFrame({''})"
   ]
  },
  {
   "cell_type": "code",
   "execution_count": null,
   "id": "63fecfec",
   "metadata": {},
   "outputs": [],
   "source": []
  },
  {
   "cell_type": "code",
   "execution_count": null,
   "id": "33ba4598",
   "metadata": {},
   "outputs": [],
   "source": []
  },
  {
   "cell_type": "code",
   "execution_count": null,
   "id": "73641016",
   "metadata": {},
   "outputs": [],
   "source": []
  },
  {
   "cell_type": "code",
   "execution_count": null,
   "id": "1d90f448",
   "metadata": {},
   "outputs": [],
   "source": []
  },
  {
   "cell_type": "code",
   "execution_count": 167,
   "id": "32baba33",
   "metadata": {},
   "outputs": [],
   "source": [
    "prediction = lgb.predict(x_test)\n",
    "pred_proba = lgb.predict_proba(x_test)\n",
    "pred_proba = pred_proba[:,1]"
   ]
  },
  {
   "cell_type": "code",
   "execution_count": 168,
   "id": "028486ba",
   "metadata": {},
   "outputs": [
    {
     "data": {
      "text/plain": [
       "0.3957766697092082"
      ]
     },
     "execution_count": 168,
     "metadata": {},
     "output_type": "execute_result"
    }
   ],
   "source": [
    "final_threshold"
   ]
  },
  {
   "cell_type": "code",
   "execution_count": 175,
   "id": "b70e8d36",
   "metadata": {},
   "outputs": [],
   "source": [
    "results = []\n",
    "for i in pred_proba:\n",
    "    if i > final_threshold:\n",
    "        results.append(1)\n",
    "    else:\n",
    "        results.append(0)\n"
   ]
  },
  {
   "cell_type": "code",
   "execution_count": null,
   "id": "15fd91aa",
   "metadata": {},
   "outputs": [],
   "source": []
  },
  {
   "cell_type": "code",
   "execution_count": null,
   "id": "3efd92b9",
   "metadata": {},
   "outputs": [],
   "source": []
  },
  {
   "cell_type": "code",
   "execution_count": 176,
   "id": "ade71634",
   "metadata": {},
   "outputs": [],
   "source": [
    "final = pd.DataFrame({'employee_id':eid , 'is_promoted':results})"
   ]
  },
  {
   "cell_type": "code",
   "execution_count": 177,
   "id": "8199e91a",
   "metadata": {},
   "outputs": [],
   "source": [
    "final.to_csv('submission_03_lgb_roc_auc_threshold.csv',index=False)"
   ]
  },
  {
   "cell_type": "code",
   "execution_count": null,
   "id": "67da717b",
   "metadata": {},
   "outputs": [],
   "source": []
  }
 ],
 "metadata": {
  "kernelspec": {
   "display_name": "Python 3 (ipykernel)",
   "language": "python",
   "name": "python3"
  },
  "language_info": {
   "codemirror_mode": {
    "name": "ipython",
    "version": 3
   },
   "file_extension": ".py",
   "mimetype": "text/x-python",
   "name": "python",
   "nbconvert_exporter": "python",
   "pygments_lexer": "ipython3",
   "version": "3.8.12"
  }
 },
 "nbformat": 4,
 "nbformat_minor": 5
}
