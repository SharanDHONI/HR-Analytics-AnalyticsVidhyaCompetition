{
 "cells": [
  {
   "cell_type": "code",
   "execution_count": 102,
   "id": "a0e81f4b",
   "metadata": {},
   "outputs": [],
   "source": [
    "import pandas as pd\n",
    "import numpy as np\n",
    "import seaborn as sns\n",
    "import matplotlib.pyplot as plt\n",
    "import warnings \n",
    "warnings.filterwarnings('ignore')\n",
    "from termcolor import colored"
   ]
  },
  {
   "cell_type": "markdown",
   "id": "8be12ad9",
   "metadata": {},
   "source": [
    "## Importing Data"
   ]
  },
  {
   "cell_type": "code",
   "execution_count": 3,
   "id": "1760677b",
   "metadata": {},
   "outputs": [],
   "source": [
    "df = pd.read_csv('train_LZdllcl.csv') ## train"
   ]
  },
  {
   "cell_type": "code",
   "execution_count": 4,
   "id": "d27f6421",
   "metadata": {},
   "outputs": [
    {
     "data": {
      "text/html": [
       "<div>\n",
       "<style scoped>\n",
       "    .dataframe tbody tr th:only-of-type {\n",
       "        vertical-align: middle;\n",
       "    }\n",
       "\n",
       "    .dataframe tbody tr th {\n",
       "        vertical-align: top;\n",
       "    }\n",
       "\n",
       "    .dataframe thead th {\n",
       "        text-align: right;\n",
       "    }\n",
       "</style>\n",
       "<table border=\"1\" class=\"dataframe\">\n",
       "  <thead>\n",
       "    <tr style=\"text-align: right;\">\n",
       "      <th></th>\n",
       "      <th>employee_id</th>\n",
       "      <th>department</th>\n",
       "      <th>region</th>\n",
       "      <th>education</th>\n",
       "      <th>gender</th>\n",
       "      <th>recruitment_channel</th>\n",
       "      <th>no_of_trainings</th>\n",
       "      <th>age</th>\n",
       "      <th>previous_year_rating</th>\n",
       "      <th>length_of_service</th>\n",
       "      <th>KPIs_met &gt;80%</th>\n",
       "      <th>awards_won?</th>\n",
       "      <th>avg_training_score</th>\n",
       "      <th>is_promoted</th>\n",
       "    </tr>\n",
       "  </thead>\n",
       "  <tbody>\n",
       "    <tr>\n",
       "      <th>0</th>\n",
       "      <td>65438</td>\n",
       "      <td>Sales &amp; Marketing</td>\n",
       "      <td>region_7</td>\n",
       "      <td>Master's &amp; above</td>\n",
       "      <td>f</td>\n",
       "      <td>sourcing</td>\n",
       "      <td>1</td>\n",
       "      <td>35</td>\n",
       "      <td>5.0</td>\n",
       "      <td>8</td>\n",
       "      <td>1</td>\n",
       "      <td>0</td>\n",
       "      <td>49</td>\n",
       "      <td>0</td>\n",
       "    </tr>\n",
       "    <tr>\n",
       "      <th>1</th>\n",
       "      <td>65141</td>\n",
       "      <td>Operations</td>\n",
       "      <td>region_22</td>\n",
       "      <td>Bachelor's</td>\n",
       "      <td>m</td>\n",
       "      <td>other</td>\n",
       "      <td>1</td>\n",
       "      <td>30</td>\n",
       "      <td>5.0</td>\n",
       "      <td>4</td>\n",
       "      <td>0</td>\n",
       "      <td>0</td>\n",
       "      <td>60</td>\n",
       "      <td>0</td>\n",
       "    </tr>\n",
       "    <tr>\n",
       "      <th>2</th>\n",
       "      <td>7513</td>\n",
       "      <td>Sales &amp; Marketing</td>\n",
       "      <td>region_19</td>\n",
       "      <td>Bachelor's</td>\n",
       "      <td>m</td>\n",
       "      <td>sourcing</td>\n",
       "      <td>1</td>\n",
       "      <td>34</td>\n",
       "      <td>3.0</td>\n",
       "      <td>7</td>\n",
       "      <td>0</td>\n",
       "      <td>0</td>\n",
       "      <td>50</td>\n",
       "      <td>0</td>\n",
       "    </tr>\n",
       "    <tr>\n",
       "      <th>3</th>\n",
       "      <td>2542</td>\n",
       "      <td>Sales &amp; Marketing</td>\n",
       "      <td>region_23</td>\n",
       "      <td>Bachelor's</td>\n",
       "      <td>m</td>\n",
       "      <td>other</td>\n",
       "      <td>2</td>\n",
       "      <td>39</td>\n",
       "      <td>1.0</td>\n",
       "      <td>10</td>\n",
       "      <td>0</td>\n",
       "      <td>0</td>\n",
       "      <td>50</td>\n",
       "      <td>0</td>\n",
       "    </tr>\n",
       "    <tr>\n",
       "      <th>4</th>\n",
       "      <td>48945</td>\n",
       "      <td>Technology</td>\n",
       "      <td>region_26</td>\n",
       "      <td>Bachelor's</td>\n",
       "      <td>m</td>\n",
       "      <td>other</td>\n",
       "      <td>1</td>\n",
       "      <td>45</td>\n",
       "      <td>3.0</td>\n",
       "      <td>2</td>\n",
       "      <td>0</td>\n",
       "      <td>0</td>\n",
       "      <td>73</td>\n",
       "      <td>0</td>\n",
       "    </tr>\n",
       "  </tbody>\n",
       "</table>\n",
       "</div>"
      ],
      "text/plain": [
       "   employee_id         department     region         education gender  \\\n",
       "0        65438  Sales & Marketing   region_7  Master's & above      f   \n",
       "1        65141         Operations  region_22        Bachelor's      m   \n",
       "2         7513  Sales & Marketing  region_19        Bachelor's      m   \n",
       "3         2542  Sales & Marketing  region_23        Bachelor's      m   \n",
       "4        48945         Technology  region_26        Bachelor's      m   \n",
       "\n",
       "  recruitment_channel  no_of_trainings  age  previous_year_rating  \\\n",
       "0            sourcing                1   35                   5.0   \n",
       "1               other                1   30                   5.0   \n",
       "2            sourcing                1   34                   3.0   \n",
       "3               other                2   39                   1.0   \n",
       "4               other                1   45                   3.0   \n",
       "\n",
       "   length_of_service  KPIs_met >80%  awards_won?  avg_training_score  \\\n",
       "0                  8              1            0                  49   \n",
       "1                  4              0            0                  60   \n",
       "2                  7              0            0                  50   \n",
       "3                 10              0            0                  50   \n",
       "4                  2              0            0                  73   \n",
       "\n",
       "   is_promoted  \n",
       "0            0  \n",
       "1            0  \n",
       "2            0  \n",
       "3            0  \n",
       "4            0  "
      ]
     },
     "execution_count": 4,
     "metadata": {},
     "output_type": "execute_result"
    }
   ],
   "source": [
    "df.head()"
   ]
  },
  {
   "cell_type": "code",
   "execution_count": 5,
   "id": "62871376",
   "metadata": {},
   "outputs": [],
   "source": [
    "df2 = pd.read_csv('test_2umaH9m.csv') ## test"
   ]
  },
  {
   "cell_type": "code",
   "execution_count": 6,
   "id": "0cffcbda",
   "metadata": {},
   "outputs": [
    {
     "data": {
      "text/html": [
       "<div>\n",
       "<style scoped>\n",
       "    .dataframe tbody tr th:only-of-type {\n",
       "        vertical-align: middle;\n",
       "    }\n",
       "\n",
       "    .dataframe tbody tr th {\n",
       "        vertical-align: top;\n",
       "    }\n",
       "\n",
       "    .dataframe thead th {\n",
       "        text-align: right;\n",
       "    }\n",
       "</style>\n",
       "<table border=\"1\" class=\"dataframe\">\n",
       "  <thead>\n",
       "    <tr style=\"text-align: right;\">\n",
       "      <th></th>\n",
       "      <th>employee_id</th>\n",
       "      <th>department</th>\n",
       "      <th>region</th>\n",
       "      <th>education</th>\n",
       "      <th>gender</th>\n",
       "      <th>recruitment_channel</th>\n",
       "      <th>no_of_trainings</th>\n",
       "      <th>age</th>\n",
       "      <th>previous_year_rating</th>\n",
       "      <th>length_of_service</th>\n",
       "      <th>KPIs_met &gt;80%</th>\n",
       "      <th>awards_won?</th>\n",
       "      <th>avg_training_score</th>\n",
       "    </tr>\n",
       "  </thead>\n",
       "  <tbody>\n",
       "    <tr>\n",
       "      <th>0</th>\n",
       "      <td>8724</td>\n",
       "      <td>Technology</td>\n",
       "      <td>region_26</td>\n",
       "      <td>Bachelor's</td>\n",
       "      <td>m</td>\n",
       "      <td>sourcing</td>\n",
       "      <td>1</td>\n",
       "      <td>24</td>\n",
       "      <td>NaN</td>\n",
       "      <td>1</td>\n",
       "      <td>1</td>\n",
       "      <td>0</td>\n",
       "      <td>77</td>\n",
       "    </tr>\n",
       "    <tr>\n",
       "      <th>1</th>\n",
       "      <td>74430</td>\n",
       "      <td>HR</td>\n",
       "      <td>region_4</td>\n",
       "      <td>Bachelor's</td>\n",
       "      <td>f</td>\n",
       "      <td>other</td>\n",
       "      <td>1</td>\n",
       "      <td>31</td>\n",
       "      <td>3.0</td>\n",
       "      <td>5</td>\n",
       "      <td>0</td>\n",
       "      <td>0</td>\n",
       "      <td>51</td>\n",
       "    </tr>\n",
       "    <tr>\n",
       "      <th>2</th>\n",
       "      <td>72255</td>\n",
       "      <td>Sales &amp; Marketing</td>\n",
       "      <td>region_13</td>\n",
       "      <td>Bachelor's</td>\n",
       "      <td>m</td>\n",
       "      <td>other</td>\n",
       "      <td>1</td>\n",
       "      <td>31</td>\n",
       "      <td>1.0</td>\n",
       "      <td>4</td>\n",
       "      <td>0</td>\n",
       "      <td>0</td>\n",
       "      <td>47</td>\n",
       "    </tr>\n",
       "    <tr>\n",
       "      <th>3</th>\n",
       "      <td>38562</td>\n",
       "      <td>Procurement</td>\n",
       "      <td>region_2</td>\n",
       "      <td>Bachelor's</td>\n",
       "      <td>f</td>\n",
       "      <td>other</td>\n",
       "      <td>3</td>\n",
       "      <td>31</td>\n",
       "      <td>2.0</td>\n",
       "      <td>9</td>\n",
       "      <td>0</td>\n",
       "      <td>0</td>\n",
       "      <td>65</td>\n",
       "    </tr>\n",
       "    <tr>\n",
       "      <th>4</th>\n",
       "      <td>64486</td>\n",
       "      <td>Finance</td>\n",
       "      <td>region_29</td>\n",
       "      <td>Bachelor's</td>\n",
       "      <td>m</td>\n",
       "      <td>sourcing</td>\n",
       "      <td>1</td>\n",
       "      <td>30</td>\n",
       "      <td>4.0</td>\n",
       "      <td>7</td>\n",
       "      <td>0</td>\n",
       "      <td>0</td>\n",
       "      <td>61</td>\n",
       "    </tr>\n",
       "  </tbody>\n",
       "</table>\n",
       "</div>"
      ],
      "text/plain": [
       "   employee_id         department     region   education gender  \\\n",
       "0         8724         Technology  region_26  Bachelor's      m   \n",
       "1        74430                 HR   region_4  Bachelor's      f   \n",
       "2        72255  Sales & Marketing  region_13  Bachelor's      m   \n",
       "3        38562        Procurement   region_2  Bachelor's      f   \n",
       "4        64486            Finance  region_29  Bachelor's      m   \n",
       "\n",
       "  recruitment_channel  no_of_trainings  age  previous_year_rating  \\\n",
       "0            sourcing                1   24                   NaN   \n",
       "1               other                1   31                   3.0   \n",
       "2               other                1   31                   1.0   \n",
       "3               other                3   31                   2.0   \n",
       "4            sourcing                1   30                   4.0   \n",
       "\n",
       "   length_of_service  KPIs_met >80%  awards_won?  avg_training_score  \n",
       "0                  1              1            0                  77  \n",
       "1                  5              0            0                  51  \n",
       "2                  4              0            0                  47  \n",
       "3                  9              0            0                  65  \n",
       "4                  7              0            0                  61  "
      ]
     },
     "execution_count": 6,
     "metadata": {},
     "output_type": "execute_result"
    }
   ],
   "source": [
    "df2.head()"
   ]
  },
  {
   "cell_type": "markdown",
   "id": "a60e8f44",
   "metadata": {},
   "source": [
    "## Data info and description "
   ]
  },
  {
   "cell_type": "code",
   "execution_count": 7,
   "id": "ae82bf24",
   "metadata": {},
   "outputs": [
    {
     "name": "stdout",
     "output_type": "stream",
     "text": [
      "<class 'pandas.core.frame.DataFrame'>\n",
      "RangeIndex: 54808 entries, 0 to 54807\n",
      "Data columns (total 14 columns):\n",
      " #   Column                Non-Null Count  Dtype  \n",
      "---  ------                --------------  -----  \n",
      " 0   employee_id           54808 non-null  int64  \n",
      " 1   department            54808 non-null  object \n",
      " 2   region                54808 non-null  object \n",
      " 3   education             52399 non-null  object \n",
      " 4   gender                54808 non-null  object \n",
      " 5   recruitment_channel   54808 non-null  object \n",
      " 6   no_of_trainings       54808 non-null  int64  \n",
      " 7   age                   54808 non-null  int64  \n",
      " 8   previous_year_rating  50684 non-null  float64\n",
      " 9   length_of_service     54808 non-null  int64  \n",
      " 10  KPIs_met >80%         54808 non-null  int64  \n",
      " 11  awards_won?           54808 non-null  int64  \n",
      " 12  avg_training_score    54808 non-null  int64  \n",
      " 13  is_promoted           54808 non-null  int64  \n",
      "dtypes: float64(1), int64(8), object(5)\n",
      "memory usage: 5.9+ MB\n"
     ]
    }
   ],
   "source": [
    "df.info() ## train"
   ]
  },
  {
   "cell_type": "code",
   "execution_count": 8,
   "id": "f391b06c",
   "metadata": {},
   "outputs": [
    {
     "name": "stdout",
     "output_type": "stream",
     "text": [
      "<class 'pandas.core.frame.DataFrame'>\n",
      "RangeIndex: 23490 entries, 0 to 23489\n",
      "Data columns (total 13 columns):\n",
      " #   Column                Non-Null Count  Dtype  \n",
      "---  ------                --------------  -----  \n",
      " 0   employee_id           23490 non-null  int64  \n",
      " 1   department            23490 non-null  object \n",
      " 2   region                23490 non-null  object \n",
      " 3   education             22456 non-null  object \n",
      " 4   gender                23490 non-null  object \n",
      " 5   recruitment_channel   23490 non-null  object \n",
      " 6   no_of_trainings       23490 non-null  int64  \n",
      " 7   age                   23490 non-null  int64  \n",
      " 8   previous_year_rating  21678 non-null  float64\n",
      " 9   length_of_service     23490 non-null  int64  \n",
      " 10  KPIs_met >80%         23490 non-null  int64  \n",
      " 11  awards_won?           23490 non-null  int64  \n",
      " 12  avg_training_score    23490 non-null  int64  \n",
      "dtypes: float64(1), int64(7), object(5)\n",
      "memory usage: 2.3+ MB\n"
     ]
    }
   ],
   "source": [
    "df2.info() ## test"
   ]
  },
  {
   "cell_type": "code",
   "execution_count": 9,
   "id": "f3cd79c0",
   "metadata": {},
   "outputs": [
    {
     "data": {
      "text/html": [
       "<div>\n",
       "<style scoped>\n",
       "    .dataframe tbody tr th:only-of-type {\n",
       "        vertical-align: middle;\n",
       "    }\n",
       "\n",
       "    .dataframe tbody tr th {\n",
       "        vertical-align: top;\n",
       "    }\n",
       "\n",
       "    .dataframe thead th {\n",
       "        text-align: right;\n",
       "    }\n",
       "</style>\n",
       "<table border=\"1\" class=\"dataframe\">\n",
       "  <thead>\n",
       "    <tr style=\"text-align: right;\">\n",
       "      <th></th>\n",
       "      <th>count</th>\n",
       "      <th>mean</th>\n",
       "      <th>std</th>\n",
       "      <th>min</th>\n",
       "      <th>25%</th>\n",
       "      <th>50%</th>\n",
       "      <th>75%</th>\n",
       "      <th>max</th>\n",
       "    </tr>\n",
       "  </thead>\n",
       "  <tbody>\n",
       "    <tr>\n",
       "      <th>employee_id</th>\n",
       "      <td>54808.0</td>\n",
       "      <td>39195.830627</td>\n",
       "      <td>22586.581449</td>\n",
       "      <td>1.0</td>\n",
       "      <td>19669.75</td>\n",
       "      <td>39225.5</td>\n",
       "      <td>58730.5</td>\n",
       "      <td>78298.0</td>\n",
       "    </tr>\n",
       "    <tr>\n",
       "      <th>no_of_trainings</th>\n",
       "      <td>54808.0</td>\n",
       "      <td>1.253011</td>\n",
       "      <td>0.609264</td>\n",
       "      <td>1.0</td>\n",
       "      <td>1.00</td>\n",
       "      <td>1.0</td>\n",
       "      <td>1.0</td>\n",
       "      <td>10.0</td>\n",
       "    </tr>\n",
       "    <tr>\n",
       "      <th>age</th>\n",
       "      <td>54808.0</td>\n",
       "      <td>34.803915</td>\n",
       "      <td>7.660169</td>\n",
       "      <td>20.0</td>\n",
       "      <td>29.00</td>\n",
       "      <td>33.0</td>\n",
       "      <td>39.0</td>\n",
       "      <td>60.0</td>\n",
       "    </tr>\n",
       "    <tr>\n",
       "      <th>previous_year_rating</th>\n",
       "      <td>50684.0</td>\n",
       "      <td>3.329256</td>\n",
       "      <td>1.259993</td>\n",
       "      <td>1.0</td>\n",
       "      <td>3.00</td>\n",
       "      <td>3.0</td>\n",
       "      <td>4.0</td>\n",
       "      <td>5.0</td>\n",
       "    </tr>\n",
       "    <tr>\n",
       "      <th>length_of_service</th>\n",
       "      <td>54808.0</td>\n",
       "      <td>5.865512</td>\n",
       "      <td>4.265094</td>\n",
       "      <td>1.0</td>\n",
       "      <td>3.00</td>\n",
       "      <td>5.0</td>\n",
       "      <td>7.0</td>\n",
       "      <td>37.0</td>\n",
       "    </tr>\n",
       "    <tr>\n",
       "      <th>KPIs_met &gt;80%</th>\n",
       "      <td>54808.0</td>\n",
       "      <td>0.351974</td>\n",
       "      <td>0.477590</td>\n",
       "      <td>0.0</td>\n",
       "      <td>0.00</td>\n",
       "      <td>0.0</td>\n",
       "      <td>1.0</td>\n",
       "      <td>1.0</td>\n",
       "    </tr>\n",
       "    <tr>\n",
       "      <th>awards_won?</th>\n",
       "      <td>54808.0</td>\n",
       "      <td>0.023172</td>\n",
       "      <td>0.150450</td>\n",
       "      <td>0.0</td>\n",
       "      <td>0.00</td>\n",
       "      <td>0.0</td>\n",
       "      <td>0.0</td>\n",
       "      <td>1.0</td>\n",
       "    </tr>\n",
       "    <tr>\n",
       "      <th>avg_training_score</th>\n",
       "      <td>54808.0</td>\n",
       "      <td>63.386750</td>\n",
       "      <td>13.371559</td>\n",
       "      <td>39.0</td>\n",
       "      <td>51.00</td>\n",
       "      <td>60.0</td>\n",
       "      <td>76.0</td>\n",
       "      <td>99.0</td>\n",
       "    </tr>\n",
       "    <tr>\n",
       "      <th>is_promoted</th>\n",
       "      <td>54808.0</td>\n",
       "      <td>0.085170</td>\n",
       "      <td>0.279137</td>\n",
       "      <td>0.0</td>\n",
       "      <td>0.00</td>\n",
       "      <td>0.0</td>\n",
       "      <td>0.0</td>\n",
       "      <td>1.0</td>\n",
       "    </tr>\n",
       "  </tbody>\n",
       "</table>\n",
       "</div>"
      ],
      "text/plain": [
       "                        count          mean           std   min       25%  \\\n",
       "employee_id           54808.0  39195.830627  22586.581449   1.0  19669.75   \n",
       "no_of_trainings       54808.0      1.253011      0.609264   1.0      1.00   \n",
       "age                   54808.0     34.803915      7.660169  20.0     29.00   \n",
       "previous_year_rating  50684.0      3.329256      1.259993   1.0      3.00   \n",
       "length_of_service     54808.0      5.865512      4.265094   1.0      3.00   \n",
       "KPIs_met >80%         54808.0      0.351974      0.477590   0.0      0.00   \n",
       "awards_won?           54808.0      0.023172      0.150450   0.0      0.00   \n",
       "avg_training_score    54808.0     63.386750     13.371559  39.0     51.00   \n",
       "is_promoted           54808.0      0.085170      0.279137   0.0      0.00   \n",
       "\n",
       "                          50%      75%      max  \n",
       "employee_id           39225.5  58730.5  78298.0  \n",
       "no_of_trainings           1.0      1.0     10.0  \n",
       "age                      33.0     39.0     60.0  \n",
       "previous_year_rating      3.0      4.0      5.0  \n",
       "length_of_service         5.0      7.0     37.0  \n",
       "KPIs_met >80%             0.0      1.0      1.0  \n",
       "awards_won?               0.0      0.0      1.0  \n",
       "avg_training_score       60.0     76.0     99.0  \n",
       "is_promoted               0.0      0.0      1.0  "
      ]
     },
     "execution_count": 9,
     "metadata": {},
     "output_type": "execute_result"
    }
   ],
   "source": [
    "df.describe().transpose() ## train"
   ]
  },
  {
   "cell_type": "code",
   "execution_count": 10,
   "id": "548d6065",
   "metadata": {
    "scrolled": false
   },
   "outputs": [
    {
     "name": "stdout",
     "output_type": "stream",
     "text": [
      "employee_id\n",
      "not necessary.\n",
      "\n",
      "\n",
      "no_of_trainings\n"
     ]
    },
    {
     "data": {
      "image/png": "[encoded data removed]",
      "text/plain": [
       "<Figure size 432x288 with 1 Axes>"
      ]
     },
     "metadata": {
      "needs_background": "light"
     },
     "output_type": "display_data"
    },
    {
     "name": "stdout",
     "output_type": "stream",
     "text": [
      "age\n"
     ]
    },
    {
     "data": {
      "image/png": "[encoded data removed]",
      "text/plain": [
       "<Figure size 432x288 with 1 Axes>"
      ]
     },
     "metadata": {
      "needs_background": "light"
     },
     "output_type": "display_data"
    },
    {
     "name": "stdout",
     "output_type": "stream",
     "text": [
      "previous_year_rating\n"
     ]
    },
    {
     "data": {
      "image/png": "[encoded data removed]",
      "text/plain": [
       "<Figure size 432x288 with 1 Axes>"
      ]
     },
     "metadata": {
      "needs_background": "light"
     },
     "output_type": "display_data"
    },
    {
     "name": "stdout",
     "output_type": "stream",
     "text": [
      "length_of_service\n"
     ]
    },
    {
     "data": {
      "image/png": "[encoded data removed]",
      "text/plain": [
       "<Figure size 432x288 with 1 Axes>"
      ]
     },
     "metadata": {
      "needs_background": "light"
     },
     "output_type": "display_data"
    },
    {
     "name": "stdout",
     "output_type": "stream",
     "text": [
      "KPIs_met >80%\n"
     ]
    },
    {
     "data": {
      "image/png": "[encoded data removed]",
      "text/plain": [
       "<Figure size 432x288 with 1 Axes>"
      ]
     },
     "metadata": {
      "needs_background": "light"
     },
     "output_type": "display_data"
    },
    {
     "name": "stdout",
     "output_type": "stream",
     "text": [
      "awards_won?\n"
     ]
    },
    {
     "data": {
      "image/png": "[encoded data removed]",
      "text/plain": [
       "<Figure size 432x288 with 1 Axes>"
      ]
     },
     "metadata": {
      "needs_background": "light"
     },
     "output_type": "display_data"
    },
    {
     "name": "stdout",
     "output_type": "stream",
     "text": [
      "avg_training_score\n"
     ]
    },
    {
     "data": {
      "image/png": "[encoded data removed]",
      "text/plain": [
       "<Figure size 432x288 with 1 Axes>"
      ]
     },
     "metadata": {
      "needs_background": "light"
     },
     "output_type": "display_data"
    },
    {
     "name": "stdout",
     "output_type": "stream",
     "text": [
      "is_promoted\n"
     ]
    },
    {
     "data": {
      "image/png": "[encoded data removed]",
      "text/plain": [
       "<Figure size 432x288 with 1 Axes>"
      ]
     },
     "metadata": {
      "needs_background": "light"
     },
     "output_type": "display_data"
    }
   ],
   "source": [
    "for i in df.describe().columns:\n",
    "    if i.endswith('id'):\n",
    "        print(i)\n",
    "        print('not necessary.\\n\\n')\n",
    "    else:\n",
    "        print(i)\n",
    "        sns.kdeplot(df[i],vertical=False,gridsize=100)\n",
    "        plt.grid()\n",
    "        plt.show()"
   ]
  },
  {
   "cell_type": "code",
   "execution_count": null,
   "id": "afa2fadc",
   "metadata": {},
   "outputs": [],
   "source": []
  },
  {
   "cell_type": "code",
   "execution_count": 12,
   "id": "077c6220",
   "metadata": {},
   "outputs": [
    {
     "data": {
      "text/html": [
       "<div>\n",
       "<style scoped>\n",
       "    .dataframe tbody tr th:only-of-type {\n",
       "        vertical-align: middle;\n",
       "    }\n",
       "\n",
       "    .dataframe tbody tr th {\n",
       "        vertical-align: top;\n",
       "    }\n",
       "\n",
       "    .dataframe thead th {\n",
       "        text-align: right;\n",
       "    }\n",
       "</style>\n",
       "<table border=\"1\" class=\"dataframe\">\n",
       "  <thead>\n",
       "    <tr style=\"text-align: right;\">\n",
       "      <th></th>\n",
       "      <th>count</th>\n",
       "      <th>mean</th>\n",
       "      <th>std</th>\n",
       "      <th>min</th>\n",
       "      <th>25%</th>\n",
       "      <th>50%</th>\n",
       "      <th>75%</th>\n",
       "      <th>max</th>\n",
       "    </tr>\n",
       "  </thead>\n",
       "  <tbody>\n",
       "    <tr>\n",
       "      <th>employee_id</th>\n",
       "      <td>54808.0</td>\n",
       "      <td>39195.830627</td>\n",
       "      <td>22586.581449</td>\n",
       "      <td>1.0</td>\n",
       "      <td>19669.75</td>\n",
       "      <td>39225.5</td>\n",
       "      <td>58730.5</td>\n",
       "      <td>78298.0</td>\n",
       "    </tr>\n",
       "    <tr>\n",
       "      <th>no_of_trainings</th>\n",
       "      <td>54808.0</td>\n",
       "      <td>1.253011</td>\n",
       "      <td>0.609264</td>\n",
       "      <td>1.0</td>\n",
       "      <td>1.00</td>\n",
       "      <td>1.0</td>\n",
       "      <td>1.0</td>\n",
       "      <td>10.0</td>\n",
       "    </tr>\n",
       "    <tr>\n",
       "      <th>age</th>\n",
       "      <td>54808.0</td>\n",
       "      <td>34.803915</td>\n",
       "      <td>7.660169</td>\n",
       "      <td>20.0</td>\n",
       "      <td>29.00</td>\n",
       "      <td>33.0</td>\n",
       "      <td>39.0</td>\n",
       "      <td>60.0</td>\n",
       "    </tr>\n",
       "    <tr>\n",
       "      <th>previous_year_rating</th>\n",
       "      <td>50684.0</td>\n",
       "      <td>3.329256</td>\n",
       "      <td>1.259993</td>\n",
       "      <td>1.0</td>\n",
       "      <td>3.00</td>\n",
       "      <td>3.0</td>\n",
       "      <td>4.0</td>\n",
       "      <td>5.0</td>\n",
       "    </tr>\n",
       "    <tr>\n",
       "      <th>length_of_service</th>\n",
       "      <td>54808.0</td>\n",
       "      <td>5.865512</td>\n",
       "      <td>4.265094</td>\n",
       "      <td>1.0</td>\n",
       "      <td>3.00</td>\n",
       "      <td>5.0</td>\n",
       "      <td>7.0</td>\n",
       "      <td>37.0</td>\n",
       "    </tr>\n",
       "    <tr>\n",
       "      <th>KPIs_met &gt;80%</th>\n",
       "      <td>54808.0</td>\n",
       "      <td>0.351974</td>\n",
       "      <td>0.477590</td>\n",
       "      <td>0.0</td>\n",
       "      <td>0.00</td>\n",
       "      <td>0.0</td>\n",
       "      <td>1.0</td>\n",
       "      <td>1.0</td>\n",
       "    </tr>\n",
       "    <tr>\n",
       "      <th>awards_won?</th>\n",
       "      <td>54808.0</td>\n",
       "      <td>0.023172</td>\n",
       "      <td>0.150450</td>\n",
       "      <td>0.0</td>\n",
       "      <td>0.00</td>\n",
       "      <td>0.0</td>\n",
       "      <td>0.0</td>\n",
       "      <td>1.0</td>\n",
       "    </tr>\n",
       "    <tr>\n",
       "      <th>avg_training_score</th>\n",
       "      <td>54808.0</td>\n",
       "      <td>63.386750</td>\n",
       "      <td>13.371559</td>\n",
       "      <td>39.0</td>\n",
       "      <td>51.00</td>\n",
       "      <td>60.0</td>\n",
       "      <td>76.0</td>\n",
       "      <td>99.0</td>\n",
       "    </tr>\n",
       "    <tr>\n",
       "      <th>is_promoted</th>\n",
       "      <td>54808.0</td>\n",
       "      <td>0.085170</td>\n",
       "      <td>0.279137</td>\n",
       "      <td>0.0</td>\n",
       "      <td>0.00</td>\n",
       "      <td>0.0</td>\n",
       "      <td>0.0</td>\n",
       "      <td>1.0</td>\n",
       "    </tr>\n",
       "  </tbody>\n",
       "</table>\n",
       "</div>"
      ],
      "text/plain": [
       "                        count          mean           std   min       25%  \\\n",
       "employee_id           54808.0  39195.830627  22586.581449   1.0  19669.75   \n",
       "no_of_trainings       54808.0      1.253011      0.609264   1.0      1.00   \n",
       "age                   54808.0     34.803915      7.660169  20.0     29.00   \n",
       "previous_year_rating  50684.0      3.329256      1.259993   1.0      3.00   \n",
       "length_of_service     54808.0      5.865512      4.265094   1.0      3.00   \n",
       "KPIs_met >80%         54808.0      0.351974      0.477590   0.0      0.00   \n",
       "awards_won?           54808.0      0.023172      0.150450   0.0      0.00   \n",
       "avg_training_score    54808.0     63.386750     13.371559  39.0     51.00   \n",
       "is_promoted           54808.0      0.085170      0.279137   0.0      0.00   \n",
       "\n",
       "                          50%      75%      max  \n",
       "employee_id           39225.5  58730.5  78298.0  \n",
       "no_of_trainings           1.0      1.0     10.0  \n",
       "age                      33.0     39.0     60.0  \n",
       "previous_year_rating      3.0      4.0      5.0  \n",
       "length_of_service         5.0      7.0     37.0  \n",
       "KPIs_met >80%             0.0      1.0      1.0  \n",
       "awards_won?               0.0      0.0      1.0  \n",
       "avg_training_score       60.0     76.0     99.0  \n",
       "is_promoted               0.0      0.0      1.0  "
      ]
     },
     "execution_count": 12,
     "metadata": {},
     "output_type": "execute_result"
    }
   ],
   "source": [
    "df.describe().transpose() ## test"
   ]
  },
  {
   "cell_type": "code",
   "execution_count": 13,
   "id": "348765ee",
   "metadata": {
    "scrolled": false
   },
   "outputs": [
    {
     "name": "stdout",
     "output_type": "stream",
     "text": [
      "employee_id\n",
      "not necessary.\n",
      "\n",
      "\n",
      "no_of_trainings\n"
     ]
    },
    {
     "data": {
      "image/png": "[encoded data removed]",
      "text/plain": [
       "<Figure size 432x288 with 1 Axes>"
      ]
     },
     "metadata": {
      "needs_background": "light"
     },
     "output_type": "display_data"
    },
    {
     "name": "stdout",
     "output_type": "stream",
     "text": [
      "age\n"
     ]
    },
    {
     "data": {
      "image/png": "[encoded data removed]",
      "text/plain": [
       "<Figure size 432x288 with 1 Axes>"
      ]
     },
     "metadata": {
      "needs_background": "light"
     },
     "output_type": "display_data"
    },
    {
     "name": "stdout",
     "output_type": "stream",
     "text": [
      "previous_year_rating\n"
     ]
    },
    {
     "data": {
      "image/png": "[encoded data removed]",
      "text/plain": [
       "<Figure size 432x288 with 1 Axes>"
      ]
     },
     "metadata": {
      "needs_background": "light"
     },
     "output_type": "display_data"
    },
    {
     "name": "stdout",
     "output_type": "stream",
     "text": [
      "length_of_service\n"
     ]
    },
    {
     "data": {
      "image/png": "[encoded data removed]",
      "text/plain": [
       "<Figure size 432x288 with 1 Axes>"
      ]
     },
     "metadata": {
      "needs_background": "light"
     },
     "output_type": "display_data"
    },
    {
     "name": "stdout",
     "output_type": "stream",
     "text": [
      "KPIs_met >80%\n"
     ]
    },
    {
     "data": {
      "image/png": "[encoded data removed]",
      "text/plain": [
       "<Figure size 432x288 with 1 Axes>"
      ]
     },
     "metadata": {
      "needs_background": "light"
     },
     "output_type": "display_data"
    },
    {
     "name": "stdout",
     "output_type": "stream",
     "text": [
      "awards_won?\n"
     ]
    },
    {
     "data": {
      "image/png": "[encoded data removed]",
      "text/plain": [
       "<Figure size 432x288 with 1 Axes>"
      ]
     },
     "metadata": {
      "needs_background": "light"
     },
     "output_type": "display_data"
    },
    {
     "name": "stdout",
     "output_type": "stream",
     "text": [
      "avg_training_score\n"
     ]
    },
    {
     "data": {
      "image/png": "[encoded data removed]",
      "text/plain": [
       "<Figure size 432x288 with 1 Axes>"
      ]
     },
     "metadata": {
      "needs_background": "light"
     },
     "output_type": "display_data"
    }
   ],
   "source": [
    "for i in df2.describe().columns:\n",
    "    if i.endswith('id'):\n",
    "        print(i)\n",
    "        print('not necessary.\\n\\n')\n",
    "    else:\n",
    "        print(i)\n",
    "        sns.kdeplot(df2[i],vertical=False,gridsize=100)\n",
    "        plt.grid()\n",
    "        plt.show()"
   ]
  },
  {
   "cell_type": "markdown",
   "id": "ef157df1",
   "metadata": {},
   "source": [
    "## Null value Analysis"
   ]
  },
  {
   "cell_type": "code",
   "execution_count": 14,
   "id": "0c85fd83",
   "metadata": {},
   "outputs": [
    {
     "data": {
      "text/plain": [
       "employee_id                0\n",
       "department                 0\n",
       "region                     0\n",
       "education               2409\n",
       "gender                     0\n",
       "recruitment_channel        0\n",
       "no_of_trainings            0\n",
       "age                        0\n",
       "previous_year_rating    4124\n",
       "length_of_service          0\n",
       "KPIs_met >80%              0\n",
       "awards_won?                0\n",
       "avg_training_score         0\n",
       "is_promoted                0\n",
       "dtype: int64"
      ]
     },
     "execution_count": 14,
     "metadata": {},
     "output_type": "execute_result"
    }
   ],
   "source": [
    "df.isnull().sum()"
   ]
  },
  {
   "cell_type": "code",
   "execution_count": 15,
   "id": "960c8f6d",
   "metadata": {},
   "outputs": [
    {
     "data": {
      "text/plain": [
       "employee_id                0\n",
       "department                 0\n",
       "region                     0\n",
       "education               1034\n",
       "gender                     0\n",
       "recruitment_channel        0\n",
       "no_of_trainings            0\n",
       "age                        0\n",
       "previous_year_rating    1812\n",
       "length_of_service          0\n",
       "KPIs_met >80%              0\n",
       "awards_won?                0\n",
       "avg_training_score         0\n",
       "dtype: int64"
      ]
     },
     "execution_count": 15,
     "metadata": {},
     "output_type": "execute_result"
    }
   ],
   "source": [
    "df2.isnull().sum()"
   ]
  },
  {
   "cell_type": "markdown",
   "id": "3ab3b2ab",
   "metadata": {},
   "source": [
    "### Lets now merge the 2 train and test data for the purpose of imputing null values! This process of imputing Null values by combining the 2 datasets will avoid \"DATA LEAKAGE\""
   ]
  },
  {
   "cell_type": "code",
   "execution_count": 16,
   "id": "a19b2ddb",
   "metadata": {},
   "outputs": [
    {
     "data": {
      "text/plain": [
       "54808"
      ]
     },
     "execution_count": 16,
     "metadata": {},
     "output_type": "execute_result"
    }
   ],
   "source": [
    "len(df)"
   ]
  },
  {
   "cell_type": "code",
   "execution_count": 17,
   "id": "781c70ad",
   "metadata": {},
   "outputs": [
    {
     "data": {
      "text/plain": [
       "23490"
      ]
     },
     "execution_count": 17,
     "metadata": {},
     "output_type": "execute_result"
    }
   ],
   "source": [
    "len(df2)"
   ]
  },
  {
   "cell_type": "code",
   "execution_count": 18,
   "id": "dd0ccff0",
   "metadata": {},
   "outputs": [],
   "source": [
    "temp_df = df.append(df2)"
   ]
  },
  {
   "cell_type": "code",
   "execution_count": 21,
   "id": "814326b1",
   "metadata": {},
   "outputs": [
    {
     "data": {
      "text/plain": [
       "employee_id                 0\n",
       "department                  0\n",
       "region                      0\n",
       "education                3443\n",
       "gender                      0\n",
       "recruitment_channel         0\n",
       "no_of_trainings             0\n",
       "age                         0\n",
       "previous_year_rating     5936\n",
       "length_of_service           0\n",
       "KPIs_met >80%               0\n",
       "awards_won?                 0\n",
       "avg_training_score          0\n",
       "is_promoted             23490\n",
       "dtype: int64"
      ]
     },
     "execution_count": 21,
     "metadata": {},
     "output_type": "execute_result"
    }
   ],
   "source": [
    "temp_df.isnull().sum()"
   ]
  },
  {
   "cell_type": "code",
   "execution_count": 22,
   "id": "53c916b3",
   "metadata": {},
   "outputs": [
    {
     "data": {
      "text/plain": [
       "Bachelor's          52247\n",
       "Master's & above    21429\n",
       "Below Secondary      1179\n",
       "Name: education, dtype: int64"
      ]
     },
     "execution_count": 22,
     "metadata": {},
     "output_type": "execute_result"
    }
   ],
   "source": [
    "temp_df.education.value_counts()"
   ]
  },
  {
   "cell_type": "code",
   "execution_count": 23,
   "id": "97865cc0",
   "metadata": {},
   "outputs": [
    {
     "data": {
      "text/plain": [
       "3.0    26539\n",
       "5.0    16838\n",
       "4.0    14126\n",
       "1.0     8903\n",
       "2.0     5956\n",
       "Name: previous_year_rating, dtype: int64"
      ]
     },
     "execution_count": 23,
     "metadata": {},
     "output_type": "execute_result"
    }
   ],
   "source": [
    "temp_df.previous_year_rating.value_counts()"
   ]
  },
  {
   "cell_type": "markdown",
   "id": "6f2a8878",
   "metadata": {},
   "source": [
    "## Imputing the Null values"
   ]
  },
  {
   "cell_type": "code",
   "execution_count": 24,
   "id": "1d2ff517",
   "metadata": {},
   "outputs": [],
   "source": [
    "temp_df.education.fillna(\"Bachelor's\",axis=0,inplace=True)"
   ]
  },
  {
   "cell_type": "code",
   "execution_count": 25,
   "id": "92390bdc",
   "metadata": {},
   "outputs": [],
   "source": [
    "temp_df.previous_year_rating.fillna(0,axis=0,inplace=True)"
   ]
  },
  {
   "cell_type": "code",
   "execution_count": 26,
   "id": "7c66aa8e",
   "metadata": {},
   "outputs": [],
   "source": [
    "df = temp_df[:len(df)]"
   ]
  },
  {
   "cell_type": "code",
   "execution_count": 27,
   "id": "6aae3fc7",
   "metadata": {},
   "outputs": [
    {
     "data": {
      "text/plain": [
       "54808"
      ]
     },
     "execution_count": 27,
     "metadata": {},
     "output_type": "execute_result"
    }
   ],
   "source": [
    "len(df)"
   ]
  },
  {
   "cell_type": "code",
   "execution_count": 28,
   "id": "07c5d4a1",
   "metadata": {},
   "outputs": [],
   "source": [
    "df2 = temp_df[len(df):]"
   ]
  },
  {
   "cell_type": "code",
   "execution_count": 29,
   "id": "9b85923e",
   "metadata": {},
   "outputs": [
    {
     "data": {
      "text/plain": [
       "23490"
      ]
     },
     "execution_count": 29,
     "metadata": {},
     "output_type": "execute_result"
    }
   ],
   "source": [
    "len(df2)"
   ]
  },
  {
   "cell_type": "markdown",
   "id": "e3d0422b",
   "metadata": {},
   "source": [
    "## Analysis of the data"
   ]
  },
  {
   "cell_type": "markdown",
   "id": "728c4029",
   "metadata": {},
   "source": [
    "### What is the education of the employees on each dept."
   ]
  },
  {
   "cell_type": "code",
   "execution_count": 36,
   "id": "6491874c",
   "metadata": {},
   "outputs": [],
   "source": [
    "dept_count = pd.DataFrame(df.department.value_counts())\n",
    "# dept_count"
   ]
  },
  {
   "cell_type": "code",
   "execution_count": 37,
   "id": "994f5f19",
   "metadata": {},
   "outputs": [
    {
     "name": "stdout",
     "output_type": "stream",
     "text": [
      "Sales & Marketing \n",
      "\n",
      "Bachelor's          12674\n",
      "Master's & above     4166\n",
      "Name: education, dtype: int64\n",
      "\n",
      "\n",
      "Operations \n",
      "\n",
      "Bachelor's          8007\n",
      "Master's & above    3165\n",
      "Below Secondary      176\n",
      "Name: education, dtype: int64\n",
      "\n",
      "\n",
      "Technology \n",
      "\n",
      "Bachelor's          4741\n",
      "Master's & above    2196\n",
      "Below Secondary      201\n",
      "Name: education, dtype: int64\n",
      "\n",
      "\n",
      "Procurement \n",
      "\n",
      "Bachelor's          4465\n",
      "Master's & above    2544\n",
      "Below Secondary      129\n",
      "Name: education, dtype: int64\n",
      "\n",
      "\n",
      "Analytics \n",
      "\n",
      "Bachelor's          4315\n",
      "Master's & above    1037\n",
      "Name: education, dtype: int64\n",
      "\n",
      "\n",
      "Finance \n",
      "\n",
      "Bachelor's          1931\n",
      "Master's & above     499\n",
      "Below Secondary      106\n",
      "Name: education, dtype: int64\n",
      "\n",
      "\n",
      "HR \n",
      "\n",
      "Bachelor's          1557\n",
      "Master's & above     733\n",
      "Below Secondary      128\n",
      "Name: education, dtype: int64\n",
      "\n",
      "\n",
      "Legal \n",
      "\n",
      "Bachelor's          818\n",
      "Master's & above    156\n",
      "Below Secondary      65\n",
      "Name: education, dtype: int64\n",
      "\n",
      "\n",
      "R&D \n",
      "\n",
      "Bachelor's          570\n",
      "Master's & above    429\n",
      "Name: education, dtype: int64\n",
      "\n",
      "\n"
     ]
    }
   ],
   "source": [
    "for i in dept_count.index:\n",
    "    print(i,'\\n')\n",
    "    print(df.loc[df.department == i].education.value_counts())\n",
    "    print('\\n')"
   ]
  },
  {
   "cell_type": "code",
   "execution_count": 38,
   "id": "29d47f52",
   "metadata": {},
   "outputs": [
    {
     "data": {
      "text/html": [
       "<div>\n",
       "<style scoped>\n",
       "    .dataframe tbody tr th:only-of-type {\n",
       "        vertical-align: middle;\n",
       "    }\n",
       "\n",
       "    .dataframe tbody tr th {\n",
       "        vertical-align: top;\n",
       "    }\n",
       "\n",
       "    .dataframe thead th {\n",
       "        text-align: right;\n",
       "    }\n",
       "</style>\n",
       "<table border=\"1\" class=\"dataframe\">\n",
       "  <thead>\n",
       "    <tr style=\"text-align: right;\">\n",
       "      <th></th>\n",
       "      <th>employee_id</th>\n",
       "      <th>department</th>\n",
       "      <th>region</th>\n",
       "      <th>education</th>\n",
       "      <th>gender</th>\n",
       "      <th>recruitment_channel</th>\n",
       "      <th>no_of_trainings</th>\n",
       "      <th>age</th>\n",
       "      <th>previous_year_rating</th>\n",
       "      <th>length_of_service</th>\n",
       "      <th>KPIs_met &gt;80%</th>\n",
       "      <th>awards_won?</th>\n",
       "      <th>avg_training_score</th>\n",
       "      <th>is_promoted</th>\n",
       "      <th>age_category</th>\n",
       "      <th>los_category</th>\n",
       "    </tr>\n",
       "  </thead>\n",
       "  <tbody>\n",
       "    <tr>\n",
       "      <th>0</th>\n",
       "      <td>65438</td>\n",
       "      <td>Sales &amp; Marketing</td>\n",
       "      <td>region_7</td>\n",
       "      <td>Master's &amp; above</td>\n",
       "      <td>f</td>\n",
       "      <td>sourcing</td>\n",
       "      <td>1</td>\n",
       "      <td>35</td>\n",
       "      <td>5.0</td>\n",
       "      <td>8</td>\n",
       "      <td>1</td>\n",
       "      <td>0</td>\n",
       "      <td>49</td>\n",
       "      <td>0.0</td>\n",
       "      <td>30 - 39 years</td>\n",
       "      <td>6 - 10 years</td>\n",
       "    </tr>\n",
       "    <tr>\n",
       "      <th>1</th>\n",
       "      <td>65141</td>\n",
       "      <td>Operations</td>\n",
       "      <td>region_22</td>\n",
       "      <td>Bachelor's</td>\n",
       "      <td>m</td>\n",
       "      <td>other</td>\n",
       "      <td>1</td>\n",
       "      <td>30</td>\n",
       "      <td>5.0</td>\n",
       "      <td>4</td>\n",
       "      <td>0</td>\n",
       "      <td>0</td>\n",
       "      <td>60</td>\n",
       "      <td>0.0</td>\n",
       "      <td>30 - 39 years</td>\n",
       "      <td>3 - 5 years</td>\n",
       "    </tr>\n",
       "    <tr>\n",
       "      <th>2</th>\n",
       "      <td>7513</td>\n",
       "      <td>Sales &amp; Marketing</td>\n",
       "      <td>region_19</td>\n",
       "      <td>Bachelor's</td>\n",
       "      <td>m</td>\n",
       "      <td>sourcing</td>\n",
       "      <td>1</td>\n",
       "      <td>34</td>\n",
       "      <td>3.0</td>\n",
       "      <td>7</td>\n",
       "      <td>0</td>\n",
       "      <td>0</td>\n",
       "      <td>50</td>\n",
       "      <td>0.0</td>\n",
       "      <td>30 - 39 years</td>\n",
       "      <td>6 - 10 years</td>\n",
       "    </tr>\n",
       "    <tr>\n",
       "      <th>3</th>\n",
       "      <td>2542</td>\n",
       "      <td>Sales &amp; Marketing</td>\n",
       "      <td>region_23</td>\n",
       "      <td>Bachelor's</td>\n",
       "      <td>m</td>\n",
       "      <td>other</td>\n",
       "      <td>2</td>\n",
       "      <td>39</td>\n",
       "      <td>1.0</td>\n",
       "      <td>10</td>\n",
       "      <td>0</td>\n",
       "      <td>0</td>\n",
       "      <td>50</td>\n",
       "      <td>0.0</td>\n",
       "      <td>30 - 39 years</td>\n",
       "      <td>6 - 10 years</td>\n",
       "    </tr>\n",
       "    <tr>\n",
       "      <th>4</th>\n",
       "      <td>48945</td>\n",
       "      <td>Technology</td>\n",
       "      <td>region_26</td>\n",
       "      <td>Bachelor's</td>\n",
       "      <td>m</td>\n",
       "      <td>other</td>\n",
       "      <td>1</td>\n",
       "      <td>45</td>\n",
       "      <td>3.0</td>\n",
       "      <td>2</td>\n",
       "      <td>0</td>\n",
       "      <td>0</td>\n",
       "      <td>73</td>\n",
       "      <td>0.0</td>\n",
       "      <td>40 - 49 years</td>\n",
       "      <td>1 - 2 years</td>\n",
       "    </tr>\n",
       "  </tbody>\n",
       "</table>\n",
       "</div>"
      ],
      "text/plain": [
       "   employee_id         department     region         education gender  \\\n",
       "0        65438  Sales & Marketing   region_7  Master's & above      f   \n",
       "1        65141         Operations  region_22        Bachelor's      m   \n",
       "2         7513  Sales & Marketing  region_19        Bachelor's      m   \n",
       "3         2542  Sales & Marketing  region_23        Bachelor's      m   \n",
       "4        48945         Technology  region_26        Bachelor's      m   \n",
       "\n",
       "  recruitment_channel  no_of_trainings  age  previous_year_rating  \\\n",
       "0            sourcing                1   35                   5.0   \n",
       "1               other                1   30                   5.0   \n",
       "2            sourcing                1   34                   3.0   \n",
       "3               other                2   39                   1.0   \n",
       "4               other                1   45                   3.0   \n",
       "\n",
       "   length_of_service  KPIs_met >80%  awards_won?  avg_training_score  \\\n",
       "0                  8              1            0                  49   \n",
       "1                  4              0            0                  60   \n",
       "2                  7              0            0                  50   \n",
       "3                 10              0            0                  50   \n",
       "4                  2              0            0                  73   \n",
       "\n",
       "   is_promoted   age_category  los_category  \n",
       "0          0.0  30 - 39 years  6 - 10 years  \n",
       "1          0.0  30 - 39 years   3 - 5 years  \n",
       "2          0.0  30 - 39 years  6 - 10 years  \n",
       "3          0.0  30 - 39 years  6 - 10 years  \n",
       "4          0.0  40 - 49 years   1 - 2 years  "
      ]
     },
     "execution_count": 38,
     "metadata": {},
     "output_type": "execute_result"
    }
   ],
   "source": [
    "df.head()"
   ]
  },
  {
   "cell_type": "markdown",
   "id": "f4236eb9",
   "metadata": {},
   "source": [
    "### Adding new features for the purpose of analysis"
   ]
  },
  {
   "cell_type": "code",
   "execution_count": 41,
   "id": "38ff7eb7",
   "metadata": {},
   "outputs": [],
   "source": [
    "# Adding new feature \"Age Category\"\n",
    "ac = []\n",
    "for i in df.age:\n",
    "    if 20 <= i < 30:\n",
    "        ac.append('20 - 29 years')\n",
    "    elif 30<= i < 40:\n",
    "        ac.append('30 - 39 years')\n",
    "    elif 40<= i < 50:\n",
    "        ac.append('40 - 49 years')\n",
    "    elif 50<= i <= 60:\n",
    "        ac.append('50 - 60 years')\n",
    "df['age_category'] = ac"
   ]
  },
  {
   "cell_type": "code",
   "execution_count": 42,
   "id": "e3176d45",
   "metadata": {},
   "outputs": [],
   "source": [
    "# Adding new feature \"los category\"\n",
    "los = []\n",
    "for i in df.length_of_service:\n",
    "    if 1<=i<3:\n",
    "        los.append('1 - 2 years')\n",
    "    elif 3<= i < 6:\n",
    "        los.append('3 - 5 years')\n",
    "    elif 6<= i < 11:\n",
    "        los.append('6 - 10 years')\n",
    "    elif 11<= i < 21:\n",
    "        los.append('11 to 20 years')\n",
    "    elif 21 <= i < 31:\n",
    "        los.append('21 - 30 years')\n",
    "    elif i > 30:\n",
    "        los.append('> than 30 years')\n",
    "df['los_category'] = los"
   ]
  },
  {
   "cell_type": "markdown",
   "id": "bd3897aa",
   "metadata": {},
   "source": [
    "###  Previous year rating wrt gender"
   ]
  },
  {
   "cell_type": "code",
   "execution_count": 78,
   "id": "f5440cb7",
   "metadata": {
    "scrolled": true
   },
   "outputs": [
    {
     "name": "stdout",
     "output_type": "stream",
     "text": [
      "gender\n",
      "f    3.136341\n",
      "m    3.054343\n",
      "Name: previous_year_rating, dtype: float64\n",
      "\n",
      "Inference : Female employees have slightly better ratings than male employees.\n",
      "(nothing significant)\n"
     ]
    }
   ],
   "source": [
    "print(df.previous_year_rating.groupby(df.gender).mean().sort_values(ascending=False))\n",
    "print('\\nInference : Female employees have slightly better ratings than male employees.\\n(nothing significant)')"
   ]
  },
  {
   "cell_type": "code",
   "execution_count": 238,
   "id": "b78bd8b4",
   "metadata": {},
   "outputs": [],
   "source": [
    "# df.gender.value_counts()"
   ]
  },
  {
   "cell_type": "markdown",
   "id": "5254419f",
   "metadata": {},
   "source": [
    "### Previous year rating wrt region "
   ]
  },
  {
   "cell_type": "code",
   "execution_count": 79,
   "id": "ccd9fdfc",
   "metadata": {},
   "outputs": [],
   "source": [
    "# df.previous_year_rating.groupby(df.region).mean().sort_values(ascending=False).head(10) # top 10 regions\n",
    "prev_year_rating_region = pd.DataFrame(df.previous_year_rating.groupby(df.region).mean().sort_values(ascending=False)) # full list\n",
    "\n",
    "met = []\n",
    "for i in prev_year_rating_region.previous_year_rating:\n",
    "    if i >= 3.0:\n",
    "        met.append(1)\n",
    "    else:\n",
    "        met.append(0)\n",
    "prev_year_rating_region['metrics'] = met\n",
    "reg_val = []\n",
    "for i in prev_year_rating_region.index:\n",
    "    reg_val.append(i.split('_')[1])\n",
    "prev_year_rating_region['reg_val'] = reg_val\n",
    "prev_year_rating_region['reg_val'] = prev_year_rating_region['reg_val'].astype(int)"
   ]
  },
  {
   "cell_type": "code",
   "execution_count": 236,
   "id": "ec74e02b",
   "metadata": {},
   "outputs": [
    {
     "data": {
      "text/html": [
       "<div>\n",
       "<style scoped>\n",
       "    .dataframe tbody tr th:only-of-type {\n",
       "        vertical-align: middle;\n",
       "    }\n",
       "\n",
       "    .dataframe tbody tr th {\n",
       "        vertical-align: top;\n",
       "    }\n",
       "\n",
       "    .dataframe thead th {\n",
       "        text-align: right;\n",
       "    }\n",
       "</style>\n",
       "<table border=\"1\" class=\"dataframe\">\n",
       "  <thead>\n",
       "    <tr style=\"text-align: right;\">\n",
       "      <th></th>\n",
       "      <th>previous_year_rating</th>\n",
       "      <th>metrics</th>\n",
       "      <th>reg_val</th>\n",
       "    </tr>\n",
       "    <tr>\n",
       "      <th>region</th>\n",
       "      <th></th>\n",
       "      <th></th>\n",
       "      <th></th>\n",
       "    </tr>\n",
       "  </thead>\n",
       "  <tbody>\n",
       "    <tr>\n",
       "      <th>region_1</th>\n",
       "      <td>3.172131</td>\n",
       "      <td>1</td>\n",
       "      <td>1</td>\n",
       "    </tr>\n",
       "    <tr>\n",
       "      <th>region_2</th>\n",
       "      <td>3.113101</td>\n",
       "      <td>1</td>\n",
       "      <td>2</td>\n",
       "    </tr>\n",
       "    <tr>\n",
       "      <th>region_3</th>\n",
       "      <td>3.355491</td>\n",
       "      <td>1</td>\n",
       "      <td>3</td>\n",
       "    </tr>\n",
       "    <tr>\n",
       "      <th>region_4</th>\n",
       "      <td>3.406929</td>\n",
       "      <td>1</td>\n",
       "      <td>4</td>\n",
       "    </tr>\n",
       "    <tr>\n",
       "      <th>region_5</th>\n",
       "      <td>2.766319</td>\n",
       "      <td>0</td>\n",
       "      <td>5</td>\n",
       "    </tr>\n",
       "    <tr>\n",
       "      <th>region_6</th>\n",
       "      <td>2.713043</td>\n",
       "      <td>0</td>\n",
       "      <td>6</td>\n",
       "    </tr>\n",
       "    <tr>\n",
       "      <th>region_7</th>\n",
       "      <td>3.224241</td>\n",
       "      <td>1</td>\n",
       "      <td>7</td>\n",
       "    </tr>\n",
       "    <tr>\n",
       "      <th>region_8</th>\n",
       "      <td>3.076336</td>\n",
       "      <td>1</td>\n",
       "      <td>8</td>\n",
       "    </tr>\n",
       "    <tr>\n",
       "      <th>region_9</th>\n",
       "      <td>2.435714</td>\n",
       "      <td>0</td>\n",
       "      <td>9</td>\n",
       "    </tr>\n",
       "    <tr>\n",
       "      <th>region_10</th>\n",
       "      <td>3.109568</td>\n",
       "      <td>1</td>\n",
       "      <td>10</td>\n",
       "    </tr>\n",
       "    <tr>\n",
       "      <th>region_11</th>\n",
       "      <td>3.090494</td>\n",
       "      <td>1</td>\n",
       "      <td>11</td>\n",
       "    </tr>\n",
       "    <tr>\n",
       "      <th>region_12</th>\n",
       "      <td>2.832000</td>\n",
       "      <td>0</td>\n",
       "      <td>12</td>\n",
       "    </tr>\n",
       "    <tr>\n",
       "      <th>region_13</th>\n",
       "      <td>3.172205</td>\n",
       "      <td>1</td>\n",
       "      <td>13</td>\n",
       "    </tr>\n",
       "    <tr>\n",
       "      <th>region_14</th>\n",
       "      <td>3.158404</td>\n",
       "      <td>1</td>\n",
       "      <td>14</td>\n",
       "    </tr>\n",
       "    <tr>\n",
       "      <th>region_15</th>\n",
       "      <td>3.204416</td>\n",
       "      <td>1</td>\n",
       "      <td>15</td>\n",
       "    </tr>\n",
       "    <tr>\n",
       "      <th>region_16</th>\n",
       "      <td>2.996587</td>\n",
       "      <td>0</td>\n",
       "      <td>16</td>\n",
       "    </tr>\n",
       "    <tr>\n",
       "      <th>region_17</th>\n",
       "      <td>3.257538</td>\n",
       "      <td>1</td>\n",
       "      <td>17</td>\n",
       "    </tr>\n",
       "    <tr>\n",
       "      <th>region_18</th>\n",
       "      <td>1.967742</td>\n",
       "      <td>0</td>\n",
       "      <td>18</td>\n",
       "    </tr>\n",
       "    <tr>\n",
       "      <th>region_19</th>\n",
       "      <td>3.257437</td>\n",
       "      <td>1</td>\n",
       "      <td>19</td>\n",
       "    </tr>\n",
       "    <tr>\n",
       "      <th>region_20</th>\n",
       "      <td>3.084706</td>\n",
       "      <td>1</td>\n",
       "      <td>20</td>\n",
       "    </tr>\n",
       "    <tr>\n",
       "      <th>region_21</th>\n",
       "      <td>2.946472</td>\n",
       "      <td>0</td>\n",
       "      <td>21</td>\n",
       "    </tr>\n",
       "    <tr>\n",
       "      <th>region_22</th>\n",
       "      <td>2.995177</td>\n",
       "      <td>0</td>\n",
       "      <td>22</td>\n",
       "    </tr>\n",
       "    <tr>\n",
       "      <th>region_23</th>\n",
       "      <td>3.238298</td>\n",
       "      <td>1</td>\n",
       "      <td>23</td>\n",
       "    </tr>\n",
       "    <tr>\n",
       "      <th>region_24</th>\n",
       "      <td>2.492126</td>\n",
       "      <td>0</td>\n",
       "      <td>24</td>\n",
       "    </tr>\n",
       "    <tr>\n",
       "      <th>region_25</th>\n",
       "      <td>3.195360</td>\n",
       "      <td>1</td>\n",
       "      <td>25</td>\n",
       "    </tr>\n",
       "    <tr>\n",
       "      <th>region_26</th>\n",
       "      <td>2.981858</td>\n",
       "      <td>0</td>\n",
       "      <td>26</td>\n",
       "    </tr>\n",
       "    <tr>\n",
       "      <th>region_27</th>\n",
       "      <td>2.919831</td>\n",
       "      <td>0</td>\n",
       "      <td>27</td>\n",
       "    </tr>\n",
       "    <tr>\n",
       "      <th>region_28</th>\n",
       "      <td>3.205615</td>\n",
       "      <td>1</td>\n",
       "      <td>28</td>\n",
       "    </tr>\n",
       "    <tr>\n",
       "      <th>region_29</th>\n",
       "      <td>2.812877</td>\n",
       "      <td>0</td>\n",
       "      <td>29</td>\n",
       "    </tr>\n",
       "    <tr>\n",
       "      <th>region_30</th>\n",
       "      <td>3.018265</td>\n",
       "      <td>1</td>\n",
       "      <td>30</td>\n",
       "    </tr>\n",
       "    <tr>\n",
       "      <th>region_31</th>\n",
       "      <td>2.962791</td>\n",
       "      <td>0</td>\n",
       "      <td>31</td>\n",
       "    </tr>\n",
       "    <tr>\n",
       "      <th>region_32</th>\n",
       "      <td>2.906878</td>\n",
       "      <td>0</td>\n",
       "      <td>32</td>\n",
       "    </tr>\n",
       "    <tr>\n",
       "      <th>region_33</th>\n",
       "      <td>2.921933</td>\n",
       "      <td>0</td>\n",
       "      <td>33</td>\n",
       "    </tr>\n",
       "    <tr>\n",
       "      <th>region_34</th>\n",
       "      <td>2.568493</td>\n",
       "      <td>0</td>\n",
       "      <td>34</td>\n",
       "    </tr>\n",
       "  </tbody>\n",
       "</table>\n",
       "</div>"
      ],
      "text/plain": [
       "           previous_year_rating  metrics  reg_val\n",
       "region                                           \n",
       "region_1               3.172131        1        1\n",
       "region_2               3.113101        1        2\n",
       "region_3               3.355491        1        3\n",
       "region_4               3.406929        1        4\n",
       "region_5               2.766319        0        5\n",
       "region_6               2.713043        0        6\n",
       "region_7               3.224241        1        7\n",
       "region_8               3.076336        1        8\n",
       "region_9               2.435714        0        9\n",
       "region_10              3.109568        1       10\n",
       "region_11              3.090494        1       11\n",
       "region_12              2.832000        0       12\n",
       "region_13              3.172205        1       13\n",
       "region_14              3.158404        1       14\n",
       "region_15              3.204416        1       15\n",
       "region_16              2.996587        0       16\n",
       "region_17              3.257538        1       17\n",
       "region_18              1.967742        0       18\n",
       "region_19              3.257437        1       19\n",
       "region_20              3.084706        1       20\n",
       "region_21              2.946472        0       21\n",
       "region_22              2.995177        0       22\n",
       "region_23              3.238298        1       23\n",
       "region_24              2.492126        0       24\n",
       "region_25              3.195360        1       25\n",
       "region_26              2.981858        0       26\n",
       "region_27              2.919831        0       27\n",
       "region_28              3.205615        1       28\n",
       "region_29              2.812877        0       29\n",
       "region_30              3.018265        1       30\n",
       "region_31              2.962791        0       31\n",
       "region_32              2.906878        0       32\n",
       "region_33              2.921933        0       33\n",
       "region_34              2.568493        0       34"
      ]
     },
     "execution_count": 236,
     "metadata": {},
     "output_type": "execute_result"
    }
   ],
   "source": [
    "prev_year_rating_region.sort_values('reg_val',ascending=True)"
   ]
  },
  {
   "cell_type": "code",
   "execution_count": null,
   "id": "4d7652c1",
   "metadata": {},
   "outputs": [],
   "source": []
  },
  {
   "cell_type": "markdown",
   "id": "c6f2b2e4",
   "metadata": {},
   "source": [
    "### Previous year rating wrt education"
   ]
  },
  {
   "cell_type": "code",
   "execution_count": 81,
   "id": "80814bfc",
   "metadata": {},
   "outputs": [
    {
     "name": "stdout",
     "output_type": "stream",
     "text": [
      "education\n",
      "Master's & above    3.333936\n",
      "Bachelor's          3.003762\n",
      "Below Secondary     1.987578\n",
      "Name: previous_year_rating, dtype: float64\n",
      "\n",
      "Inference : Theres a significant difference bachelors and BS. however,\n",
      "there is also a noticeable difference between bach. and Mast. employees!\n"
     ]
    }
   ],
   "source": [
    "print(df.previous_year_rating.groupby(df.education).mean().sort_values(ascending=False))\n",
    "print('\\nInference : Theres a significant difference bachelors and BS. however,\\nthere is also a noticeable difference between bach. and Mast. employees!') "
   ]
  },
  {
   "cell_type": "code",
   "execution_count": 133,
   "id": "b48b0211",
   "metadata": {},
   "outputs": [],
   "source": [
    "# df.head()"
   ]
  },
  {
   "cell_type": "markdown",
   "id": "30d76211",
   "metadata": {},
   "source": [
    "### Previous year rating wrt department"
   ]
  },
  {
   "cell_type": "code",
   "execution_count": 89,
   "id": "4cc14e74",
   "metadata": {},
   "outputs": [
    {
     "name": "stdout",
     "output_type": "stream",
     "text": [
      "department\n",
      "Operations           3.443955\n",
      "R&D                  3.253253\n",
      "Analytics            3.247571\n",
      "HR                   3.128619\n",
      "Finance              3.115142\n",
      "Procurement          3.100588\n",
      "Technology           2.917064\n",
      "Legal                2.854668\n",
      "Sales & Marketing    2.829097\n",
      "Name: previous_year_rating, dtype: float64\n",
      "\n",
      "Inference : Operations have the highest average rating, however,\n",
      "the technology dept. have not had a great year!\n"
     ]
    }
   ],
   "source": [
    "print(df.previous_year_rating.groupby(df.department).mean().sort_values(ascending=False))\n",
    "print('\\nInference : Operations have the highest average rating, however,\\nthe technology dept. have not had a great year!')"
   ]
  },
  {
   "cell_type": "markdown",
   "id": "73d61fc3",
   "metadata": {},
   "source": [
    "### Previous year rating wrt recruitment_channel\n"
   ]
  },
  {
   "cell_type": "code",
   "execution_count": 93,
   "id": "942cc787",
   "metadata": {},
   "outputs": [
    {
     "name": "stdout",
     "output_type": "stream",
     "text": [
      "recruitment_channel\n",
      "referred    3.550788\n",
      "sourcing    3.073213\n",
      "other       3.065263\n",
      "Name: previous_year_rating, dtype: float64\n",
      "\n",
      "Inference : It is quite clear that the emps joined based on referal have done quite significantly well.\n"
     ]
    }
   ],
   "source": [
    "print(df.previous_year_rating.groupby(df.recruitment_channel).mean().sort_values(ascending=False))\n",
    "print('\\nInference : It is quite clear that the emps joined based on referal have done quite significantly well.')"
   ]
  },
  {
   "cell_type": "markdown",
   "id": "1e9418c2",
   "metadata": {},
   "source": [
    "### Previous year rating wrt no_of_trainings"
   ]
  },
  {
   "cell_type": "code",
   "execution_count": 194,
   "id": "6918cd21",
   "metadata": {},
   "outputs": [],
   "source": [
    "pyr_not = pd.DataFrame(df.previous_year_rating.groupby(df.no_of_trainings).mean().sort_values(ascending=False))"
   ]
  },
  {
   "cell_type": "code",
   "execution_count": 195,
   "id": "7d1f71a2",
   "metadata": {},
   "outputs": [],
   "source": [
    "ec_not = pd.DataFrame(df.no_of_trainings.value_counts())"
   ]
  },
  {
   "cell_type": "code",
   "execution_count": 196,
   "id": "dfa189f4",
   "metadata": {},
   "outputs": [],
   "source": [
    "merged = pd.concat([pyr_not,ec_not],axis=1)\n",
    "merged.rename(columns={'no_of_trainings':'emp_count'},inplace=True)\n",
    "merged['no_of_trainings'] = merged.index"
   ]
  },
  {
   "cell_type": "code",
   "execution_count": 199,
   "id": "9f1a037f",
   "metadata": {
    "scrolled": true
   },
   "outputs": [
    {
     "name": "stdout",
     "output_type": "stream",
     "text": [
      "    previous_year_rating  emp_count  no_of_trainings\n",
      "1               3.117581      44378                1\n",
      "2               2.969576       7987                2\n",
      "3               2.814752       1776                3\n",
      "4               2.551282        468                4\n",
      "5               2.531250        128                5\n",
      "6               2.022727         44                6\n",
      "7               2.666667         12                7\n",
      "8               2.200000          5                8\n",
      "9               1.600000          5                9\n",
      "10              2.600000          5               10\n",
      "\n",
      "\n",
      "Inference : People who went through more than 1 training have not gotten good ratings the next year.\n",
      "\u001b[1m\u001b[31m\n",
      "Actionable Insight : Reduce the number of trainings for the employees significantly! (at the max 3)\u001b[0m\n"
     ]
    }
   ],
   "source": [
    "print(merged.sort_index())\n",
    "print('\\n\\nInference : People who went through more than 1 training have not gotten good ratings the next year.')\n",
    "print(colored('\\nActionable Insight : Reduce the number of trainings for the employees significantly! (at the max 3)','red',attrs=['bold']))"
   ]
  },
  {
   "cell_type": "code",
   "execution_count": null,
   "id": "744ad761",
   "metadata": {},
   "outputs": [],
   "source": []
  },
  {
   "cell_type": "markdown",
   "id": "b305b78b",
   "metadata": {},
   "source": [
    "### Previous year rating wrt age_category"
   ]
  },
  {
   "cell_type": "code",
   "execution_count": 200,
   "id": "f9205ccd",
   "metadata": {
    "scrolled": true
   },
   "outputs": [
    {
     "name": "stdout",
     "output_type": "stream",
     "text": [
      "age_category\n",
      "40 - 49 years    3.323615\n",
      "50 - 60 years    3.302401\n",
      "30 - 39 years    3.282269\n",
      "20 - 29 years    2.480177\n",
      "Name: previous_year_rating, dtype: float64\n",
      "\u001b[31m\n",
      "Surprisingly\u001b[0m \u001b[1m\u001b[34mAge catg. 20-29\u001b[0m \u001b[31mhave the lowest ratings!\u001b[0m\n"
     ]
    }
   ],
   "source": [
    "print(df.previous_year_rating.groupby(df.age_category).mean().sort_values(ascending=False))\n",
    "print(colored('\\nSurprisingly','red'),colored('Age catg. 20-29','blue',attrs=['bold']),colored('have the lowest ratings!','red'))"
   ]
  },
  {
   "cell_type": "markdown",
   "id": "083dad04",
   "metadata": {},
   "source": [
    "### Previous year rating wrt age"
   ]
  },
  {
   "cell_type": "code",
   "execution_count": 122,
   "id": "fa628071",
   "metadata": {},
   "outputs": [],
   "source": [
    "# df.previous_year_rating.groupby(df.age).mean().sort_values(ascending=False)"
   ]
  },
  {
   "cell_type": "markdown",
   "id": "7ea8b9c2",
   "metadata": {},
   "source": [
    "### Previous year rating wrt length of service category\n"
   ]
  },
  {
   "cell_type": "code",
   "execution_count": 128,
   "id": "98cbed14",
   "metadata": {},
   "outputs": [
    {
     "name": "stdout",
     "output_type": "stream",
     "text": [
      "los_category\n",
      "> than 30 years    3.613636\n",
      "6 - 10 years       3.341801\n",
      "3 - 5 years        3.328054\n",
      "11 to 20 years     3.313711\n",
      "21 - 30 years      3.293249\n",
      "1 - 2 years        2.096608\n",
      "Name: previous_year_rating, dtype: float64\n",
      "\n",
      "Inferences : Experienced candidates have performed better than the candidates with less experience.\n",
      "This also can be verified by the analysis of ratings and the Age category aspect.\n"
     ]
    }
   ],
   "source": [
    "print(df.previous_year_rating.groupby(df.los_category).mean().sort_values(ascending=False))\n",
    "print('\\nInferences : Experienced candidates have performed better than the candidates with less experience.\\nThis also can be verified by the analysis of ratings and the Age category aspect.')\n",
    "## previous year rating wrt length of service\n",
    "# df.previous_year_rating.groupby(df.length_of_service).mean().sort_values(ascending=False)"
   ]
  },
  {
   "cell_type": "markdown",
   "id": "4cad7dec",
   "metadata": {},
   "source": [
    "### Previous year rating wrt KPI met \n"
   ]
  },
  {
   "cell_type": "code",
   "execution_count": 201,
   "id": "83408c8a",
   "metadata": {},
   "outputs": [
    {
     "name": "stdout",
     "output_type": "stream",
     "text": [
      "KPIs_met >80%\n",
      "1    3.636307\n",
      "0    2.775910\n",
      "Name: previous_year_rating, dtype: float64\n",
      "\n",
      "Inference : candidates who have achived KPIs > 80 have Significantlty better ratings than others\n"
     ]
    }
   ],
   "source": [
    "print(df.previous_year_rating.groupby(df['KPIs_met >80%']).mean().sort_values(ascending=False))\n",
    "print('\\nInference : candidates who have achived KPIs > 80 have Significantlty better ratings than others')"
   ]
  },
  {
   "cell_type": "markdown",
   "id": "a84b583a",
   "metadata": {},
   "source": [
    "### How many have achived KPI > 80?"
   ]
  },
  {
   "cell_type": "code",
   "execution_count": 210,
   "id": "787d5e5e",
   "metadata": {},
   "outputs": [
    {
     "name": "stdout",
     "output_type": "stream",
     "text": [
      "0    35517\n",
      "1    19291\n",
      "Name: KPIs_met >80%, dtype: int64\n"
     ]
    },
    {
     "data": {
      "image/png": "[encoded data removed]",
      "text/plain": [
       "<Figure size 432x288 with 1 Axes>"
      ]
     },
     "metadata": {},
     "output_type": "display_data"
    }
   ],
   "source": [
    "## count of how many have achieved the KPI's > 80%\n",
    "plt.pie(df['KPIs_met >80%'].value_counts(),labels=df['KPIs_met >80%'].value_counts().index,startangle=90)\n",
    "print(df['KPIs_met >80%'].value_counts())\n",
    "plt.show()"
   ]
  },
  {
   "cell_type": "markdown",
   "id": "3fc4c0a1",
   "metadata": {},
   "source": [
    "### Previous year rating wrt awards won"
   ]
  },
  {
   "cell_type": "code",
   "execution_count": 218,
   "id": "b97a5ca6",
   "metadata": {
    "scrolled": true
   },
   "outputs": [
    {
     "name": "stdout",
     "output_type": "stream",
     "text": [
      "awards_won?\n",
      "1    3.287402\n",
      "0    3.073798\n",
      "Name: previous_year_rating, dtype: float64\n",
      "\n",
      "Inference : employees who hav not won awards have also equally performed well,\n",
      "however, employees who got an award have a noticelably higher rating than those who didnt\n"
     ]
    }
   ],
   "source": [
    "print(df.previous_year_rating.groupby(df['awards_won?']).mean().sort_values(ascending=False))\n",
    "print('\\nInference : employees who hav not won awards have also equally performed well,\\nhowever, employees who got an award have a noticelably higher rating than those who didnt')"
   ]
  },
  {
   "cell_type": "markdown",
   "id": "6d7c9652",
   "metadata": {},
   "source": [
    "### Previous year rating wrt promotion\n"
   ]
  },
  {
   "cell_type": "code",
   "execution_count": 219,
   "id": "3dbbdabd",
   "metadata": {
    "scrolled": true
   },
   "outputs": [
    {
     "name": "stdout",
     "output_type": "stream",
     "text": [
      "is_promoted\n",
      "1.0    3.696658\n",
      "0.0    3.021221\n",
      "Name: previous_year_rating, dtype: float64\n",
      "\n",
      "Inference : people who got promoted also had better ratings than emps who did not get promoted\n"
     ]
    }
   ],
   "source": [
    "print(df.previous_year_rating.groupby(df['is_promoted']).mean().sort_values(ascending=False))\n",
    "print('\\nInference : people who got promoted also had better ratings than emps who did not get promoted')"
   ]
  },
  {
   "cell_type": "code",
   "execution_count": null,
   "id": "01bb47fa",
   "metadata": {},
   "outputs": [],
   "source": []
  },
  {
   "cell_type": "code",
   "execution_count": 293,
   "id": "9bafa5c3",
   "metadata": {},
   "outputs": [],
   "source": [
    "# df.head()"
   ]
  },
  {
   "cell_type": "markdown",
   "id": "9d13ede5",
   "metadata": {},
   "source": [
    "### Department, KPIs met wrt the ratings "
   ]
  },
  {
   "cell_type": "code",
   "execution_count": 295,
   "id": "868bf1aa",
   "metadata": {},
   "outputs": [],
   "source": [
    "dept_kpi_ispr = df.groupby(['department','KPIs_met >80%','is_promoted']).mean()[['age','previous_year_rating','avg_training_score']]"
   ]
  },
  {
   "cell_type": "code",
   "execution_count": 296,
   "id": "0b9b3ec7",
   "metadata": {},
   "outputs": [
    {
     "data": {
      "text/html": [
       "<div>\n",
       "<style scoped>\n",
       "    .dataframe tbody tr th:only-of-type {\n",
       "        vertical-align: middle;\n",
       "    }\n",
       "\n",
       "    .dataframe tbody tr th {\n",
       "        vertical-align: top;\n",
       "    }\n",
       "\n",
       "    .dataframe thead th {\n",
       "        text-align: right;\n",
       "    }\n",
       "</style>\n",
       "<table border=\"1\" class=\"dataframe\">\n",
       "  <thead>\n",
       "    <tr style=\"text-align: right;\">\n",
       "      <th></th>\n",
       "      <th></th>\n",
       "      <th></th>\n",
       "      <th>age</th>\n",
       "      <th>previous_year_rating</th>\n",
       "      <th>avg_training_score</th>\n",
       "    </tr>\n",
       "    <tr>\n",
       "      <th>department</th>\n",
       "      <th>KPIs_met &gt;80%</th>\n",
       "      <th>is_promoted</th>\n",
       "      <th></th>\n",
       "      <th></th>\n",
       "      <th></th>\n",
       "    </tr>\n",
       "  </thead>\n",
       "  <tbody>\n",
       "    <tr>\n",
       "      <th rowspan=\"4\" valign=\"top\">Analytics</th>\n",
       "      <th rowspan=\"2\" valign=\"top\">0</th>\n",
       "      <th>0.0</th>\n",
       "      <td>32.701187</td>\n",
       "      <td>2.912929</td>\n",
       "      <td>84.486478</td>\n",
       "    </tr>\n",
       "    <tr>\n",
       "      <th>1.0</th>\n",
       "      <td>31.363057</td>\n",
       "      <td>3.636943</td>\n",
       "      <td>85.592357</td>\n",
       "    </tr>\n",
       "    <tr>\n",
       "      <th rowspan=\"2\" valign=\"top\">1</th>\n",
       "      <th>0.0</th>\n",
       "      <td>32.207412</td>\n",
       "      <td>3.686394</td>\n",
       "      <td>84.449668</td>\n",
       "    </tr>\n",
       "    <tr>\n",
       "      <th>1.0</th>\n",
       "      <td>31.738028</td>\n",
       "      <td>3.698592</td>\n",
       "      <td>85.940845</td>\n",
       "    </tr>\n",
       "    <tr>\n",
       "      <th rowspan=\"4\" valign=\"top\">Finance</th>\n",
       "      <th rowspan=\"2\" valign=\"top\">0</th>\n",
       "      <th>0.0</th>\n",
       "      <td>32.664062</td>\n",
       "      <td>2.808239</td>\n",
       "      <td>59.530540</td>\n",
       "    </tr>\n",
       "    <tr>\n",
       "      <th>1.0</th>\n",
       "      <td>31.842105</td>\n",
       "      <td>3.394737</td>\n",
       "      <td>75.407895</td>\n",
       "    </tr>\n",
       "    <tr>\n",
       "      <th rowspan=\"2\" valign=\"top\">1</th>\n",
       "      <th>0.0</th>\n",
       "      <td>31.427332</td>\n",
       "      <td>3.500000</td>\n",
       "      <td>59.399132</td>\n",
       "    </tr>\n",
       "    <tr>\n",
       "      <th>1.0</th>\n",
       "      <td>30.107692</td>\n",
       "      <td>3.546154</td>\n",
       "      <td>64.669231</td>\n",
       "    </tr>\n",
       "    <tr>\n",
       "      <th rowspan=\"4\" valign=\"top\">HR</th>\n",
       "      <th rowspan=\"2\" valign=\"top\">0</th>\n",
       "      <th>0.0</th>\n",
       "      <td>34.835564</td>\n",
       "      <td>2.885915</td>\n",
       "      <td>49.554493</td>\n",
       "    </tr>\n",
       "    <tr>\n",
       "      <th>1.0</th>\n",
       "      <td>36.853659</td>\n",
       "      <td>3.731707</td>\n",
       "      <td>67.658537</td>\n",
       "    </tr>\n",
       "    <tr>\n",
       "      <th rowspan=\"2\" valign=\"top\">1</th>\n",
       "      <th>0.0</th>\n",
       "      <td>33.469846</td>\n",
       "      <td>3.556802</td>\n",
       "      <td>49.535764</td>\n",
       "    </tr>\n",
       "    <tr>\n",
       "      <th>1.0</th>\n",
       "      <td>32.768421</td>\n",
       "      <td>3.663158</td>\n",
       "      <td>53.684211</td>\n",
       "    </tr>\n",
       "    <tr>\n",
       "      <th rowspan=\"4\" valign=\"top\">Legal</th>\n",
       "      <th rowspan=\"2\" valign=\"top\">0</th>\n",
       "      <th>0.0</th>\n",
       "      <td>34.190265</td>\n",
       "      <td>2.640118</td>\n",
       "      <td>59.554572</td>\n",
       "    </tr>\n",
       "    <tr>\n",
       "      <th>1.0</th>\n",
       "      <td>32.285714</td>\n",
       "      <td>2.714286</td>\n",
       "      <td>74.071429</td>\n",
       "    </tr>\n",
       "    <tr>\n",
       "      <th rowspan=\"2\" valign=\"top\">1</th>\n",
       "      <th>0.0</th>\n",
       "      <td>33.376623</td>\n",
       "      <td>3.269481</td>\n",
       "      <td>59.431818</td>\n",
       "    </tr>\n",
       "    <tr>\n",
       "      <th>1.0</th>\n",
       "      <td>31.769231</td>\n",
       "      <td>3.358974</td>\n",
       "      <td>63.666667</td>\n",
       "    </tr>\n",
       "    <tr>\n",
       "      <th rowspan=\"4\" valign=\"top\">Operations</th>\n",
       "      <th rowspan=\"2\" valign=\"top\">0</th>\n",
       "      <th>0.0</th>\n",
       "      <td>35.979136</td>\n",
       "      <td>3.076610</td>\n",
       "      <td>59.533333</td>\n",
       "    </tr>\n",
       "    <tr>\n",
       "      <th>1.0</th>\n",
       "      <td>37.052308</td>\n",
       "      <td>3.944615</td>\n",
       "      <td>73.898462</td>\n",
       "    </tr>\n",
       "    <tr>\n",
       "      <th rowspan=\"2\" valign=\"top\">1</th>\n",
       "      <th>0.0</th>\n",
       "      <td>36.130788</td>\n",
       "      <td>3.873747</td>\n",
       "      <td>59.533890</td>\n",
       "    </tr>\n",
       "    <tr>\n",
       "      <th>1.0</th>\n",
       "      <td>36.106017</td>\n",
       "      <td>3.859599</td>\n",
       "      <td>64.113181</td>\n",
       "    </tr>\n",
       "    <tr>\n",
       "      <th rowspan=\"4\" valign=\"top\">Procurement</th>\n",
       "      <th rowspan=\"2\" valign=\"top\">0</th>\n",
       "      <th>0.0</th>\n",
       "      <td>35.964277</td>\n",
       "      <td>2.670975</td>\n",
       "      <td>69.496827</td>\n",
       "    </tr>\n",
       "    <tr>\n",
       "      <th>1.0</th>\n",
       "      <td>35.436170</td>\n",
       "      <td>3.856383</td>\n",
       "      <td>84.111702</td>\n",
       "    </tr>\n",
       "    <tr>\n",
       "      <th rowspan=\"2\" valign=\"top\">1</th>\n",
       "      <th>0.0</th>\n",
       "      <td>35.856492</td>\n",
       "      <td>3.704328</td>\n",
       "      <td>69.496128</td>\n",
       "    </tr>\n",
       "    <tr>\n",
       "      <th>1.0</th>\n",
       "      <td>35.718000</td>\n",
       "      <td>3.822000</td>\n",
       "      <td>72.936000</td>\n",
       "    </tr>\n",
       "    <tr>\n",
       "      <th rowspan=\"4\" valign=\"top\">R&amp;D</th>\n",
       "      <th rowspan=\"2\" valign=\"top\">0</th>\n",
       "      <th>0.0</th>\n",
       "      <td>32.565603</td>\n",
       "      <td>2.817376</td>\n",
       "      <td>84.648936</td>\n",
       "    </tr>\n",
       "    <tr>\n",
       "      <th>1.0</th>\n",
       "      <td>32.210526</td>\n",
       "      <td>3.578947</td>\n",
       "      <td>85.315789</td>\n",
       "    </tr>\n",
       "    <tr>\n",
       "      <th rowspan=\"2\" valign=\"top\">1</th>\n",
       "      <th>0.0</th>\n",
       "      <td>33.434426</td>\n",
       "      <td>3.860656</td>\n",
       "      <td>84.314208</td>\n",
       "    </tr>\n",
       "    <tr>\n",
       "      <th>1.0</th>\n",
       "      <td>31.880000</td>\n",
       "      <td>3.600000</td>\n",
       "      <td>85.800000</td>\n",
       "    </tr>\n",
       "    <tr>\n",
       "      <th rowspan=\"4\" valign=\"top\">Sales &amp; Marketing</th>\n",
       "      <th rowspan=\"2\" valign=\"top\">0</th>\n",
       "      <th>0.0</th>\n",
       "      <td>34.992015</td>\n",
       "      <td>2.587291</td>\n",
       "      <td>49.512102</td>\n",
       "    </tr>\n",
       "    <tr>\n",
       "      <th>1.0</th>\n",
       "      <td>34.288952</td>\n",
       "      <td>3.478754</td>\n",
       "      <td>66.311615</td>\n",
       "    </tr>\n",
       "    <tr>\n",
       "      <th rowspan=\"2\" valign=\"top\">1</th>\n",
       "      <th>0.0</th>\n",
       "      <td>34.547170</td>\n",
       "      <td>3.387347</td>\n",
       "      <td>49.507492</td>\n",
       "    </tr>\n",
       "    <tr>\n",
       "      <th>1.0</th>\n",
       "      <td>34.572093</td>\n",
       "      <td>3.603488</td>\n",
       "      <td>57.313953</td>\n",
       "    </tr>\n",
       "    <tr>\n",
       "      <th rowspan=\"4\" valign=\"top\">Technology</th>\n",
       "      <th rowspan=\"2\" valign=\"top\">0</th>\n",
       "      <th>0.0</th>\n",
       "      <td>35.308298</td>\n",
       "      <td>2.560828</td>\n",
       "      <td>79.535867</td>\n",
       "    </tr>\n",
       "    <tr>\n",
       "      <th>1.0</th>\n",
       "      <td>33.064378</td>\n",
       "      <td>3.609442</td>\n",
       "      <td>86.918455</td>\n",
       "    </tr>\n",
       "    <tr>\n",
       "      <th rowspan=\"2\" valign=\"top\">1</th>\n",
       "      <th>0.0</th>\n",
       "      <td>34.352574</td>\n",
       "      <td>3.451898</td>\n",
       "      <td>79.576703</td>\n",
       "    </tr>\n",
       "    <tr>\n",
       "      <th>1.0</th>\n",
       "      <td>33.835514</td>\n",
       "      <td>3.654206</td>\n",
       "      <td>81.414953</td>\n",
       "    </tr>\n",
       "  </tbody>\n",
       "</table>\n",
       "</div>"
      ],
      "text/plain": [
       "                                                   age  previous_year_rating  \\\n",
       "department        KPIs_met >80% is_promoted                                    \n",
       "Analytics         0             0.0          32.701187              2.912929   \n",
       "                                1.0          31.363057              3.636943   \n",
       "                  1             0.0          32.207412              3.686394   \n",
       "                                1.0          31.738028              3.698592   \n",
       "Finance           0             0.0          32.664062              2.808239   \n",
       "                                1.0          31.842105              3.394737   \n",
       "                  1             0.0          31.427332              3.500000   \n",
       "                                1.0          30.107692              3.546154   \n",
       "HR                0             0.0          34.835564              2.885915   \n",
       "                                1.0          36.853659              3.731707   \n",
       "                  1             0.0          33.469846              3.556802   \n",
       "                                1.0          32.768421              3.663158   \n",
       "Legal             0             0.0          34.190265              2.640118   \n",
       "                                1.0          32.285714              2.714286   \n",
       "                  1             0.0          33.376623              3.269481   \n",
       "                                1.0          31.769231              3.358974   \n",
       "Operations        0             0.0          35.979136              3.076610   \n",
       "                                1.0          37.052308              3.944615   \n",
       "                  1             0.0          36.130788              3.873747   \n",
       "                                1.0          36.106017              3.859599   \n",
       "Procurement       0             0.0          35.964277              2.670975   \n",
       "                                1.0          35.436170              3.856383   \n",
       "                  1             0.0          35.856492              3.704328   \n",
       "                                1.0          35.718000              3.822000   \n",
       "R&D               0             0.0          32.565603              2.817376   \n",
       "                                1.0          32.210526              3.578947   \n",
       "                  1             0.0          33.434426              3.860656   \n",
       "                                1.0          31.880000              3.600000   \n",
       "Sales & Marketing 0             0.0          34.992015              2.587291   \n",
       "                                1.0          34.288952              3.478754   \n",
       "                  1             0.0          34.547170              3.387347   \n",
       "                                1.0          34.572093              3.603488   \n",
       "Technology        0             0.0          35.308298              2.560828   \n",
       "                                1.0          33.064378              3.609442   \n",
       "                  1             0.0          34.352574              3.451898   \n",
       "                                1.0          33.835514              3.654206   \n",
       "\n",
       "                                             avg_training_score  \n",
       "department        KPIs_met >80% is_promoted                      \n",
       "Analytics         0             0.0                   84.486478  \n",
       "                                1.0                   85.592357  \n",
       "                  1             0.0                   84.449668  \n",
       "                                1.0                   85.940845  \n",
       "Finance           0             0.0                   59.530540  \n",
       "                                1.0                   75.407895  \n",
       "                  1             0.0                   59.399132  \n",
       "                                1.0                   64.669231  \n",
       "HR                0             0.0                   49.554493  \n",
       "                                1.0                   67.658537  \n",
       "                  1             0.0                   49.535764  \n",
       "                                1.0                   53.684211  \n",
       "Legal             0             0.0                   59.554572  \n",
       "                                1.0                   74.071429  \n",
       "                  1             0.0                   59.431818  \n",
       "                                1.0                   63.666667  \n",
       "Operations        0             0.0                   59.533333  \n",
       "                                1.0                   73.898462  \n",
       "                  1             0.0                   59.533890  \n",
       "                                1.0                   64.113181  \n",
       "Procurement       0             0.0                   69.496827  \n",
       "                                1.0                   84.111702  \n",
       "                  1             0.0                   69.496128  \n",
       "                                1.0                   72.936000  \n",
       "R&D               0             0.0                   84.648936  \n",
       "                                1.0                   85.315789  \n",
       "                  1             0.0                   84.314208  \n",
       "                                1.0                   85.800000  \n",
       "Sales & Marketing 0             0.0                   49.512102  \n",
       "                                1.0                   66.311615  \n",
       "                  1             0.0                   49.507492  \n",
       "                                1.0                   57.313953  \n",
       "Technology        0             0.0                   79.535867  \n",
       "                                1.0                   86.918455  \n",
       "                  1             0.0                   79.576703  \n",
       "                                1.0                   81.414953  "
      ]
     },
     "execution_count": 296,
     "metadata": {},
     "output_type": "execute_result"
    }
   ],
   "source": [
    "dept_kpi_ispr"
   ]
  },
  {
   "cell_type": "code",
   "execution_count": 314,
   "id": "215e9f5f",
   "metadata": {},
   "outputs": [
    {
     "data": {
      "text/html": [
       "<div>\n",
       "<style scoped>\n",
       "    .dataframe tbody tr th:only-of-type {\n",
       "        vertical-align: middle;\n",
       "    }\n",
       "\n",
       "    .dataframe tbody tr th {\n",
       "        vertical-align: top;\n",
       "    }\n",
       "\n",
       "    .dataframe thead th {\n",
       "        text-align: right;\n",
       "    }\n",
       "</style>\n",
       "<table border=\"1\" class=\"dataframe\">\n",
       "  <thead>\n",
       "    <tr style=\"text-align: right;\">\n",
       "      <th></th>\n",
       "      <th></th>\n",
       "      <th>age</th>\n",
       "      <th>previous_year_rating</th>\n",
       "      <th>avg_training_score</th>\n",
       "    </tr>\n",
       "    <tr>\n",
       "      <th>KPIs_met &gt;80%</th>\n",
       "      <th>is_promoted</th>\n",
       "      <th></th>\n",
       "      <th></th>\n",
       "      <th></th>\n",
       "    </tr>\n",
       "  </thead>\n",
       "  <tbody>\n",
       "    <tr>\n",
       "      <th rowspan=\"2\" valign=\"top\">0</th>\n",
       "      <th>0.0</th>\n",
       "      <td>32.701187</td>\n",
       "      <td>2.912929</td>\n",
       "      <td>84.486478</td>\n",
       "    </tr>\n",
       "    <tr>\n",
       "      <th>1.0</th>\n",
       "      <td>31.363057</td>\n",
       "      <td>3.636943</td>\n",
       "      <td>85.592357</td>\n",
       "    </tr>\n",
       "    <tr>\n",
       "      <th rowspan=\"2\" valign=\"top\">1</th>\n",
       "      <th>0.0</th>\n",
       "      <td>32.207412</td>\n",
       "      <td>3.686394</td>\n",
       "      <td>84.449668</td>\n",
       "    </tr>\n",
       "    <tr>\n",
       "      <th>1.0</th>\n",
       "      <td>31.738028</td>\n",
       "      <td>3.698592</td>\n",
       "      <td>85.940845</td>\n",
       "    </tr>\n",
       "  </tbody>\n",
       "</table>\n",
       "</div>"
      ],
      "text/plain": [
       "                                 age  previous_year_rating  avg_training_score\n",
       "KPIs_met >80% is_promoted                                                     \n",
       "0             0.0          32.701187              2.912929           84.486478\n",
       "              1.0          31.363057              3.636943           85.592357\n",
       "1             0.0          32.207412              3.686394           84.449668\n",
       "              1.0          31.738028              3.698592           85.940845"
      ]
     },
     "execution_count": 314,
     "metadata": {},
     "output_type": "execute_result"
    }
   ],
   "source": [
    "dept_kpi_ispr.loc['Analytics']"
   ]
  },
  {
   "cell_type": "code",
   "execution_count": 285,
   "id": "076696ec",
   "metadata": {
    "scrolled": false
   },
   "outputs": [
    {
     "data": {
      "text/html": [
       "<div>\n",
       "<style scoped>\n",
       "    .dataframe tbody tr th:only-of-type {\n",
       "        vertical-align: middle;\n",
       "    }\n",
       "\n",
       "    .dataframe tbody tr th {\n",
       "        vertical-align: top;\n",
       "    }\n",
       "\n",
       "    .dataframe thead th {\n",
       "        text-align: right;\n",
       "    }\n",
       "</style>\n",
       "<table border=\"1\" class=\"dataframe\">\n",
       "  <thead>\n",
       "    <tr style=\"text-align: right;\">\n",
       "      <th></th>\n",
       "      <th></th>\n",
       "      <th>previous_year_rating</th>\n",
       "    </tr>\n",
       "    <tr>\n",
       "      <th>department</th>\n",
       "      <th>is_promoted</th>\n",
       "      <th></th>\n",
       "    </tr>\n",
       "  </thead>\n",
       "  <tbody>\n",
       "    <tr>\n",
       "      <th rowspan=\"2\" valign=\"top\">Analytics</th>\n",
       "      <th>0.0</th>\n",
       "      <td>3.201860</td>\n",
       "    </tr>\n",
       "    <tr>\n",
       "      <th>1.0</th>\n",
       "      <td>3.679688</td>\n",
       "    </tr>\n",
       "    <tr>\n",
       "      <th rowspan=\"2\" valign=\"top\">Finance</th>\n",
       "      <th>0.0</th>\n",
       "      <td>3.081974</td>\n",
       "    </tr>\n",
       "    <tr>\n",
       "      <th>1.0</th>\n",
       "      <td>3.490291</td>\n",
       "    </tr>\n",
       "    <tr>\n",
       "      <th rowspan=\"2\" valign=\"top\">HR</th>\n",
       "      <th>0.0</th>\n",
       "      <td>3.095530</td>\n",
       "    </tr>\n",
       "    <tr>\n",
       "      <th>1.0</th>\n",
       "      <td>3.683824</td>\n",
       "    </tr>\n",
       "    <tr>\n",
       "      <th rowspan=\"2\" valign=\"top\">Legal</th>\n",
       "      <th>0.0</th>\n",
       "      <td>2.836714</td>\n",
       "    </tr>\n",
       "    <tr>\n",
       "      <th>1.0</th>\n",
       "      <td>3.188679</td>\n",
       "    </tr>\n",
       "    <tr>\n",
       "      <th rowspan=\"2\" valign=\"top\">Operations</th>\n",
       "      <th>0.0</th>\n",
       "      <td>3.400097</td>\n",
       "    </tr>\n",
       "    <tr>\n",
       "      <th>1.0</th>\n",
       "      <td>3.886608</td>\n",
       "    </tr>\n",
       "    <tr>\n",
       "      <th rowspan=\"2\" valign=\"top\">Procurement</th>\n",
       "      <th>0.0</th>\n",
       "      <td>3.022636</td>\n",
       "    </tr>\n",
       "    <tr>\n",
       "      <th>1.0</th>\n",
       "      <td>3.831395</td>\n",
       "    </tr>\n",
       "    <tr>\n",
       "      <th rowspan=\"2\" valign=\"top\">R&amp;D</th>\n",
       "      <th>0.0</th>\n",
       "      <td>3.227957</td>\n",
       "    </tr>\n",
       "    <tr>\n",
       "      <th>1.0</th>\n",
       "      <td>3.594203</td>\n",
       "    </tr>\n",
       "    <tr>\n",
       "      <th rowspan=\"2\" valign=\"top\">Sales &amp; Marketing</th>\n",
       "      <th>0.0</th>\n",
       "      <td>2.771805</td>\n",
       "    </tr>\n",
       "    <tr>\n",
       "      <th>1.0</th>\n",
       "      <td>3.567189</td>\n",
       "    </tr>\n",
       "    <tr>\n",
       "      <th rowspan=\"2\" valign=\"top\">Technology</th>\n",
       "      <th>0.0</th>\n",
       "      <td>2.829827</td>\n",
       "    </tr>\n",
       "    <tr>\n",
       "      <th>1.0</th>\n",
       "      <td>3.640625</td>\n",
       "    </tr>\n",
       "  </tbody>\n",
       "</table>\n",
       "</div>"
      ],
      "text/plain": [
       "                               previous_year_rating\n",
       "department        is_promoted                      \n",
       "Analytics         0.0                      3.201860\n",
       "                  1.0                      3.679688\n",
       "Finance           0.0                      3.081974\n",
       "                  1.0                      3.490291\n",
       "HR                0.0                      3.095530\n",
       "                  1.0                      3.683824\n",
       "Legal             0.0                      2.836714\n",
       "                  1.0                      3.188679\n",
       "Operations        0.0                      3.400097\n",
       "                  1.0                      3.886608\n",
       "Procurement       0.0                      3.022636\n",
       "                  1.0                      3.831395\n",
       "R&D               0.0                      3.227957\n",
       "                  1.0                      3.594203\n",
       "Sales & Marketing 0.0                      2.771805\n",
       "                  1.0                      3.567189\n",
       "Technology        0.0                      2.829827\n",
       "                  1.0                      3.640625"
      ]
     },
     "execution_count": 285,
     "metadata": {},
     "output_type": "execute_result"
    }
   ],
   "source": [
    "pd.DataFrame(df.groupby(['department','is_promoted']).mean()['previous_year_rating'])"
   ]
  },
  {
   "cell_type": "code",
   "execution_count": 292,
   "id": "f34463f8",
   "metadata": {},
   "outputs": [],
   "source": [
    "# df.loc[(df.is_promoted == 1) & (df.previous_year_rating <=1)]"
   ]
  },
  {
   "cell_type": "code",
   "execution_count": 207,
   "id": "00b73204",
   "metadata": {},
   "outputs": [],
   "source": [
    "# df.loc[(df['KPIs_met >80%'] == 1) & (df['previous_year_rating'] < 1)]"
   ]
  },
  {
   "cell_type": "markdown",
   "id": "7173a525",
   "metadata": {},
   "source": [
    "## Data preprocessing for ML"
   ]
  },
  {
   "cell_type": "code",
   "execution_count": 315,
   "id": "4dc1b73e",
   "metadata": {},
   "outputs": [],
   "source": [
    "ml = df.copy()"
   ]
  },
  {
   "cell_type": "code",
   "execution_count": 316,
   "id": "1f9df7af",
   "metadata": {},
   "outputs": [],
   "source": [
    "from sklearn.preprocessing import LabelEncoder\n",
    "le = LabelEncoder()\n",
    "from sklearn.model_selection import train_test_split\n",
    "from sklearn.linear_model import LogisticRegression\n",
    "from sklearn.neighbors import KNeighborsClassifier\n",
    "from sklearn.naive_bayes import GaussianNB\n",
    "from sklearn.svm import SVC\n",
    "from sklearn.tree import DecisionTreeClassifier\n",
    "from sklearn.ensemble import RandomForestClassifier\n",
    "from sklearn.ensemble import GradientBoostingClassifier\n",
    "from sklearn.ensemble import AdaBoostClassifier\n",
    "from xgboost import XGBRFClassifier\n",
    "from xgboost import XGBClassifier\n",
    "from catboost import CatBoostClassifier\n",
    "from lightgbm import LGBMClassifier\n",
    "from sklearn.metrics import accuracy_score, f1_score, classification_report, confusion_matrix, roc_auc_score,roc_curve"
   ]
  },
  {
   "cell_type": "code",
   "execution_count": null,
   "id": "6dd60d38",
   "metadata": {},
   "outputs": [],
   "source": []
  },
  {
   "cell_type": "code",
   "execution_count": 317,
   "id": "356738fd",
   "metadata": {},
   "outputs": [],
   "source": [
    "dept_list = ml.department.unique()\n",
    "dept_id = np.arange(1,len(dept_list)+1)"
   ]
  },
  {
   "cell_type": "code",
   "execution_count": 318,
   "id": "25b406c4",
   "metadata": {},
   "outputs": [],
   "source": [
    "reg_list = ml.region.unique()\n",
    "reg_id = np.arange(1,len(reg_list)+1)"
   ]
  },
  {
   "cell_type": "code",
   "execution_count": 319,
   "id": "364b3da4",
   "metadata": {},
   "outputs": [],
   "source": [
    "edu_list = ml.education.unique()\n",
    "edu_id = np.arange(1,len(edu_list)+1)"
   ]
  },
  {
   "cell_type": "code",
   "execution_count": 320,
   "id": "41c4fd7f",
   "metadata": {},
   "outputs": [],
   "source": [
    "gen_list = ml.gender.unique()\n",
    "gen_id = np.arange(1,len(gen_list)+1)"
   ]
  },
  {
   "cell_type": "code",
   "execution_count": 321,
   "id": "2e8d8a22",
   "metadata": {},
   "outputs": [],
   "source": [
    "rc_list = ml.recruitment_channel.unique()\n",
    "rc_id = np.arange(1,len(rc_list)+1)"
   ]
  },
  {
   "cell_type": "code",
   "execution_count": 322,
   "id": "6eadc090",
   "metadata": {},
   "outputs": [],
   "source": [
    "ml['department'].replace(dept_list,dept_id,inplace=True)"
   ]
  },
  {
   "cell_type": "code",
   "execution_count": 323,
   "id": "a6cbafa0",
   "metadata": {},
   "outputs": [],
   "source": [
    "ml['region'].replace(reg_list,reg_id,True)"
   ]
  },
  {
   "cell_type": "code",
   "execution_count": 324,
   "id": "06679917",
   "metadata": {},
   "outputs": [],
   "source": [
    "ml['education'].replace(edu_list,edu_id,True)"
   ]
  },
  {
   "cell_type": "code",
   "execution_count": 325,
   "id": "3624bfa0",
   "metadata": {},
   "outputs": [],
   "source": [
    "ml['recruitment_channel'].replace(rc_list,rc_id,True)"
   ]
  },
  {
   "cell_type": "code",
   "execution_count": 326,
   "id": "9a072b6d",
   "metadata": {},
   "outputs": [],
   "source": [
    "ml['gender'].replace(gen_list,gen_id,True)"
   ]
  },
  {
   "cell_type": "code",
   "execution_count": 327,
   "id": "afe8d5de",
   "metadata": {},
   "outputs": [],
   "source": [
    "## dropping age_category and los_category\n",
    "ml.drop(['employee_id','age_category','los_category'],axis=1,inplace=True)"
   ]
  },
  {
   "cell_type": "code",
   "execution_count": 328,
   "id": "7125aee2",
   "metadata": {
    "scrolled": true
   },
   "outputs": [
    {
     "data": {
      "text/html": [
       "<div>\n",
       "<style scoped>\n",
       "    .dataframe tbody tr th:only-of-type {\n",
       "        vertical-align: middle;\n",
       "    }\n",
       "\n",
       "    .dataframe tbody tr th {\n",
       "        vertical-align: top;\n",
       "    }\n",
       "\n",
       "    .dataframe thead th {\n",
       "        text-align: right;\n",
       "    }\n",
       "</style>\n",
       "<table border=\"1\" class=\"dataframe\">\n",
       "  <thead>\n",
       "    <tr style=\"text-align: right;\">\n",
       "      <th></th>\n",
       "      <th>department</th>\n",
       "      <th>region</th>\n",
       "      <th>education</th>\n",
       "      <th>gender</th>\n",
       "      <th>recruitment_channel</th>\n",
       "      <th>no_of_trainings</th>\n",
       "      <th>age</th>\n",
       "      <th>previous_year_rating</th>\n",
       "      <th>length_of_service</th>\n",
       "      <th>KPIs_met &gt;80%</th>\n",
       "      <th>awards_won?</th>\n",
       "      <th>avg_training_score</th>\n",
       "      <th>is_promoted</th>\n",
       "    </tr>\n",
       "  </thead>\n",
       "  <tbody>\n",
       "    <tr>\n",
       "      <th>0</th>\n",
       "      <td>1</td>\n",
       "      <td>1</td>\n",
       "      <td>1</td>\n",
       "      <td>1</td>\n",
       "      <td>1</td>\n",
       "      <td>1</td>\n",
       "      <td>35</td>\n",
       "      <td>5.0</td>\n",
       "      <td>8</td>\n",
       "      <td>1</td>\n",
       "      <td>0</td>\n",
       "      <td>49</td>\n",
       "      <td>0.0</td>\n",
       "    </tr>\n",
       "    <tr>\n",
       "      <th>1</th>\n",
       "      <td>2</td>\n",
       "      <td>2</td>\n",
       "      <td>2</td>\n",
       "      <td>2</td>\n",
       "      <td>2</td>\n",
       "      <td>1</td>\n",
       "      <td>30</td>\n",
       "      <td>5.0</td>\n",
       "      <td>4</td>\n",
       "      <td>0</td>\n",
       "      <td>0</td>\n",
       "      <td>60</td>\n",
       "      <td>0.0</td>\n",
       "    </tr>\n",
       "    <tr>\n",
       "      <th>2</th>\n",
       "      <td>1</td>\n",
       "      <td>3</td>\n",
       "      <td>2</td>\n",
       "      <td>2</td>\n",
       "      <td>1</td>\n",
       "      <td>1</td>\n",
       "      <td>34</td>\n",
       "      <td>3.0</td>\n",
       "      <td>7</td>\n",
       "      <td>0</td>\n",
       "      <td>0</td>\n",
       "      <td>50</td>\n",
       "      <td>0.0</td>\n",
       "    </tr>\n",
       "    <tr>\n",
       "      <th>3</th>\n",
       "      <td>1</td>\n",
       "      <td>4</td>\n",
       "      <td>2</td>\n",
       "      <td>2</td>\n",
       "      <td>2</td>\n",
       "      <td>2</td>\n",
       "      <td>39</td>\n",
       "      <td>1.0</td>\n",
       "      <td>10</td>\n",
       "      <td>0</td>\n",
       "      <td>0</td>\n",
       "      <td>50</td>\n",
       "      <td>0.0</td>\n",
       "    </tr>\n",
       "    <tr>\n",
       "      <th>4</th>\n",
       "      <td>3</td>\n",
       "      <td>5</td>\n",
       "      <td>2</td>\n",
       "      <td>2</td>\n",
       "      <td>2</td>\n",
       "      <td>1</td>\n",
       "      <td>45</td>\n",
       "      <td>3.0</td>\n",
       "      <td>2</td>\n",
       "      <td>0</td>\n",
       "      <td>0</td>\n",
       "      <td>73</td>\n",
       "      <td>0.0</td>\n",
       "    </tr>\n",
       "  </tbody>\n",
       "</table>\n",
       "</div>"
      ],
      "text/plain": [
       "   department  region  education  gender  recruitment_channel  \\\n",
       "0           1       1          1       1                    1   \n",
       "1           2       2          2       2                    2   \n",
       "2           1       3          2       2                    1   \n",
       "3           1       4          2       2                    2   \n",
       "4           3       5          2       2                    2   \n",
       "\n",
       "   no_of_trainings  age  previous_year_rating  length_of_service  \\\n",
       "0                1   35                   5.0                  8   \n",
       "1                1   30                   5.0                  4   \n",
       "2                1   34                   3.0                  7   \n",
       "3                2   39                   1.0                 10   \n",
       "4                1   45                   3.0                  2   \n",
       "\n",
       "   KPIs_met >80%  awards_won?  avg_training_score  is_promoted  \n",
       "0              1            0                  49          0.0  \n",
       "1              0            0                  60          0.0  \n",
       "2              0            0                  50          0.0  \n",
       "3              0            0                  50          0.0  \n",
       "4              0            0                  73          0.0  "
      ]
     },
     "execution_count": 328,
     "metadata": {},
     "output_type": "execute_result"
    }
   ],
   "source": [
    "ml.head()"
   ]
  },
  {
   "cell_type": "code",
   "execution_count": 329,
   "id": "d025564b",
   "metadata": {},
   "outputs": [
    {
     "name": "stdout",
     "output_type": "stream",
     "text": [
      "0.0    50140\n",
      "1.0     4668\n",
      "Name: is_promoted, dtype: int64\n"
     ]
    },
    {
     "data": {
      "image/png": "[encoded data removed]",
      "text/plain": [
       "<Figure size 432x288 with 1 Axes>"
      ]
     },
     "metadata": {
      "needs_background": "light"
     },
     "output_type": "display_data"
    }
   ],
   "source": [
    "sns.countplot(ml.is_promoted)\n",
    "plt.grid()\n",
    "print(ml.is_promoted.value_counts())\n",
    "plt.show()"
   ]
  },
  {
   "cell_type": "markdown",
   "id": "54adc084",
   "metadata": {},
   "source": [
    "## ML Models"
   ]
  },
  {
   "cell_type": "code",
   "execution_count": 330,
   "id": "c79db250",
   "metadata": {},
   "outputs": [],
   "source": [
    "lr = LogisticRegression()\n",
    "kn = KNeighborsClassifier()\n",
    "rf = RandomForestClassifier()\n",
    "dt = DecisionTreeClassifier()\n",
    "gb = GradientBoostingClassifier()\n",
    "xgb = XGBClassifier()\n",
    "xgbrf = XGBRFClassifier()\n",
    "lgb = LGBMClassifier()\n",
    "cat = CatBoostClassifier(verbose=False)"
   ]
  },
  {
   "cell_type": "code",
   "execution_count": 331,
   "id": "ebc6939d",
   "metadata": {},
   "outputs": [],
   "source": [
    "x = ml.drop('is_promoted',axis=1)\n",
    "y = ml.is_promoted"
   ]
  },
  {
   "cell_type": "code",
   "execution_count": 332,
   "id": "0cce2a7a",
   "metadata": {},
   "outputs": [],
   "source": [
    "xtrain,xtest,ytrain,ytest = train_test_split(x,y,test_size=0.15, random_state=43)"
   ]
  },
  {
   "cell_type": "markdown",
   "id": "f18bd789",
   "metadata": {},
   "source": [
    "### Logistics Regression"
   ]
  },
  {
   "cell_type": "code",
   "execution_count": 401,
   "id": "184505a4",
   "metadata": {},
   "outputs": [
    {
     "name": "stdout",
     "output_type": "stream",
     "text": [
      "test_metrics\n",
      "\n",
      "test_acc : 0.9166869374847969 \n",
      "\n",
      "confusion matrix :\n",
      "\n",
      "[[7497   17]\n",
      " [ 668   40]]\n",
      "\n",
      "classification report:\n",
      "\n",
      "              precision    recall  f1-score   support\n",
      "\n",
      "         0.0       0.92      1.00      0.96      7514\n",
      "         1.0       0.70      0.06      0.10       708\n",
      "\n",
      "    accuracy                           0.92      8222\n",
      "   macro avg       0.81      0.53      0.53      8222\n",
      "weighted avg       0.90      0.92      0.88      8222\n",
      "\n",
      "roc score : 0.7829907712759158\n"
     ]
    },
    {
     "data": {
      "image/png": "[encoded data removed]",
      "text/plain": [
       "<Figure size 432x288 with 1 Axes>"
      ]
     },
     "metadata": {
      "needs_background": "light"
     },
     "output_type": "display_data"
    }
   ],
   "source": [
    "lr.fit(xtrain,ytrain)\n",
    "lr_test_pred = lr.predict(xtest)\n",
    "lr_test_pp = lr.predict_proba(xtest)\n",
    "lr_test_acc = accuracy_score(ytest,lr_test_pred)\n",
    "lr_test_cm = confusion_matrix(ytest,lr_test_pred)\n",
    "lr_test_cr = classification_report(ytest,lr_test_pred)\n",
    "lr_test_pp = lr_test_pp[:,1]\n",
    "print('test_metrics\\n')\n",
    "print('test_acc :',lr_test_acc,'\\n')\n",
    "print('confusion matrix :\\n')\n",
    "print(lr_test_cm)\n",
    "print('\\nclassification report:\\n')\n",
    "print(lr_test_cr)\n",
    "\n",
    "fpr,tpr,thres = roc_curve(ytest,lr_test_pp)\n",
    "print('roc score :',roc_auc_score(ytest,lr_test_pp))\n",
    "plt.plot(fpr,tpr,marker='.',label='pred_proba')\n",
    "plt.plot([0,1],[0,1],linestyle='--',marker='.',label='margin')\n",
    "plt.grid()\n",
    "plt.legend()\n",
    "plt.show()"
   ]
  },
  {
   "cell_type": "code",
   "execution_count": null,
   "id": "fe72a49a",
   "metadata": {},
   "outputs": [],
   "source": []
  },
  {
   "cell_type": "markdown",
   "id": "f00fe214",
   "metadata": {},
   "source": [
    "### KNN"
   ]
  },
  {
   "cell_type": "code",
   "execution_count": 402,
   "id": "875e30ad",
   "metadata": {},
   "outputs": [
    {
     "name": "stdout",
     "output_type": "stream",
     "text": [
      "test_metrics\n",
      "\n",
      "test_acc : 0.9225249331063001 \n",
      "\n",
      "confusion matrix :\n",
      "\n",
      "[[7468   46]\n",
      " [ 591  117]]\n",
      "\n",
      "classification report:\n",
      "\n",
      "              precision    recall  f1-score   support\n",
      "\n",
      "         0.0       0.93      0.99      0.96      7514\n",
      "         1.0       0.72      0.17      0.27       708\n",
      "\n",
      "    accuracy                           0.92      8222\n",
      "   macro avg       0.82      0.58      0.61      8222\n",
      "weighted avg       0.91      0.92      0.90      8222\n",
      "\n",
      "roc score : 0.6862467837813858\n"
     ]
    },
    {
     "data": {
      "image/png": "[encoded data removed]",
      "text/plain": [
       "<Figure size 432x288 with 1 Axes>"
      ]
     },
     "metadata": {
      "needs_background": "light"
     },
     "output_type": "display_data"
    }
   ],
   "source": [
    "kn.fit(xtrain,ytrain)\n",
    "kn_test_pred = kn.predict(xtest)\n",
    "kn_test_pp = kn.predict_proba(xtest)\n",
    "kn_test_acc = accuracy_score(ytest,kn_test_pred)\n",
    "kn_test_cm = confusion_matrix(ytest,kn_test_pred)\n",
    "kn_test_cr = classification_report(ytest,kn_test_pred)\n",
    "kn_test_pp = kn_test_pp[:,1]\n",
    "print('test_metrics\\n')\n",
    "print('test_acc :',kn_test_acc,'\\n')\n",
    "print('confusion matrix :\\n')\n",
    "print(kn_test_cm)\n",
    "print('\\nclassification report:\\n')\n",
    "print(kn_test_cr)\n",
    "\n",
    "fpr,tpr,thres = roc_curve(ytest,kn_test_pp)\n",
    "print('roc score :',roc_auc_score(ytest,kn_test_pp))\n",
    "plt.plot(fpr,tpr,marker='.')\n",
    "plt.plot([0,1],[0,1],linestyle='--',marker='.')\n",
    "plt.grid()\n",
    "plt.show()"
   ]
  },
  {
   "cell_type": "code",
   "execution_count": null,
   "id": "4b998143",
   "metadata": {},
   "outputs": [],
   "source": []
  },
  {
   "cell_type": "markdown",
   "id": "445b4389",
   "metadata": {},
   "source": [
    "### Decision Tree"
   ]
  },
  {
   "cell_type": "code",
   "execution_count": 403,
   "id": "cf993060",
   "metadata": {},
   "outputs": [
    {
     "name": "stdout",
     "output_type": "stream",
     "text": [
      "test_metrics\n",
      "\n",
      "test_acc : 0.8955242033568475 \n",
      "\n",
      "confusion matrix :\n",
      "\n",
      "[[7026  488]\n",
      " [ 371  337]]\n",
      "\n",
      "classification report:\n",
      "\n",
      "              precision    recall  f1-score   support\n",
      "\n",
      "         0.0       0.95      0.94      0.94      7514\n",
      "         1.0       0.41      0.48      0.44       708\n",
      "\n",
      "    accuracy                           0.90      8222\n",
      "   macro avg       0.68      0.71      0.69      8222\n",
      "weighted avg       0.90      0.90      0.90      8222\n",
      "\n",
      "roc score : 0.705486763690828\n"
     ]
    },
    {
     "data": {
      "image/png": "[encoded data removed]",
      "text/plain": [
       "<Figure size 432x288 with 1 Axes>"
      ]
     },
     "metadata": {
      "needs_background": "light"
     },
     "output_type": "display_data"
    }
   ],
   "source": [
    "dt.fit(xtrain,ytrain)\n",
    "dt_test_pred = dt.predict(xtest)\n",
    "dt_test_pp = dt.predict_proba(xtest)\n",
    "dt_test_acc = accuracy_score(ytest,dt_test_pred)\n",
    "dt_test_cm = confusion_matrix(ytest,dt_test_pred)\n",
    "dt_test_cr = classification_report(ytest,dt_test_pred)\n",
    "dt_test_pp = dt_test_pp[:,1]\n",
    "print('test_metrics\\n')\n",
    "print('test_acc :',dt_test_acc,'\\n')\n",
    "print('confusion matrix :\\n')\n",
    "print(dt_test_cm)\n",
    "print('\\nclassification report:\\n')\n",
    "print(dt_test_cr)\n",
    "\n",
    "fpr,tpr,thres = roc_curve(ytest,dt_test_pp)\n",
    "print('roc score :',roc_auc_score(ytest,dt_test_pp))\n",
    "\n",
    "plt.plot(fpr,tpr,marker='.')\n",
    "plt.plot([0,1],[0,1],linestyle='--',marker='.')\n",
    "plt.grid()\n",
    "plt.show()"
   ]
  },
  {
   "cell_type": "code",
   "execution_count": null,
   "id": "9359053e",
   "metadata": {},
   "outputs": [],
   "source": []
  },
  {
   "cell_type": "markdown",
   "id": "7e1db73e",
   "metadata": {},
   "source": [
    "### Random Forest"
   ]
  },
  {
   "cell_type": "code",
   "execution_count": 404,
   "id": "35dae15a",
   "metadata": {},
   "outputs": [
    {
     "name": "stdout",
     "output_type": "stream",
     "text": [
      "test_metrics\n",
      "\n",
      "test_acc : 0.9351739236195573 \n",
      "\n",
      "confusion matrix :\n",
      "\n",
      "[[7469   45]\n",
      " [ 488  220]]\n",
      "\n",
      "classification report:\n",
      "\n",
      "              precision    recall  f1-score   support\n",
      "\n",
      "         0.0       0.94      0.99      0.97      7514\n",
      "         1.0       0.83      0.31      0.45       708\n",
      "\n",
      "    accuracy                           0.94      8222\n",
      "   macro avg       0.88      0.65      0.71      8222\n",
      "weighted avg       0.93      0.94      0.92      8222\n",
      "\n",
      "roc score : 0.8773475952233798\n"
     ]
    },
    {
     "data": {
      "image/png": "[encoded data removed]",
      "text/plain": [
       "<Figure size 432x288 with 1 Axes>"
      ]
     },
     "metadata": {
      "needs_background": "light"
     },
     "output_type": "display_data"
    }
   ],
   "source": [
    "rf.fit(xtrain,ytrain)\n",
    "rf_test_pred = rf.predict(xtest)\n",
    "rf_test_pp = rf.predict_proba(xtest)\n",
    "rf_test_acc = accuracy_score(ytest,rf_test_pred)\n",
    "rf_test_cm = confusion_matrix(ytest,rf_test_pred)\n",
    "rf_test_cr = classification_report(ytest,rf_test_pred)\n",
    "rf_test_pp = rf_test_pp[:,1]\n",
    "print('test_metrics\\n')\n",
    "print('test_acc :',rf_test_acc,'\\n')\n",
    "print('confusion matrix :\\n')\n",
    "print(rf_test_cm)\n",
    "print('\\nclassification report:\\n')\n",
    "print(rf_test_cr)\n",
    "\n",
    "fpr,tpr,thres = roc_curve(ytest,rf_test_pp)\n",
    "print('roc score :',roc_auc_score(ytest,rf_test_pp))\n",
    "plt.plot(fpr,tpr,marker='.')\n",
    "plt.plot([0,1],[0,1],linestyle='--',marker='.')\n",
    "plt.grid()\n",
    "plt.show()"
   ]
  },
  {
   "cell_type": "code",
   "execution_count": null,
   "id": "ba327134",
   "metadata": {},
   "outputs": [],
   "source": []
  },
  {
   "cell_type": "markdown",
   "id": "ef043bd3",
   "metadata": {},
   "source": [
    "### GB"
   ]
  },
  {
   "cell_type": "code",
   "execution_count": 391,
   "id": "ea4fc98e",
   "metadata": {},
   "outputs": [
    {
     "name": "stdout",
     "output_type": "stream",
     "text": [
      "test_metrics\n",
      "\n",
      "test_acc : 0.9416200437849671 \n",
      "\n",
      "confusion matrix :\n",
      "\n",
      "[[7509    5]\n",
      " [ 475  233]]\n",
      "\n",
      "classification report:\n",
      "\n",
      "              precision    recall  f1-score   support\n",
      "\n",
      "         0.0       0.94      1.00      0.97      7514\n",
      "         1.0       0.98      0.33      0.49       708\n",
      "\n",
      "    accuracy                           0.94      8222\n",
      "   macro avg       0.96      0.66      0.73      8222\n",
      "weighted avg       0.94      0.94      0.93      8222\n",
      "\n"
     ]
    },
    {
     "data": {
      "image/png": "[encoded data removed]",
      "text/plain": [
       "<Figure size 432x288 with 1 Axes>"
      ]
     },
     "metadata": {
      "needs_background": "light"
     },
     "output_type": "display_data"
    }
   ],
   "source": [
    "gb.fit(xtrain,ytrain)\n",
    "gb_test_pred = gb.predict(xtest)\n",
    "gb_test_pp = gb.predict_proba(xtest)\n",
    "gb_test_acc = accuracy_score(ytest,gb_test_pred)\n",
    "gb_test_cm = confusion_matrix(ytest,gb_test_pred)\n",
    "gb_test_cr = classification_report(ytest,gb_test_pred)\n",
    "gb_test_pp = gb_test_pp[:,1]\n",
    "print('test_metrics\\n')\n",
    "print('test_acc :',gb_test_acc,'\\n')\n",
    "print('confusion matrix :\\n')\n",
    "print(gb_test_cm)\n",
    "print('\\nclassification report:\\n')\n",
    "print(gb_test_cr)\n",
    "\n",
    "fpr,tpr,thres = roc_curve(ytest,gb_test_pp)\n",
    "print('roc score :',roc_auc_score(ytest,gb_test_pp))\n",
    "plt.plot(fpr,tpr,marker='.')\n",
    "plt.plot([0,1],[0,1],linestyle='--',marker='.')\n",
    "plt.grid()\n",
    "plt.show()"
   ]
  },
  {
   "cell_type": "markdown",
   "id": "14f93bfd",
   "metadata": {},
   "source": [
    "### XGB"
   ]
  },
  {
   "cell_type": "code",
   "execution_count": 373,
   "id": "207a5ac2",
   "metadata": {},
   "outputs": [
    {
     "name": "stdout",
     "output_type": "stream",
     "text": [
      "[16:55:48] WARNING: ../src/learner.cc:1115: Starting in XGBoost 1.3.0, the default evaluation metric used with the objective 'binary:logistic' was changed from 'error' to 'logloss'. Explicitly set eval_metric if you'd like to restore the old behavior.\n",
      "test_metrics\n",
      "\n",
      "test_acc : 0.9423497932376551 \n",
      "\n",
      "confusion matrix :\n",
      "\n",
      "[[7484   30]\n",
      " [ 444  264]]\n",
      "\n",
      "classification report:\n",
      "\n",
      "              precision    recall  f1-score   support\n",
      "\n",
      "         0.0       0.94      1.00      0.97      7514\n",
      "         1.0       0.90      0.37      0.53       708\n",
      "\n",
      "    accuracy                           0.94      8222\n",
      "   macro avg       0.92      0.68      0.75      8222\n",
      "weighted avg       0.94      0.94      0.93      8222\n",
      "\n"
     ]
    },
    {
     "data": {
      "image/png": "[encoded data removed]",
      "text/plain": [
       "<Figure size 432x288 with 1 Axes>"
      ]
     },
     "metadata": {
      "needs_background": "light"
     },
     "output_type": "display_data"
    }
   ],
   "source": [
    "xgb.fit(xtrain,ytrain)\n",
    "xgb_test_pred = xgb.predict(xtest)\n",
    "xgb_test_pp = xgb.predict_proba(xtest)\n",
    "xgb_test_acc = accuracy_score(ytest,xgb_test_pred)\n",
    "xgb_test_cm = confusion_matrix(ytest,xgb_test_pred)\n",
    "xgb_test_cr = classification_report(ytest,xgb_test_pred)\n",
    "xgb_test_pp = xgb_test_pp[:,1]\n",
    "print('test_metrics\\n')\n",
    "print('test_acc :',xgb_test_acc,'\\n')\n",
    "print('confusion matrix :\\n')\n",
    "print(xgb_test_cm)\n",
    "print('\\nclassification report:\\n')\n",
    "print(xgb_test_cr)\n",
    "\n",
    "fpr,tpr,thres = roc_curve(ytest,xgb_test_pp)\n",
    "print('roc score :',roc_auc_score(ytest,xgb_test_pp))\n",
    "plt.plot(fpr,tpr,marker='.')\n",
    "plt.plot([0,1],[0,1],linestyle='--',marker='.')\n",
    "plt.grid()\n",
    "plt.show()"
   ]
  },
  {
   "cell_type": "markdown",
   "id": "5454094e",
   "metadata": {},
   "source": [
    "### XGBRF"
   ]
  },
  {
   "cell_type": "code",
   "execution_count": 392,
   "id": "fffb3a8c",
   "metadata": {},
   "outputs": [
    {
     "name": "stdout",
     "output_type": "stream",
     "text": [
      "[17:09:55] WARNING: ../src/learner.cc:1115: Starting in XGBoost 1.3.0, the default evaluation metric used with the objective 'binary:logistic' was changed from 'error' to 'logloss'. Explicitly set eval_metric if you'd like to restore the old behavior.\n",
      "test_metrics\n",
      "\n",
      "test_acc : 0.932011675991243 \n",
      "\n",
      "confusion matrix :\n",
      "\n",
      "[[7506    8]\n",
      " [ 551  157]]\n",
      "\n",
      "classification report:\n",
      "\n",
      "              precision    recall  f1-score   support\n",
      "\n",
      "         0.0       0.93      1.00      0.96      7514\n",
      "         1.0       0.95      0.22      0.36       708\n",
      "\n",
      "    accuracy                           0.93      8222\n",
      "   macro avg       0.94      0.61      0.66      8222\n",
      "weighted avg       0.93      0.93      0.91      8222\n",
      "\n"
     ]
    },
    {
     "data": {
      "image/png": "[encoded data removed]",
      "text/plain": [
       "<Figure size 432x288 with 1 Axes>"
      ]
     },
     "metadata": {
      "needs_background": "light"
     },
     "output_type": "display_data"
    }
   ],
   "source": [
    "xgbrf.fit(xtrain,ytrain)\n",
    "xgbrf_test_pred = xgbrf.predict(xtest)\n",
    "xgbrf_test_pp = xgbrf.predict_proba(xtest)\n",
    "xgbrf_test_acc = accuracy_score(ytest,xgbrf_test_pred)\n",
    "xgbrf_test_cm = confusion_matrix(ytest,xgbrf_test_pred)\n",
    "xgbrf_test_cr = classification_report(ytest,xgbrf_test_pred)\n",
    "xgbrf_test_pp = xgbrf_test_pp[:,1]\n",
    "print('test_metrics\\n')\n",
    "print('test_acc :',xgbrf_test_acc,'\\n')\n",
    "print('confusion matrix :\\n')\n",
    "print(xgbrf_test_cm)\n",
    "print('\\nclassification report:\\n')\n",
    "print(xgbrf_test_cr)\n",
    "\n",
    "fpr,tpr,thres = roc_curve(ytest,xgbrf_test_pp)\n",
    "print('roc score :',roc_auc_score(ytest,xgbrf_test_pp))\n",
    "\n",
    "plt.plot(fpr,tpr,marker='.')\n",
    "plt.plot([0,1],[0,1],linestyle='--',marker='.')\n",
    "plt.grid()\n",
    "plt.show()"
   ]
  },
  {
   "cell_type": "markdown",
   "id": "828e76d2",
   "metadata": {},
   "source": [
    "### Catboosting"
   ]
  },
  {
   "cell_type": "code",
   "execution_count": 398,
   "id": "171d195a",
   "metadata": {},
   "outputs": [
    {
     "name": "stdout",
     "output_type": "stream",
     "text": [
      "test_metrics\n",
      "\n",
      "test_acc : 0.9432011675991243 \n",
      "\n",
      "confusion matrix :\n",
      "\n",
      "[[7495   19]\n",
      " [ 448  260]]\n",
      "\n",
      "classification report:\n",
      "\n",
      "              precision    recall  f1-score   support\n",
      "\n",
      "         0.0       0.94      1.00      0.97      7514\n",
      "         1.0       0.93      0.37      0.53       708\n",
      "\n",
      "    accuracy                           0.94      8222\n",
      "   macro avg       0.94      0.68      0.75      8222\n",
      "weighted avg       0.94      0.94      0.93      8222\n",
      "\n",
      "roc score : 0.9048501178214978\n"
     ]
    },
    {
     "data": {
      "image/png": "[encoded data removed]",
      "text/plain": [
       "<Figure size 432x288 with 1 Axes>"
      ]
     },
     "metadata": {
      "needs_background": "light"
     },
     "output_type": "display_data"
    }
   ],
   "source": [
    "cat.fit(xtrain,ytrain)\n",
    "cat_test_pred = cat.predict(xtest)\n",
    "cat_test_pp = cat.predict_proba(xtest)\n",
    "cat_test_acc = accuracy_score(ytest,cat_test_pred)\n",
    "cat_test_cm = confusion_matrix(ytest,cat_test_pred)\n",
    "cat_test_cr = classification_report(ytest,cat_test_pred)\n",
    "cat_test_pp = cat_test_pp[:,1]\n",
    "print('test_metrics\\n')\n",
    "print('test_acc :',cat_test_acc,'\\n')\n",
    "print('confusion matrix :\\n')\n",
    "print(cat_test_cm)\n",
    "print('\\nclassification report:\\n')\n",
    "print(cat_test_cr)\n",
    "\n",
    "fpr,tpr,thres = roc_curve(ytest,cat_test_pp)\n",
    "print('roc score :',roc_auc_score(ytest,cat_test_pp))\n",
    "plt.plot(fpr,tpr,marker='.')\n",
    "plt.plot([0,1],[0,1],linestyle='--',marker='.')\n",
    "plt.grid()\n",
    "plt.show()"
   ]
  },
  {
   "cell_type": "markdown",
   "id": "9da4e0c2",
   "metadata": {},
   "source": [
    "### Light GBM"
   ]
  },
  {
   "cell_type": "code",
   "execution_count": 397,
   "id": "3dafe391",
   "metadata": {},
   "outputs": [
    {
     "name": "stdout",
     "output_type": "stream",
     "text": [
      "test_metrics\n",
      "\n",
      "test_acc : 0.9435660423254683 \n",
      "\n",
      "confusion matrix :\n",
      "\n",
      "[[7503   11]\n",
      " [ 453  255]]\n",
      "\n",
      "classification report:\n",
      "\n",
      "              precision    recall  f1-score   support\n",
      "\n",
      "         0.0       0.94      1.00      0.97      7514\n",
      "         1.0       0.96      0.36      0.52       708\n",
      "\n",
      "    accuracy                           0.94      8222\n",
      "   macro avg       0.95      0.68      0.75      8222\n",
      "weighted avg       0.94      0.94      0.93      8222\n",
      "\n",
      "roc score : 0.9066543769896946\n"
     ]
    },
    {
     "data": {
      "image/png": "[encoded data removed]",
      "text/plain": [
       "<Figure size 432x288 with 1 Axes>"
      ]
     },
     "metadata": {
      "needs_background": "light"
     },
     "output_type": "display_data"
    }
   ],
   "source": [
    "lgb.fit(xtrain,ytrain)\n",
    "lgb_test_pred = lgb.predict(xtest)\n",
    "lgb_test_pp = lgb.predict_proba(xtest)\n",
    "lgb_test_acc = accuracy_score(ytest,lgb_test_pred)\n",
    "lgb_test_cm = confusion_matrix(ytest,lgb_test_pred)\n",
    "lgb_test_cr = classification_report(ytest,lgb_test_pred)\n",
    "lgb_test_pp = lgb_test_pp[:,1]\n",
    "print('test_metrics\\n')\n",
    "print('test_acc :',lgb_test_acc,'\\n')\n",
    "print('confusion matrix :\\n')\n",
    "print(lgb_test_cm)\n",
    "print('\\nclassification report:\\n')\n",
    "print(lgb_test_cr)\n",
    "\n",
    "fpr,tpr,thres = roc_curve(ytest,lgb_test_pp)\n",
    "print('roc score :',roc_auc_score(ytest,lgb_test_pp))\n",
    "plt.plot(fpr,tpr,marker='.')\n",
    "plt.plot([0,1],[0,1],linestyle='--',marker='.')\n",
    "plt.grid()\n",
    "plt.show()"
   ]
  },
  {
   "cell_type": "code",
   "execution_count": null,
   "id": "38e640ac",
   "metadata": {},
   "outputs": [],
   "source": []
  },
  {
   "cell_type": "code",
   "execution_count": 405,
   "id": "d0bdfc47",
   "metadata": {},
   "outputs": [],
   "source": [
    "lr_test_pp = lr_test_pp.tolist()\n",
    "kn_test_pp = kn_test_pp.tolist()\n",
    "dt_test_pp = dt_test_pp.tolist()\n",
    "rf_test_pp = rf_test_pp.tolist()\n",
    "gb_test_pp = gb_test_pp.tolist()\n",
    "xgb_test_pp = xgb_test_pp.tolist()\n",
    "xgbrf_test_pp = xgbrf_test_pp.tolist()\n",
    "cat_test_pp = cat_test_pp.tolist()\n",
    "lgb_test_pp = lgb_test_pp.tolist()"
   ]
  },
  {
   "cell_type": "code",
   "execution_count": 406,
   "id": "a3b29a35",
   "metadata": {},
   "outputs": [],
   "source": [
    "mean_probas = pd.DataFrame({'lr_test_pp':lr_test_pp , 'kn_test_pp':kn_test_pp ,'dt_test_pp':dt_test_pp,\n",
    "             'rf_test_pp':rf_test_pp,'xgb_test_pp':xgb_test_pp,'xgbrf_test_pp':xgbrf_test_pp,'cat_test_pp':cat_test_pp,\n",
    "             'lgb_test_pp':lgb_test_pp})"
   ]
  },
  {
   "cell_type": "code",
   "execution_count": 407,
   "id": "5db4705f",
   "metadata": {},
   "outputs": [
    {
     "data": {
      "text/html": [
       "<div>\n",
       "<style scoped>\n",
       "    .dataframe tbody tr th:only-of-type {\n",
       "        vertical-align: middle;\n",
       "    }\n",
       "\n",
       "    .dataframe tbody tr th {\n",
       "        vertical-align: top;\n",
       "    }\n",
       "\n",
       "    .dataframe thead th {\n",
       "        text-align: right;\n",
       "    }\n",
       "</style>\n",
       "<table border=\"1\" class=\"dataframe\">\n",
       "  <thead>\n",
       "    <tr style=\"text-align: right;\">\n",
       "      <th></th>\n",
       "      <th>lr_test_pp</th>\n",
       "      <th>kn_test_pp</th>\n",
       "      <th>dt_test_pp</th>\n",
       "      <th>rf_test_pp</th>\n",
       "      <th>xgb_test_pp</th>\n",
       "      <th>xgbrf_test_pp</th>\n",
       "      <th>cat_test_pp</th>\n",
       "      <th>lgb_test_pp</th>\n",
       "    </tr>\n",
       "  </thead>\n",
       "  <tbody>\n",
       "    <tr>\n",
       "      <th>0</th>\n",
       "      <td>0.242369</td>\n",
       "      <td>0.4</td>\n",
       "      <td>0.0</td>\n",
       "      <td>0.51</td>\n",
       "      <td>0.253771</td>\n",
       "      <td>0.207776</td>\n",
       "      <td>0.269102</td>\n",
       "      <td>0.252434</td>\n",
       "    </tr>\n",
       "    <tr>\n",
       "      <th>1</th>\n",
       "      <td>0.060316</td>\n",
       "      <td>0.0</td>\n",
       "      <td>0.0</td>\n",
       "      <td>0.03</td>\n",
       "      <td>0.043319</td>\n",
       "      <td>0.133371</td>\n",
       "      <td>0.052371</td>\n",
       "      <td>0.043580</td>\n",
       "    </tr>\n",
       "    <tr>\n",
       "      <th>2</th>\n",
       "      <td>0.104145</td>\n",
       "      <td>0.4</td>\n",
       "      <td>0.0</td>\n",
       "      <td>0.03</td>\n",
       "      <td>0.045811</td>\n",
       "      <td>0.132475</td>\n",
       "      <td>0.036864</td>\n",
       "      <td>0.037415</td>\n",
       "    </tr>\n",
       "    <tr>\n",
       "      <th>3</th>\n",
       "      <td>0.009604</td>\n",
       "      <td>0.0</td>\n",
       "      <td>0.0</td>\n",
       "      <td>0.00</td>\n",
       "      <td>0.000056</td>\n",
       "      <td>0.120160</td>\n",
       "      <td>0.000023</td>\n",
       "      <td>0.000797</td>\n",
       "    </tr>\n",
       "    <tr>\n",
       "      <th>4</th>\n",
       "      <td>0.150743</td>\n",
       "      <td>0.4</td>\n",
       "      <td>0.0</td>\n",
       "      <td>0.31</td>\n",
       "      <td>0.279501</td>\n",
       "      <td>0.195032</td>\n",
       "      <td>0.249975</td>\n",
       "      <td>0.195634</td>\n",
       "    </tr>\n",
       "  </tbody>\n",
       "</table>\n",
       "</div>"
      ],
      "text/plain": [
       "   lr_test_pp  kn_test_pp  dt_test_pp  rf_test_pp  xgb_test_pp  xgbrf_test_pp  \\\n",
       "0    0.242369         0.4         0.0        0.51     0.253771       0.207776   \n",
       "1    0.060316         0.0         0.0        0.03     0.043319       0.133371   \n",
       "2    0.104145         0.4         0.0        0.03     0.045811       0.132475   \n",
       "3    0.009604         0.0         0.0        0.00     0.000056       0.120160   \n",
       "4    0.150743         0.4         0.0        0.31     0.279501       0.195032   \n",
       "\n",
       "   cat_test_pp  lgb_test_pp  \n",
       "0     0.269102     0.252434  \n",
       "1     0.052371     0.043580  \n",
       "2     0.036864     0.037415  \n",
       "3     0.000023     0.000797  \n",
       "4     0.249975     0.195634  "
      ]
     },
     "execution_count": 407,
     "metadata": {},
     "output_type": "execute_result"
    }
   ],
   "source": [
    "mean_probas.head()"
   ]
  },
  {
   "cell_type": "code",
   "execution_count": 408,
   "id": "e6dd5f7c",
   "metadata": {},
   "outputs": [],
   "source": [
    "mp = []\n",
    "for i in mean_probas.index:\n",
    "    mp.append(mean_probas.iloc[i].mean())"
   ]
  },
  {
   "cell_type": "markdown",
   "id": "acf5703e",
   "metadata": {},
   "source": [
    "### Choose if you want a single model's proba or the mean proba "
   ]
  },
  {
   "cell_type": "code",
   "execution_count": 409,
   "id": "64719257",
   "metadata": {},
   "outputs": [],
   "source": [
    "mean_probas['mean_proba'] = mp ## MEAN PROBA"
   ]
  },
  {
   "cell_type": "code",
   "execution_count": 410,
   "id": "f0d7a117",
   "metadata": {},
   "outputs": [],
   "source": [
    "# mean_probas['mean_proba'] = lgb_test_pp ## SINGLE MODEL PROBA"
   ]
  },
  {
   "cell_type": "code",
   "execution_count": 411,
   "id": "bdd18320",
   "metadata": {},
   "outputs": [
    {
     "data": {
      "text/html": [
       "<div>\n",
       "<style scoped>\n",
       "    .dataframe tbody tr th:only-of-type {\n",
       "        vertical-align: middle;\n",
       "    }\n",
       "\n",
       "    .dataframe tbody tr th {\n",
       "        vertical-align: top;\n",
       "    }\n",
       "\n",
       "    .dataframe thead th {\n",
       "        text-align: right;\n",
       "    }\n",
       "</style>\n",
       "<table border=\"1\" class=\"dataframe\">\n",
       "  <thead>\n",
       "    <tr style=\"text-align: right;\">\n",
       "      <th></th>\n",
       "      <th>lr_test_pp</th>\n",
       "      <th>kn_test_pp</th>\n",
       "      <th>dt_test_pp</th>\n",
       "      <th>rf_test_pp</th>\n",
       "      <th>xgb_test_pp</th>\n",
       "      <th>xgbrf_test_pp</th>\n",
       "      <th>cat_test_pp</th>\n",
       "      <th>lgb_test_pp</th>\n",
       "      <th>mean_proba</th>\n",
       "    </tr>\n",
       "  </thead>\n",
       "  <tbody>\n",
       "    <tr>\n",
       "      <th>0</th>\n",
       "      <td>0.242369</td>\n",
       "      <td>0.4</td>\n",
       "      <td>0.0</td>\n",
       "      <td>0.51</td>\n",
       "      <td>0.253771</td>\n",
       "      <td>0.207776</td>\n",
       "      <td>0.269102</td>\n",
       "      <td>0.252434</td>\n",
       "      <td>0.266931</td>\n",
       "    </tr>\n",
       "    <tr>\n",
       "      <th>1</th>\n",
       "      <td>0.060316</td>\n",
       "      <td>0.0</td>\n",
       "      <td>0.0</td>\n",
       "      <td>0.03</td>\n",
       "      <td>0.043319</td>\n",
       "      <td>0.133371</td>\n",
       "      <td>0.052371</td>\n",
       "      <td>0.043580</td>\n",
       "      <td>0.045369</td>\n",
       "    </tr>\n",
       "    <tr>\n",
       "      <th>2</th>\n",
       "      <td>0.104145</td>\n",
       "      <td>0.4</td>\n",
       "      <td>0.0</td>\n",
       "      <td>0.03</td>\n",
       "      <td>0.045811</td>\n",
       "      <td>0.132475</td>\n",
       "      <td>0.036864</td>\n",
       "      <td>0.037415</td>\n",
       "      <td>0.098339</td>\n",
       "    </tr>\n",
       "    <tr>\n",
       "      <th>3</th>\n",
       "      <td>0.009604</td>\n",
       "      <td>0.0</td>\n",
       "      <td>0.0</td>\n",
       "      <td>0.00</td>\n",
       "      <td>0.000056</td>\n",
       "      <td>0.120160</td>\n",
       "      <td>0.000023</td>\n",
       "      <td>0.000797</td>\n",
       "      <td>0.016330</td>\n",
       "    </tr>\n",
       "    <tr>\n",
       "      <th>4</th>\n",
       "      <td>0.150743</td>\n",
       "      <td>0.4</td>\n",
       "      <td>0.0</td>\n",
       "      <td>0.31</td>\n",
       "      <td>0.279501</td>\n",
       "      <td>0.195032</td>\n",
       "      <td>0.249975</td>\n",
       "      <td>0.195634</td>\n",
       "      <td>0.222611</td>\n",
       "    </tr>\n",
       "  </tbody>\n",
       "</table>\n",
       "</div>"
      ],
      "text/plain": [
       "   lr_test_pp  kn_test_pp  dt_test_pp  rf_test_pp  xgb_test_pp  xgbrf_test_pp  \\\n",
       "0    0.242369         0.4         0.0        0.51     0.253771       0.207776   \n",
       "1    0.060316         0.0         0.0        0.03     0.043319       0.133371   \n",
       "2    0.104145         0.4         0.0        0.03     0.045811       0.132475   \n",
       "3    0.009604         0.0         0.0        0.00     0.000056       0.120160   \n",
       "4    0.150743         0.4         0.0        0.31     0.279501       0.195032   \n",
       "\n",
       "   cat_test_pp  lgb_test_pp  mean_proba  \n",
       "0     0.269102     0.252434    0.266931  \n",
       "1     0.052371     0.043580    0.045369  \n",
       "2     0.036864     0.037415    0.098339  \n",
       "3     0.000023     0.000797    0.016330  \n",
       "4     0.249975     0.195634    0.222611  "
      ]
     },
     "execution_count": 411,
     "metadata": {},
     "output_type": "execute_result"
    }
   ],
   "source": [
    "mean_probas.head()"
   ]
  },
  {
   "cell_type": "code",
   "execution_count": null,
   "id": "7973c162",
   "metadata": {},
   "outputs": [],
   "source": []
  },
  {
   "cell_type": "code",
   "execution_count": 414,
   "id": "84fecfef",
   "metadata": {},
   "outputs": [],
   "source": [
    "fpr,tpr,threshold = roc_curve(ytest,mean_probas['mean_proba'])"
   ]
  },
  {
   "cell_type": "code",
   "execution_count": 415,
   "id": "257f0fd3",
   "metadata": {},
   "outputs": [],
   "source": [
    "final_probas = mean_probas['mean_proba']"
   ]
  },
  {
   "cell_type": "code",
   "execution_count": 416,
   "id": "7fe93246",
   "metadata": {},
   "outputs": [
    {
     "name": "stdout",
     "output_type": "stream",
     "text": [
      "\n",
      "len of dataframe :  789\n"
     ]
    },
    {
     "data": {
      "text/html": [
       "<div>\n",
       "<style scoped>\n",
       "    .dataframe tbody tr th:only-of-type {\n",
       "        vertical-align: middle;\n",
       "    }\n",
       "\n",
       "    .dataframe tbody tr th {\n",
       "        vertical-align: top;\n",
       "    }\n",
       "\n",
       "    .dataframe thead th {\n",
       "        text-align: right;\n",
       "    }\n",
       "</style>\n",
       "<table border=\"1\" class=\"dataframe\">\n",
       "  <thead>\n",
       "    <tr style=\"text-align: right;\">\n",
       "      <th></th>\n",
       "      <th>threshold</th>\n",
       "      <th>fpr</th>\n",
       "      <th>tpr</th>\n",
       "    </tr>\n",
       "  </thead>\n",
       "  <tbody>\n",
       "    <tr>\n",
       "      <th>0</th>\n",
       "      <td>1.963468</td>\n",
       "      <td>0.000000</td>\n",
       "      <td>0.000000</td>\n",
       "    </tr>\n",
       "    <tr>\n",
       "      <th>1</th>\n",
       "      <td>0.963468</td>\n",
       "      <td>0.000000</td>\n",
       "      <td>0.001412</td>\n",
       "    </tr>\n",
       "    <tr>\n",
       "      <th>2</th>\n",
       "      <td>0.577858</td>\n",
       "      <td>0.000000</td>\n",
       "      <td>0.306497</td>\n",
       "    </tr>\n",
       "    <tr>\n",
       "      <th>3</th>\n",
       "      <td>0.576352</td>\n",
       "      <td>0.000133</td>\n",
       "      <td>0.306497</td>\n",
       "    </tr>\n",
       "    <tr>\n",
       "      <th>4</th>\n",
       "      <td>0.573934</td>\n",
       "      <td>0.000133</td>\n",
       "      <td>0.310734</td>\n",
       "    </tr>\n",
       "    <tr>\n",
       "      <th>5</th>\n",
       "      <td>0.573271</td>\n",
       "      <td>0.000266</td>\n",
       "      <td>0.310734</td>\n",
       "    </tr>\n",
       "    <tr>\n",
       "      <th>6</th>\n",
       "      <td>0.549226</td>\n",
       "      <td>0.000266</td>\n",
       "      <td>0.324859</td>\n",
       "    </tr>\n",
       "    <tr>\n",
       "      <th>7</th>\n",
       "      <td>0.543630</td>\n",
       "      <td>0.000532</td>\n",
       "      <td>0.324859</td>\n",
       "    </tr>\n",
       "    <tr>\n",
       "      <th>8</th>\n",
       "      <td>0.543337</td>\n",
       "      <td>0.000532</td>\n",
       "      <td>0.326271</td>\n",
       "    </tr>\n",
       "    <tr>\n",
       "      <th>9</th>\n",
       "      <td>0.543055</td>\n",
       "      <td>0.000665</td>\n",
       "      <td>0.326271</td>\n",
       "    </tr>\n",
       "  </tbody>\n",
       "</table>\n",
       "</div>"
      ],
      "text/plain": [
       "   threshold       fpr       tpr\n",
       "0   1.963468  0.000000  0.000000\n",
       "1   0.963468  0.000000  0.001412\n",
       "2   0.577858  0.000000  0.306497\n",
       "3   0.576352  0.000133  0.306497\n",
       "4   0.573934  0.000133  0.310734\n",
       "5   0.573271  0.000266  0.310734\n",
       "6   0.549226  0.000266  0.324859\n",
       "7   0.543630  0.000532  0.324859\n",
       "8   0.543337  0.000532  0.326271\n",
       "9   0.543055  0.000665  0.326271"
      ]
     },
     "execution_count": 416,
     "metadata": {},
     "output_type": "execute_result"
    }
   ],
   "source": [
    "print('\\nlen of dataframe : ',len(pd.DataFrame({'threshold':threshold , 'fpr':fpr, 'tpr':tpr})))\n",
    "pd.DataFrame({'threshold':threshold , 'fpr':fpr, 'tpr':tpr}).head(10)"
   ]
  },
  {
   "cell_type": "code",
   "execution_count": 417,
   "id": "1774a180",
   "metadata": {},
   "outputs": [],
   "source": [
    "# final_probas"
   ]
  },
  {
   "cell_type": "code",
   "execution_count": 422,
   "id": "0f27f8a6",
   "metadata": {},
   "outputs": [
    {
     "data": {
      "text/html": [
       "<div>\n",
       "<style scoped>\n",
       "    .dataframe tbody tr th:only-of-type {\n",
       "        vertical-align: middle;\n",
       "    }\n",
       "\n",
       "    .dataframe tbody tr th {\n",
       "        vertical-align: top;\n",
       "    }\n",
       "\n",
       "    .dataframe thead th {\n",
       "        text-align: right;\n",
       "    }\n",
       "</style>\n",
       "<table border=\"1\" class=\"dataframe\">\n",
       "  <thead>\n",
       "    <tr style=\"text-align: right;\">\n",
       "      <th></th>\n",
       "      <th>Threshold</th>\n",
       "      <th>Accuracies</th>\n",
       "    </tr>\n",
       "  </thead>\n",
       "  <tbody>\n",
       "    <tr>\n",
       "      <th>17</th>\n",
       "      <td>0.496064</td>\n",
       "      <td>0.942107</td>\n",
       "    </tr>\n",
       "    <tr>\n",
       "      <th>19</th>\n",
       "      <td>0.486459</td>\n",
       "      <td>0.941985</td>\n",
       "    </tr>\n",
       "    <tr>\n",
       "      <th>16</th>\n",
       "      <td>0.496969</td>\n",
       "      <td>0.941985</td>\n",
       "    </tr>\n",
       "    <tr>\n",
       "      <th>21</th>\n",
       "      <td>0.472505</td>\n",
       "      <td>0.941985</td>\n",
       "    </tr>\n",
       "    <tr>\n",
       "      <th>18</th>\n",
       "      <td>0.488621</td>\n",
       "      <td>0.941985</td>\n",
       "    </tr>\n",
       "    <tr>\n",
       "      <th>13</th>\n",
       "      <td>0.520472</td>\n",
       "      <td>0.941985</td>\n",
       "    </tr>\n",
       "    <tr>\n",
       "      <th>52</th>\n",
       "      <td>0.378363</td>\n",
       "      <td>0.941863</td>\n",
       "    </tr>\n",
       "    <tr>\n",
       "      <th>51</th>\n",
       "      <td>0.380523</td>\n",
       "      <td>0.941863</td>\n",
       "    </tr>\n",
       "    <tr>\n",
       "      <th>46</th>\n",
       "      <td>0.389554</td>\n",
       "      <td>0.941863</td>\n",
       "    </tr>\n",
       "    <tr>\n",
       "      <th>22</th>\n",
       "      <td>0.470452</td>\n",
       "      <td>0.941863</td>\n",
       "    </tr>\n",
       "  </tbody>\n",
       "</table>\n",
       "</div>"
      ],
      "text/plain": [
       "    Threshold  Accuracies\n",
       "17   0.496064    0.942107\n",
       "19   0.486459    0.941985\n",
       "16   0.496969    0.941985\n",
       "21   0.472505    0.941985\n",
       "18   0.488621    0.941985\n",
       "13   0.520472    0.941985\n",
       "52   0.378363    0.941863\n",
       "51   0.380523    0.941863\n",
       "46   0.389554    0.941863\n",
       "22   0.470452    0.941863"
      ]
     },
     "execution_count": 422,
     "metadata": {},
     "output_type": "execute_result"
    }
   ],
   "source": [
    "acc=[]\n",
    "for i in threshold:\n",
    "    ypred = np.where(final_probas>i,1,0)\n",
    "    acc.append(accuracy_score(ytest,ypred))\n",
    "    \n",
    "decider = pd.concat([pd.Series(threshold),pd.Series(acc)],axis=1)\n",
    "decider.rename(columns = {0: 'Threshold', 1: 'Accuracies'}, inplace = True)\n",
    "decider.sort_values('Accuracies',ascending=False).head(10)"
   ]
  },
  {
   "cell_type": "code",
   "execution_count": null,
   "id": "4018ad9a",
   "metadata": {},
   "outputs": [],
   "source": []
  },
  {
   "cell_type": "code",
   "execution_count": 425,
   "id": "c34981f4",
   "metadata": {},
   "outputs": [],
   "source": [
    "fins = []\n",
    "for i in mean_probas.mean_proba:\n",
    "    if i > 0.496:\n",
    "        fins.append(1)\n",
    "    else:\n",
    "        fins.append(0)\n",
    "mean_probas['predictions'] = fins\n"
   ]
  },
  {
   "cell_type": "code",
   "execution_count": 426,
   "id": "55ed05c3",
   "metadata": {},
   "outputs": [
    {
     "data": {
      "text/html": [
       "<div>\n",
       "<style scoped>\n",
       "    .dataframe tbody tr th:only-of-type {\n",
       "        vertical-align: middle;\n",
       "    }\n",
       "\n",
       "    .dataframe tbody tr th {\n",
       "        vertical-align: top;\n",
       "    }\n",
       "\n",
       "    .dataframe thead th {\n",
       "        text-align: right;\n",
       "    }\n",
       "</style>\n",
       "<table border=\"1\" class=\"dataframe\">\n",
       "  <thead>\n",
       "    <tr style=\"text-align: right;\">\n",
       "      <th></th>\n",
       "      <th>lr_test_pp</th>\n",
       "      <th>kn_test_pp</th>\n",
       "      <th>dt_test_pp</th>\n",
       "      <th>rf_test_pp</th>\n",
       "      <th>xgb_test_pp</th>\n",
       "      <th>xgbrf_test_pp</th>\n",
       "      <th>cat_test_pp</th>\n",
       "      <th>lgb_test_pp</th>\n",
       "      <th>mean_proba</th>\n",
       "      <th>predictions</th>\n",
       "    </tr>\n",
       "  </thead>\n",
       "  <tbody>\n",
       "    <tr>\n",
       "      <th>0</th>\n",
       "      <td>0.242369</td>\n",
       "      <td>0.4</td>\n",
       "      <td>0.0</td>\n",
       "      <td>0.51</td>\n",
       "      <td>0.253771</td>\n",
       "      <td>0.207776</td>\n",
       "      <td>0.269102</td>\n",
       "      <td>0.252434</td>\n",
       "      <td>0.266931</td>\n",
       "      <td>0</td>\n",
       "    </tr>\n",
       "    <tr>\n",
       "      <th>1</th>\n",
       "      <td>0.060316</td>\n",
       "      <td>0.0</td>\n",
       "      <td>0.0</td>\n",
       "      <td>0.03</td>\n",
       "      <td>0.043319</td>\n",
       "      <td>0.133371</td>\n",
       "      <td>0.052371</td>\n",
       "      <td>0.043580</td>\n",
       "      <td>0.045369</td>\n",
       "      <td>0</td>\n",
       "    </tr>\n",
       "    <tr>\n",
       "      <th>2</th>\n",
       "      <td>0.104145</td>\n",
       "      <td>0.4</td>\n",
       "      <td>0.0</td>\n",
       "      <td>0.03</td>\n",
       "      <td>0.045811</td>\n",
       "      <td>0.132475</td>\n",
       "      <td>0.036864</td>\n",
       "      <td>0.037415</td>\n",
       "      <td>0.098339</td>\n",
       "      <td>0</td>\n",
       "    </tr>\n",
       "    <tr>\n",
       "      <th>3</th>\n",
       "      <td>0.009604</td>\n",
       "      <td>0.0</td>\n",
       "      <td>0.0</td>\n",
       "      <td>0.00</td>\n",
       "      <td>0.000056</td>\n",
       "      <td>0.120160</td>\n",
       "      <td>0.000023</td>\n",
       "      <td>0.000797</td>\n",
       "      <td>0.016330</td>\n",
       "      <td>0</td>\n",
       "    </tr>\n",
       "    <tr>\n",
       "      <th>4</th>\n",
       "      <td>0.150743</td>\n",
       "      <td>0.4</td>\n",
       "      <td>0.0</td>\n",
       "      <td>0.31</td>\n",
       "      <td>0.279501</td>\n",
       "      <td>0.195032</td>\n",
       "      <td>0.249975</td>\n",
       "      <td>0.195634</td>\n",
       "      <td>0.222611</td>\n",
       "      <td>0</td>\n",
       "    </tr>\n",
       "  </tbody>\n",
       "</table>\n",
       "</div>"
      ],
      "text/plain": [
       "   lr_test_pp  kn_test_pp  dt_test_pp  rf_test_pp  xgb_test_pp  xgbrf_test_pp  \\\n",
       "0    0.242369         0.4         0.0        0.51     0.253771       0.207776   \n",
       "1    0.060316         0.0         0.0        0.03     0.043319       0.133371   \n",
       "2    0.104145         0.4         0.0        0.03     0.045811       0.132475   \n",
       "3    0.009604         0.0         0.0        0.00     0.000056       0.120160   \n",
       "4    0.150743         0.4         0.0        0.31     0.279501       0.195032   \n",
       "\n",
       "   cat_test_pp  lgb_test_pp  mean_proba  predictions  \n",
       "0     0.269102     0.252434    0.266931            0  \n",
       "1     0.052371     0.043580    0.045369            0  \n",
       "2     0.036864     0.037415    0.098339            0  \n",
       "3     0.000023     0.000797    0.016330            0  \n",
       "4     0.249975     0.195634    0.222611            0  "
      ]
     },
     "execution_count": 426,
     "metadata": {},
     "output_type": "execute_result"
    }
   ],
   "source": [
    "mean_probas.head()"
   ]
  },
  {
   "cell_type": "code",
   "execution_count": 429,
   "id": "0115a2aa",
   "metadata": {},
   "outputs": [
    {
     "data": {
      "text/plain": [
       "0    7967\n",
       "1     255\n",
       "Name: predictions, dtype: int64"
      ]
     },
     "execution_count": 429,
     "metadata": {},
     "output_type": "execute_result"
    }
   ],
   "source": [
    "mean_probas.predictions.value_counts()"
   ]
  },
  {
   "cell_type": "code",
   "execution_count": 431,
   "id": "7eaa089e",
   "metadata": {},
   "outputs": [
    {
     "name": "stdout",
     "output_type": "stream",
     "text": [
      "\n",
      "\n"
     ]
    },
    {
     "data": {
      "image/png": "[encoded data removed]",
      "text/plain": [
       "<Figure size 432x288 with 2 Axes>"
      ]
     },
     "metadata": {
      "needs_background": "light"
     },
     "output_type": "display_data"
    },
    {
     "name": "stdout",
     "output_type": "stream",
     "text": [
      "[[7502  465]\n",
      " [  12  243]]\n",
      "              precision    recall  f1-score   support\n",
      "\n",
      "         0.0       0.94      1.00      0.97      7514\n",
      "         1.0       0.95      0.34      0.50       708\n",
      "\n",
      "    accuracy                           0.94      8222\n",
      "   macro avg       0.95      0.67      0.74      8222\n",
      "weighted avg       0.94      0.94      0.93      8222\n",
      "\n",
      "ROC AUC Score : 0.8975251846271143\n"
     ]
    },
    {
     "data": {
      "image/png": "[encoded data removed]",
      "text/plain": [
       "<Figure size 432x288 with 1 Axes>"
      ]
     },
     "metadata": {
      "needs_background": "light"
     },
     "output_type": "display_data"
    }
   ],
   "source": [
    "mean_cm = confusion_matrix(ytest,fins)\n",
    "# print(mean_cm.transpose())\n",
    "print('\\n')\n",
    "# print(mean_cm)\n",
    "# print('\\n')\n",
    "sns.heatmap(mean_cm.transpose(),annot=True)\n",
    "plt.tick_params(labeltop=True,labelbottom=False)\n",
    "plt.show()\n",
    "print(confusion_matrix(ytest,fins).transpose())\n",
    "print(classification_report(ytest,fins))\n",
    "plt.plot(fpr,tpr,linestyle='--',marker='.')\n",
    "plt.plot([0,1],[0,1],linestyle='--',marker='.')\n",
    "plt.xticks(np.arange(0,1.1,0.1))\n",
    "plt.yticks(np.arange(0,1.1,0.1))\n",
    "plt.xlabel('FPR',fontdict={'color':'red','fontsize':15})\n",
    "plt.ylabel('TPR',fontdict={'color':'red','fontsize':15})\n",
    "plt.title('Roc-Auc-Curve',fontdict={'color':'red','fontsize':15})\n",
    "plt.grid()\n",
    "print('ROC AUC Score :',roc_auc_score(ytest,mean_probas.mean_proba))\n",
    "plt.show()"
   ]
  },
  {
   "cell_type": "code",
   "execution_count": 432,
   "id": "9f553124",
   "metadata": {},
   "outputs": [],
   "source": [
    "final_threshold = threshold[17]"
   ]
  },
  {
   "cell_type": "code",
   "execution_count": 433,
   "id": "fee27df8",
   "metadata": {},
   "outputs": [
    {
     "data": {
      "text/plain": [
       "0.496063706290415"
      ]
     },
     "execution_count": 433,
     "metadata": {},
     "output_type": "execute_result"
    }
   ],
   "source": [
    "final_threshold"
   ]
  },
  {
   "cell_type": "code",
   "execution_count": null,
   "id": "6996d3aa",
   "metadata": {},
   "outputs": [],
   "source": []
  },
  {
   "cell_type": "code",
   "execution_count": null,
   "id": "c7c06860",
   "metadata": {},
   "outputs": [],
   "source": []
  },
  {
   "cell_type": "markdown",
   "id": "34f3dca4",
   "metadata": {},
   "source": [
    "### Test data"
   ]
  },
  {
   "cell_type": "code",
   "execution_count": 443,
   "id": "09a0e9fc",
   "metadata": {},
   "outputs": [],
   "source": [
    "test = df2.copy()"
   ]
  },
  {
   "cell_type": "code",
   "execution_count": 444,
   "id": "77aa3b6c",
   "metadata": {},
   "outputs": [
    {
     "data": {
      "text/html": [
       "<div>\n",
       "<style scoped>\n",
       "    .dataframe tbody tr th:only-of-type {\n",
       "        vertical-align: middle;\n",
       "    }\n",
       "\n",
       "    .dataframe tbody tr th {\n",
       "        vertical-align: top;\n",
       "    }\n",
       "\n",
       "    .dataframe thead th {\n",
       "        text-align: right;\n",
       "    }\n",
       "</style>\n",
       "<table border=\"1\" class=\"dataframe\">\n",
       "  <thead>\n",
       "    <tr style=\"text-align: right;\">\n",
       "      <th></th>\n",
       "      <th>employee_id</th>\n",
       "      <th>department</th>\n",
       "      <th>region</th>\n",
       "      <th>education</th>\n",
       "      <th>gender</th>\n",
       "      <th>recruitment_channel</th>\n",
       "      <th>no_of_trainings</th>\n",
       "      <th>age</th>\n",
       "      <th>previous_year_rating</th>\n",
       "      <th>length_of_service</th>\n",
       "      <th>KPIs_met &gt;80%</th>\n",
       "      <th>awards_won?</th>\n",
       "      <th>avg_training_score</th>\n",
       "      <th>is_promoted</th>\n",
       "    </tr>\n",
       "  </thead>\n",
       "  <tbody>\n",
       "    <tr>\n",
       "      <th>0</th>\n",
       "      <td>8724</td>\n",
       "      <td>Technology</td>\n",
       "      <td>region_26</td>\n",
       "      <td>Bachelor's</td>\n",
       "      <td>m</td>\n",
       "      <td>sourcing</td>\n",
       "      <td>1</td>\n",
       "      <td>24</td>\n",
       "      <td>0.0</td>\n",
       "      <td>1</td>\n",
       "      <td>1</td>\n",
       "      <td>0</td>\n",
       "      <td>77</td>\n",
       "      <td>NaN</td>\n",
       "    </tr>\n",
       "    <tr>\n",
       "      <th>1</th>\n",
       "      <td>74430</td>\n",
       "      <td>HR</td>\n",
       "      <td>region_4</td>\n",
       "      <td>Bachelor's</td>\n",
       "      <td>f</td>\n",
       "      <td>other</td>\n",
       "      <td>1</td>\n",
       "      <td>31</td>\n",
       "      <td>3.0</td>\n",
       "      <td>5</td>\n",
       "      <td>0</td>\n",
       "      <td>0</td>\n",
       "      <td>51</td>\n",
       "      <td>NaN</td>\n",
       "    </tr>\n",
       "    <tr>\n",
       "      <th>2</th>\n",
       "      <td>72255</td>\n",
       "      <td>Sales &amp; Marketing</td>\n",
       "      <td>region_13</td>\n",
       "      <td>Bachelor's</td>\n",
       "      <td>m</td>\n",
       "      <td>other</td>\n",
       "      <td>1</td>\n",
       "      <td>31</td>\n",
       "      <td>1.0</td>\n",
       "      <td>4</td>\n",
       "      <td>0</td>\n",
       "      <td>0</td>\n",
       "      <td>47</td>\n",
       "      <td>NaN</td>\n",
       "    </tr>\n",
       "    <tr>\n",
       "      <th>3</th>\n",
       "      <td>38562</td>\n",
       "      <td>Procurement</td>\n",
       "      <td>region_2</td>\n",
       "      <td>Bachelor's</td>\n",
       "      <td>f</td>\n",
       "      <td>other</td>\n",
       "      <td>3</td>\n",
       "      <td>31</td>\n",
       "      <td>2.0</td>\n",
       "      <td>9</td>\n",
       "      <td>0</td>\n",
       "      <td>0</td>\n",
       "      <td>65</td>\n",
       "      <td>NaN</td>\n",
       "    </tr>\n",
       "    <tr>\n",
       "      <th>4</th>\n",
       "      <td>64486</td>\n",
       "      <td>Finance</td>\n",
       "      <td>region_29</td>\n",
       "      <td>Bachelor's</td>\n",
       "      <td>m</td>\n",
       "      <td>sourcing</td>\n",
       "      <td>1</td>\n",
       "      <td>30</td>\n",
       "      <td>4.0</td>\n",
       "      <td>7</td>\n",
       "      <td>0</td>\n",
       "      <td>0</td>\n",
       "      <td>61</td>\n",
       "      <td>NaN</td>\n",
       "    </tr>\n",
       "  </tbody>\n",
       "</table>\n",
       "</div>"
      ],
      "text/plain": [
       "   employee_id         department     region   education gender  \\\n",
       "0         8724         Technology  region_26  Bachelor's      m   \n",
       "1        74430                 HR   region_4  Bachelor's      f   \n",
       "2        72255  Sales & Marketing  region_13  Bachelor's      m   \n",
       "3        38562        Procurement   region_2  Bachelor's      f   \n",
       "4        64486            Finance  region_29  Bachelor's      m   \n",
       "\n",
       "  recruitment_channel  no_of_trainings  age  previous_year_rating  \\\n",
       "0            sourcing                1   24                   0.0   \n",
       "1               other                1   31                   3.0   \n",
       "2               other                1   31                   1.0   \n",
       "3               other                3   31                   2.0   \n",
       "4            sourcing                1   30                   4.0   \n",
       "\n",
       "   length_of_service  KPIs_met >80%  awards_won?  avg_training_score  \\\n",
       "0                  1              1            0                  77   \n",
       "1                  5              0            0                  51   \n",
       "2                  4              0            0                  47   \n",
       "3                  9              0            0                  65   \n",
       "4                  7              0            0                  61   \n",
       "\n",
       "   is_promoted  \n",
       "0          NaN  \n",
       "1          NaN  \n",
       "2          NaN  \n",
       "3          NaN  \n",
       "4          NaN  "
      ]
     },
     "execution_count": 444,
     "metadata": {},
     "output_type": "execute_result"
    }
   ],
   "source": [
    "test.head()"
   ]
  },
  {
   "cell_type": "code",
   "execution_count": 445,
   "id": "284fb64f",
   "metadata": {},
   "outputs": [
    {
     "name": "stdout",
     "output_type": "stream",
     "text": [
      "<class 'pandas.core.frame.DataFrame'>\n",
      "Int64Index: 23490 entries, 0 to 23489\n",
      "Data columns (total 14 columns):\n",
      " #   Column                Non-Null Count  Dtype  \n",
      "---  ------                --------------  -----  \n",
      " 0   employee_id           23490 non-null  int64  \n",
      " 1   department            23490 non-null  object \n",
      " 2   region                23490 non-null  object \n",
      " 3   education             23490 non-null  object \n",
      " 4   gender                23490 non-null  object \n",
      " 5   recruitment_channel   23490 non-null  object \n",
      " 6   no_of_trainings       23490 non-null  int64  \n",
      " 7   age                   23490 non-null  int64  \n",
      " 8   previous_year_rating  23490 non-null  float64\n",
      " 9   length_of_service     23490 non-null  int64  \n",
      " 10  KPIs_met >80%         23490 non-null  int64  \n",
      " 11  awards_won?           23490 non-null  int64  \n",
      " 12  avg_training_score    23490 non-null  int64  \n",
      " 13  is_promoted           0 non-null      float64\n",
      "dtypes: float64(2), int64(7), object(5)\n",
      "memory usage: 2.7+ MB\n"
     ]
    }
   ],
   "source": [
    "test.info()"
   ]
  },
  {
   "cell_type": "code",
   "execution_count": 446,
   "id": "d6e6902d",
   "metadata": {},
   "outputs": [
    {
     "data": {
      "text/html": [
       "<div>\n",
       "<style scoped>\n",
       "    .dataframe tbody tr th:only-of-type {\n",
       "        vertical-align: middle;\n",
       "    }\n",
       "\n",
       "    .dataframe tbody tr th {\n",
       "        vertical-align: top;\n",
       "    }\n",
       "\n",
       "    .dataframe thead th {\n",
       "        text-align: right;\n",
       "    }\n",
       "</style>\n",
       "<table border=\"1\" class=\"dataframe\">\n",
       "  <thead>\n",
       "    <tr style=\"text-align: right;\">\n",
       "      <th></th>\n",
       "      <th>count</th>\n",
       "      <th>mean</th>\n",
       "      <th>std</th>\n",
       "      <th>min</th>\n",
       "      <th>25%</th>\n",
       "      <th>50%</th>\n",
       "      <th>75%</th>\n",
       "      <th>max</th>\n",
       "    </tr>\n",
       "  </thead>\n",
       "  <tbody>\n",
       "    <tr>\n",
       "      <th>employee_id</th>\n",
       "      <td>23490.0</td>\n",
       "      <td>39041.399149</td>\n",
       "      <td>22640.809201</td>\n",
       "      <td>3.0</td>\n",
       "      <td>19370.25</td>\n",
       "      <td>38963.5</td>\n",
       "      <td>58690.0</td>\n",
       "      <td>78295.0</td>\n",
       "    </tr>\n",
       "    <tr>\n",
       "      <th>no_of_trainings</th>\n",
       "      <td>23490.0</td>\n",
       "      <td>1.254236</td>\n",
       "      <td>0.600910</td>\n",
       "      <td>1.0</td>\n",
       "      <td>1.00</td>\n",
       "      <td>1.0</td>\n",
       "      <td>1.0</td>\n",
       "      <td>9.0</td>\n",
       "    </tr>\n",
       "    <tr>\n",
       "      <th>age</th>\n",
       "      <td>23490.0</td>\n",
       "      <td>34.782929</td>\n",
       "      <td>7.679492</td>\n",
       "      <td>20.0</td>\n",
       "      <td>29.00</td>\n",
       "      <td>33.0</td>\n",
       "      <td>39.0</td>\n",
       "      <td>60.0</td>\n",
       "    </tr>\n",
       "    <tr>\n",
       "      <th>previous_year_rating</th>\n",
       "      <td>23490.0</td>\n",
       "      <td>3.081567</td>\n",
       "      <td>1.505517</td>\n",
       "      <td>0.0</td>\n",
       "      <td>2.00</td>\n",
       "      <td>3.0</td>\n",
       "      <td>4.0</td>\n",
       "      <td>5.0</td>\n",
       "    </tr>\n",
       "    <tr>\n",
       "      <th>length_of_service</th>\n",
       "      <td>23490.0</td>\n",
       "      <td>5.810387</td>\n",
       "      <td>4.207917</td>\n",
       "      <td>1.0</td>\n",
       "      <td>3.00</td>\n",
       "      <td>5.0</td>\n",
       "      <td>7.0</td>\n",
       "      <td>34.0</td>\n",
       "    </tr>\n",
       "    <tr>\n",
       "      <th>KPIs_met &gt;80%</th>\n",
       "      <td>23490.0</td>\n",
       "      <td>0.358834</td>\n",
       "      <td>0.479668</td>\n",
       "      <td>0.0</td>\n",
       "      <td>0.00</td>\n",
       "      <td>0.0</td>\n",
       "      <td>1.0</td>\n",
       "      <td>1.0</td>\n",
       "    </tr>\n",
       "    <tr>\n",
       "      <th>awards_won?</th>\n",
       "      <td>23490.0</td>\n",
       "      <td>0.022776</td>\n",
       "      <td>0.149191</td>\n",
       "      <td>0.0</td>\n",
       "      <td>0.00</td>\n",
       "      <td>0.0</td>\n",
       "      <td>0.0</td>\n",
       "      <td>1.0</td>\n",
       "    </tr>\n",
       "    <tr>\n",
       "      <th>avg_training_score</th>\n",
       "      <td>23490.0</td>\n",
       "      <td>63.263133</td>\n",
       "      <td>13.411750</td>\n",
       "      <td>39.0</td>\n",
       "      <td>51.00</td>\n",
       "      <td>60.0</td>\n",
       "      <td>76.0</td>\n",
       "      <td>99.0</td>\n",
       "    </tr>\n",
       "    <tr>\n",
       "      <th>is_promoted</th>\n",
       "      <td>0.0</td>\n",
       "      <td>NaN</td>\n",
       "      <td>NaN</td>\n",
       "      <td>NaN</td>\n",
       "      <td>NaN</td>\n",
       "      <td>NaN</td>\n",
       "      <td>NaN</td>\n",
       "      <td>NaN</td>\n",
       "    </tr>\n",
       "  </tbody>\n",
       "</table>\n",
       "</div>"
      ],
      "text/plain": [
       "                        count          mean           std   min       25%  \\\n",
       "employee_id           23490.0  39041.399149  22640.809201   3.0  19370.25   \n",
       "no_of_trainings       23490.0      1.254236      0.600910   1.0      1.00   \n",
       "age                   23490.0     34.782929      7.679492  20.0     29.00   \n",
       "previous_year_rating  23490.0      3.081567      1.505517   0.0      2.00   \n",
       "length_of_service     23490.0      5.810387      4.207917   1.0      3.00   \n",
       "KPIs_met >80%         23490.0      0.358834      0.479668   0.0      0.00   \n",
       "awards_won?           23490.0      0.022776      0.149191   0.0      0.00   \n",
       "avg_training_score    23490.0     63.263133     13.411750  39.0     51.00   \n",
       "is_promoted               0.0           NaN           NaN   NaN       NaN   \n",
       "\n",
       "                          50%      75%      max  \n",
       "employee_id           38963.5  58690.0  78295.0  \n",
       "no_of_trainings           1.0      1.0      9.0  \n",
       "age                      33.0     39.0     60.0  \n",
       "previous_year_rating      3.0      4.0      5.0  \n",
       "length_of_service         5.0      7.0     34.0  \n",
       "KPIs_met >80%             0.0      1.0      1.0  \n",
       "awards_won?               0.0      0.0      1.0  \n",
       "avg_training_score       60.0     76.0     99.0  \n",
       "is_promoted               NaN      NaN      NaN  "
      ]
     },
     "execution_count": 446,
     "metadata": {},
     "output_type": "execute_result"
    }
   ],
   "source": [
    "test.describe().transpose()"
   ]
  },
  {
   "cell_type": "markdown",
   "id": "0324a3a5",
   "metadata": {},
   "source": [
    "### Imputing Nulls"
   ]
  },
  {
   "cell_type": "code",
   "execution_count": 447,
   "id": "87595f42",
   "metadata": {},
   "outputs": [
    {
     "data": {
      "text/plain": [
       "employee_id                 0\n",
       "department                  0\n",
       "region                      0\n",
       "education                   0\n",
       "gender                      0\n",
       "recruitment_channel         0\n",
       "no_of_trainings             0\n",
       "age                         0\n",
       "previous_year_rating        0\n",
       "length_of_service           0\n",
       "KPIs_met >80%               0\n",
       "awards_won?                 0\n",
       "avg_training_score          0\n",
       "is_promoted             23490\n",
       "dtype: int64"
      ]
     },
     "execution_count": 447,
     "metadata": {},
     "output_type": "execute_result"
    }
   ],
   "source": [
    "test.isnull().sum()"
   ]
  },
  {
   "cell_type": "code",
   "execution_count": 448,
   "id": "f217ede6",
   "metadata": {},
   "outputs": [],
   "source": [
    "# test.drop('employee_id',axis=1,inplace=True)\n",
    "test.drop('is_promoted',axis=1,inplace=True)"
   ]
  },
  {
   "cell_type": "code",
   "execution_count": null,
   "id": "6d904b3a",
   "metadata": {},
   "outputs": [],
   "source": []
  },
  {
   "cell_type": "code",
   "execution_count": 464,
   "id": "784aa864",
   "metadata": {},
   "outputs": [
    {
     "data": {
      "text/plain": [
       "34"
      ]
     },
     "execution_count": 464,
     "metadata": {},
     "output_type": "execute_result"
    }
   ],
   "source": [
    "test.region.nunique()"
   ]
  },
  {
   "cell_type": "code",
   "execution_count": 465,
   "id": "651563d2",
   "metadata": {},
   "outputs": [
    {
     "data": {
      "text/plain": [
       "34"
      ]
     },
     "execution_count": 465,
     "metadata": {},
     "output_type": "execute_result"
    }
   ],
   "source": [
    "df.region.nunique()"
   ]
  },
  {
   "cell_type": "code",
   "execution_count": 454,
   "id": "cdbba6e3",
   "metadata": {},
   "outputs": [],
   "source": [
    "test['department'].replace(dept_list,dept_id,True)"
   ]
  },
  {
   "cell_type": "code",
   "execution_count": 455,
   "id": "1d8998c4",
   "metadata": {},
   "outputs": [],
   "source": [
    "# dept = []\n",
    "# for i in test.department:\n",
    "#     if i == 'Sales & Marketing':\n",
    "#         dept.append(1)\n",
    "#     elif i == 'Operations':\n",
    "#         dept.append(2)\n",
    "#     elif i == 'Technology':\n",
    "#         dept.append(3)\n",
    "#     elif i == 'Analytics':\n",
    "#         dept.append(4)\n",
    "#     elif i == 'R&D':\n",
    "#         dept.append(5)\n",
    "#     elif i == 'Procurement':\n",
    "#         dept.append(6)\n",
    "#     elif i == 'Finance':\n",
    "#         dept.append(7)\n",
    "#     elif i == 'HR':\n",
    "#         dept.append(8)\n",
    "#     elif i == 'Legal':\n",
    "#         dept.append(9)\n",
    "        \n",
    "# test['department'] = dept"
   ]
  },
  {
   "cell_type": "code",
   "execution_count": 458,
   "id": "7c6fba04",
   "metadata": {},
   "outputs": [],
   "source": [
    "test['education'].replace(edu_list,edu_id,True)"
   ]
  },
  {
   "cell_type": "code",
   "execution_count": 459,
   "id": "d8af361c",
   "metadata": {},
   "outputs": [],
   "source": [
    "# edu = []\n",
    "# for i in test.education:\n",
    "#     if i == \"Bachelor's\":\n",
    "#         edu.append(2)\n",
    "#     elif i == \"Master's & above\":\n",
    "#         edu.append(1)\n",
    "#     elif i == \"Below Secondary\":\n",
    "#         edu.append(3)\n",
    "# test['education'] = edu"
   ]
  },
  {
   "cell_type": "code",
   "execution_count": 461,
   "id": "5c00d0f4",
   "metadata": {},
   "outputs": [],
   "source": [
    "test['gender'].replace(gen_list,gen_id,True)"
   ]
  },
  {
   "cell_type": "code",
   "execution_count": 462,
   "id": "ecf25290",
   "metadata": {},
   "outputs": [],
   "source": [
    "# gen = []\n",
    "# for i in test.gender:\n",
    "#     if i == 'f':\n",
    "#         gen.append(1)\n",
    "#     elif i == 'm':\n",
    "#         gen.append(2)\n",
    "# test['gender'] = gen"
   ]
  },
  {
   "cell_type": "code",
   "execution_count": 469,
   "id": "e7221e47",
   "metadata": {},
   "outputs": [],
   "source": [
    "test['region'].replace(reg_list,reg_id,True)"
   ]
  },
  {
   "cell_type": "code",
   "execution_count": 467,
   "id": "0acbdc6d",
   "metadata": {},
   "outputs": [],
   "source": [
    "# rc = []\n",
    "# for i in test.recruitment_channel:\n",
    "#     if i == 'other':\n",
    "#         rc.append(1)\n",
    "#     elif i == 'sourcing':\n",
    "#         rc.append(2)\n",
    "#     elif i == 'referred':\n",
    "#         rc.append(3)\n",
    "# test['recruitment_channel'] = rc"
   ]
  },
  {
   "cell_type": "code",
   "execution_count": 472,
   "id": "2a797650",
   "metadata": {},
   "outputs": [],
   "source": [
    "test['recruitment_channel'].replace(rc_list,rc_id,True)"
   ]
  },
  {
   "cell_type": "code",
   "execution_count": 473,
   "id": "e4a34e05",
   "metadata": {
    "scrolled": true
   },
   "outputs": [
    {
     "data": {
      "text/html": [
       "<div>\n",
       "<style scoped>\n",
       "    .dataframe tbody tr th:only-of-type {\n",
       "        vertical-align: middle;\n",
       "    }\n",
       "\n",
       "    .dataframe tbody tr th {\n",
       "        vertical-align: top;\n",
       "    }\n",
       "\n",
       "    .dataframe thead th {\n",
       "        text-align: right;\n",
       "    }\n",
       "</style>\n",
       "<table border=\"1\" class=\"dataframe\">\n",
       "  <thead>\n",
       "    <tr style=\"text-align: right;\">\n",
       "      <th></th>\n",
       "      <th>employee_id</th>\n",
       "      <th>department</th>\n",
       "      <th>region</th>\n",
       "      <th>education</th>\n",
       "      <th>gender</th>\n",
       "      <th>recruitment_channel</th>\n",
       "      <th>no_of_trainings</th>\n",
       "      <th>age</th>\n",
       "      <th>previous_year_rating</th>\n",
       "      <th>length_of_service</th>\n",
       "      <th>KPIs_met &gt;80%</th>\n",
       "      <th>awards_won?</th>\n",
       "      <th>avg_training_score</th>\n",
       "    </tr>\n",
       "  </thead>\n",
       "  <tbody>\n",
       "    <tr>\n",
       "      <th>0</th>\n",
       "      <td>8724</td>\n",
       "      <td>3</td>\n",
       "      <td>5</td>\n",
       "      <td>2</td>\n",
       "      <td>2</td>\n",
       "      <td>1</td>\n",
       "      <td>1</td>\n",
       "      <td>24</td>\n",
       "      <td>0.0</td>\n",
       "      <td>1</td>\n",
       "      <td>1</td>\n",
       "      <td>0</td>\n",
       "      <td>77</td>\n",
       "    </tr>\n",
       "    <tr>\n",
       "      <th>1</th>\n",
       "      <td>74430</td>\n",
       "      <td>8</td>\n",
       "      <td>10</td>\n",
       "      <td>2</td>\n",
       "      <td>1</td>\n",
       "      <td>2</td>\n",
       "      <td>1</td>\n",
       "      <td>31</td>\n",
       "      <td>3.0</td>\n",
       "      <td>5</td>\n",
       "      <td>0</td>\n",
       "      <td>0</td>\n",
       "      <td>51</td>\n",
       "    </tr>\n",
       "    <tr>\n",
       "      <th>2</th>\n",
       "      <td>72255</td>\n",
       "      <td>1</td>\n",
       "      <td>19</td>\n",
       "      <td>2</td>\n",
       "      <td>2</td>\n",
       "      <td>2</td>\n",
       "      <td>1</td>\n",
       "      <td>31</td>\n",
       "      <td>1.0</td>\n",
       "      <td>4</td>\n",
       "      <td>0</td>\n",
       "      <td>0</td>\n",
       "      <td>47</td>\n",
       "    </tr>\n",
       "    <tr>\n",
       "      <th>3</th>\n",
       "      <td>38562</td>\n",
       "      <td>6</td>\n",
       "      <td>6</td>\n",
       "      <td>2</td>\n",
       "      <td>1</td>\n",
       "      <td>2</td>\n",
       "      <td>3</td>\n",
       "      <td>31</td>\n",
       "      <td>2.0</td>\n",
       "      <td>9</td>\n",
       "      <td>0</td>\n",
       "      <td>0</td>\n",
       "      <td>65</td>\n",
       "    </tr>\n",
       "    <tr>\n",
       "      <th>4</th>\n",
       "      <td>64486</td>\n",
       "      <td>7</td>\n",
       "      <td>11</td>\n",
       "      <td>2</td>\n",
       "      <td>2</td>\n",
       "      <td>1</td>\n",
       "      <td>1</td>\n",
       "      <td>30</td>\n",
       "      <td>4.0</td>\n",
       "      <td>7</td>\n",
       "      <td>0</td>\n",
       "      <td>0</td>\n",
       "      <td>61</td>\n",
       "    </tr>\n",
       "  </tbody>\n",
       "</table>\n",
       "</div>"
      ],
      "text/plain": [
       "   employee_id  department  region  education  gender  recruitment_channel  \\\n",
       "0         8724           3       5          2       2                    1   \n",
       "1        74430           8      10          2       1                    2   \n",
       "2        72255           1      19          2       2                    2   \n",
       "3        38562           6       6          2       1                    2   \n",
       "4        64486           7      11          2       2                    1   \n",
       "\n",
       "   no_of_trainings  age  previous_year_rating  length_of_service  \\\n",
       "0                1   24                   0.0                  1   \n",
       "1                1   31                   3.0                  5   \n",
       "2                1   31                   1.0                  4   \n",
       "3                3   31                   2.0                  9   \n",
       "4                1   30                   4.0                  7   \n",
       "\n",
       "   KPIs_met >80%  awards_won?  avg_training_score  \n",
       "0              1            0                  77  \n",
       "1              0            0                  51  \n",
       "2              0            0                  47  \n",
       "3              0            0                  65  \n",
       "4              0            0                  61  "
      ]
     },
     "execution_count": 473,
     "metadata": {},
     "output_type": "execute_result"
    }
   ],
   "source": [
    "test.head()"
   ]
  },
  {
   "cell_type": "code",
   "execution_count": 479,
   "id": "817d61c5",
   "metadata": {},
   "outputs": [],
   "source": [
    "eid = test.employee_id.tolist()"
   ]
  },
  {
   "cell_type": "code",
   "execution_count": 483,
   "id": "c806000b",
   "metadata": {},
   "outputs": [],
   "source": [
    "test.drop('employee_id',axis=1,inplace=True)"
   ]
  },
  {
   "cell_type": "code",
   "execution_count": 484,
   "id": "8f9121e0",
   "metadata": {
    "scrolled": true
   },
   "outputs": [],
   "source": [
    "x_train = ml.drop('is_promoted',axis=1)\n",
    "y_train = ml.is_promoted"
   ]
  },
  {
   "cell_type": "code",
   "execution_count": 485,
   "id": "39007590",
   "metadata": {},
   "outputs": [],
   "source": [
    "x_test = test"
   ]
  },
  {
   "cell_type": "code",
   "execution_count": 486,
   "id": "662d6ecb",
   "metadata": {},
   "outputs": [],
   "source": [
    "lgb.fit(x_train,y_train)\n",
    "lgb_final_pred = lgb.predict(x_test)\n",
    "lgb_final_pp = lgb.predict_proba(x_test)\n",
    "lgb_final_pp = lgb_final_pp[:,1]"
   ]
  },
  {
   "cell_type": "code",
   "execution_count": 487,
   "id": "74184c82",
   "metadata": {},
   "outputs": [],
   "source": [
    "cat.fit(x_train,y_train)\n",
    "cat_final_pred = cat.predict(x_test)\n",
    "cat_final_pp = cat.predict_proba(x_test)\n",
    "cat_final_pp = cat_final_pp[:,1]"
   ]
  },
  {
   "cell_type": "code",
   "execution_count": 488,
   "id": "c3eb72b2",
   "metadata": {},
   "outputs": [],
   "source": [
    "lr.fit(x_train,y_train)\n",
    "lr_final_pred = lr.predict(x_test)\n",
    "lr_final_pp = lr.predict_proba(x_test)\n",
    "lr_final_pp = lr_final_pp[:,1]"
   ]
  },
  {
   "cell_type": "code",
   "execution_count": 489,
   "id": "c2e08fed",
   "metadata": {},
   "outputs": [],
   "source": [
    "kn.fit(x_train,y_train)\n",
    "kn_final_pred = kn.predict(x_test)\n",
    "kn_final_pp = kn.predict_proba(x_test)\n",
    "kn_final_pp = kn_final_pp[:,1]"
   ]
  },
  {
   "cell_type": "code",
   "execution_count": 512,
   "id": "8b083b6f",
   "metadata": {},
   "outputs": [],
   "source": [
    "gb.fit(x_train,y_train)\n",
    "gb_final_pred = gb.predict(x_test)\n",
    "gb_final_pp = gb.predict_proba(x_test)\n",
    "gb_final_pp = gb_final_pp[:,1]"
   ]
  },
  {
   "cell_type": "code",
   "execution_count": 492,
   "id": "ff9cc868",
   "metadata": {},
   "outputs": [],
   "source": [
    "dt.fit(x_train,y_train)\n",
    "dt_final_pred = dt.predict(x_test)\n",
    "dt_final_pp = dt.predict_proba(x_test)\n",
    "dt_final_pp = dt_final_pp[:,1]"
   ]
  },
  {
   "cell_type": "code",
   "execution_count": 493,
   "id": "edb5a643",
   "metadata": {},
   "outputs": [],
   "source": [
    "rf.fit(x_train,y_train)\n",
    "rf_final_pred = rf.predict(x_test)\n",
    "rf_final_pp = rf.predict_proba(x_test)\n",
    "rf_final_pp = rf_final_pp[:,1]"
   ]
  },
  {
   "cell_type": "code",
   "execution_count": 494,
   "id": "ef93ce4b",
   "metadata": {},
   "outputs": [
    {
     "name": "stdout",
     "output_type": "stream",
     "text": [
      "[17:40:15] WARNING: ../src/learner.cc:1115: Starting in XGBoost 1.3.0, the default evaluation metric used with the objective 'binary:logistic' was changed from 'error' to 'logloss'. Explicitly set eval_metric if you'd like to restore the old behavior.\n"
     ]
    }
   ],
   "source": [
    "xgb.fit(x_train,y_train)\n",
    "xgb_final_pred = xgb.predict(x_test)\n",
    "xgb_final_pp = xgb.predict_proba(x_test)\n",
    "xgb_final_pp = xgb_final_pp[:,1]"
   ]
  },
  {
   "cell_type": "code",
   "execution_count": 495,
   "id": "96aed0ff",
   "metadata": {},
   "outputs": [
    {
     "name": "stdout",
     "output_type": "stream",
     "text": [
      "[17:42:46] WARNING: ../src/learner.cc:1115: Starting in XGBoost 1.3.0, the default evaluation metric used with the objective 'binary:logistic' was changed from 'error' to 'logloss'. Explicitly set eval_metric if you'd like to restore the old behavior.\n"
     ]
    }
   ],
   "source": [
    "xgbrf.fit(x_train,y_train)\n",
    "xgbrf_final_pred = xgbrf.predict(x_test)\n",
    "xgbrf_final_pp = xgbrf.predict_proba(x_test)\n",
    "xgbrf_final_pp = xgbrf_final_pp[:,1]"
   ]
  },
  {
   "cell_type": "code",
   "execution_count": null,
   "id": "06b65b48",
   "metadata": {},
   "outputs": [],
   "source": []
  },
  {
   "cell_type": "code",
   "execution_count": 500,
   "id": "e75e7eb8",
   "metadata": {},
   "outputs": [],
   "source": [
    "lgb_final_pp = lgb_final_pp.tolist()\n",
    "cat_final_pp = cat_final_pp.tolist()\n",
    "lr_final_pp = lr_final_pp.tolist()\n",
    "kn_final_pp = kn_final_pp.tolist()\n",
    "# gnb_final_pp = gnb_final_pp.tolist()\n",
    "dt_final_pp = dt_final_pp.tolist()\n",
    "rf_final_pp = rf_final_pp.tolist()\n",
    "xgb_final_pp = xgb_final_pp.tolist()\n",
    "xgbrf_final_pp = xgbrf_final_pp.tolist()"
   ]
  },
  {
   "cell_type": "code",
   "execution_count": null,
   "id": "4bcba68b",
   "metadata": {},
   "outputs": [],
   "source": []
  },
  {
   "cell_type": "code",
   "execution_count": 513,
   "id": "44d0d889",
   "metadata": {},
   "outputs": [],
   "source": [
    "final_probas = pd.DataFrame({'lr':lr_final_pp,'kn':kn_final_pp,'dt':dt_final_pp,'gb':gb_final_pp,\n",
    "                            'rf':rf_final_pp,'xgb':xgb_final_pp,'xgbrf':xgbrf_final_pp,'lgb':lgb_final_pp,'cat':cat_final_pp})"
   ]
  },
  {
   "cell_type": "code",
   "execution_count": 514,
   "id": "63fecfec",
   "metadata": {},
   "outputs": [
    {
     "data": {
      "text/html": [
       "<div>\n",
       "<style scoped>\n",
       "    .dataframe tbody tr th:only-of-type {\n",
       "        vertical-align: middle;\n",
       "    }\n",
       "\n",
       "    .dataframe tbody tr th {\n",
       "        vertical-align: top;\n",
       "    }\n",
       "\n",
       "    .dataframe thead th {\n",
       "        text-align: right;\n",
       "    }\n",
       "</style>\n",
       "<table border=\"1\" class=\"dataframe\">\n",
       "  <thead>\n",
       "    <tr style=\"text-align: right;\">\n",
       "      <th></th>\n",
       "      <th>lr</th>\n",
       "      <th>kn</th>\n",
       "      <th>dt</th>\n",
       "      <th>gb</th>\n",
       "      <th>rf</th>\n",
       "      <th>xgb</th>\n",
       "      <th>xgbrf</th>\n",
       "      <th>lgb</th>\n",
       "      <th>cat</th>\n",
       "    </tr>\n",
       "  </thead>\n",
       "  <tbody>\n",
       "    <tr>\n",
       "      <th>0</th>\n",
       "      <td>0.227289</td>\n",
       "      <td>0.2</td>\n",
       "      <td>0.0</td>\n",
       "      <td>0.153312</td>\n",
       "      <td>0.12</td>\n",
       "      <td>0.148865</td>\n",
       "      <td>0.197067</td>\n",
       "      <td>0.169537</td>\n",
       "      <td>0.125188</td>\n",
       "    </tr>\n",
       "    <tr>\n",
       "      <th>1</th>\n",
       "      <td>0.014052</td>\n",
       "      <td>0.0</td>\n",
       "      <td>0.0</td>\n",
       "      <td>0.002982</td>\n",
       "      <td>0.00</td>\n",
       "      <td>0.000269</td>\n",
       "      <td>0.120016</td>\n",
       "      <td>0.000966</td>\n",
       "      <td>0.000225</td>\n",
       "    </tr>\n",
       "    <tr>\n",
       "      <th>2</th>\n",
       "      <td>0.015182</td>\n",
       "      <td>0.0</td>\n",
       "      <td>0.0</td>\n",
       "      <td>0.002392</td>\n",
       "      <td>0.00</td>\n",
       "      <td>0.000052</td>\n",
       "      <td>0.119900</td>\n",
       "      <td>0.000301</td>\n",
       "      <td>0.000002</td>\n",
       "    </tr>\n",
       "    <tr>\n",
       "      <th>3</th>\n",
       "      <td>0.020410</td>\n",
       "      <td>0.0</td>\n",
       "      <td>0.0</td>\n",
       "      <td>0.009987</td>\n",
       "      <td>0.00</td>\n",
       "      <td>0.000752</td>\n",
       "      <td>0.132026</td>\n",
       "      <td>0.002066</td>\n",
       "      <td>0.000421</td>\n",
       "    </tr>\n",
       "    <tr>\n",
       "      <th>4</th>\n",
       "      <td>0.030735</td>\n",
       "      <td>0.2</td>\n",
       "      <td>0.0</td>\n",
       "      <td>0.010914</td>\n",
       "      <td>0.01</td>\n",
       "      <td>0.001408</td>\n",
       "      <td>0.130987</td>\n",
       "      <td>0.001084</td>\n",
       "      <td>0.001515</td>\n",
       "    </tr>\n",
       "  </tbody>\n",
       "</table>\n",
       "</div>"
      ],
      "text/plain": [
       "         lr   kn   dt        gb    rf       xgb     xgbrf       lgb       cat\n",
       "0  0.227289  0.2  0.0  0.153312  0.12  0.148865  0.197067  0.169537  0.125188\n",
       "1  0.014052  0.0  0.0  0.002982  0.00  0.000269  0.120016  0.000966  0.000225\n",
       "2  0.015182  0.0  0.0  0.002392  0.00  0.000052  0.119900  0.000301  0.000002\n",
       "3  0.020410  0.0  0.0  0.009987  0.00  0.000752  0.132026  0.002066  0.000421\n",
       "4  0.030735  0.2  0.0  0.010914  0.01  0.001408  0.130987  0.001084  0.001515"
      ]
     },
     "execution_count": 514,
     "metadata": {},
     "output_type": "execute_result"
    }
   ],
   "source": [
    "final_probas.head()"
   ]
  },
  {
   "cell_type": "code",
   "execution_count": 515,
   "id": "a2eedeed",
   "metadata": {},
   "outputs": [],
   "source": [
    "f_prob = []\n",
    "for i in final_probas.index:\n",
    "    f_prob.append(final_probas.iloc[i].mean())\n"
   ]
  },
  {
   "cell_type": "code",
   "execution_count": 516,
   "id": "98f7c7d3",
   "metadata": {},
   "outputs": [],
   "source": [
    "final_probas['final_prob'] = f_prob"
   ]
  },
  {
   "cell_type": "code",
   "execution_count": 517,
   "id": "33ba4598",
   "metadata": {},
   "outputs": [],
   "source": [
    "final_probablities = final_probas['final_prob']"
   ]
  },
  {
   "cell_type": "code",
   "execution_count": 518,
   "id": "ed6f0905",
   "metadata": {},
   "outputs": [
    {
     "data": {
      "text/plain": [
       "0        0.149029\n",
       "1        0.015390\n",
       "2        0.015314\n",
       "3        0.018407\n",
       "4        0.042960\n",
       "           ...   \n",
       "23485    0.020996\n",
       "23486    0.025013\n",
       "23487    0.016081\n",
       "23488    0.019270\n",
       "23489    0.690866\n",
       "Name: final_prob, Length: 23490, dtype: float64"
      ]
     },
     "execution_count": 518,
     "metadata": {},
     "output_type": "execute_result"
    }
   ],
   "source": [
    "final_probablities"
   ]
  },
  {
   "cell_type": "code",
   "execution_count": null,
   "id": "55a47fab",
   "metadata": {},
   "outputs": [],
   "source": []
  },
  {
   "cell_type": "code",
   "execution_count": null,
   "id": "32baba33",
   "metadata": {},
   "outputs": [],
   "source": []
  },
  {
   "cell_type": "code",
   "execution_count": 520,
   "id": "028486ba",
   "metadata": {},
   "outputs": [
    {
     "data": {
      "text/plain": [
       "0.496063706290415"
      ]
     },
     "execution_count": 520,
     "metadata": {},
     "output_type": "execute_result"
    }
   ],
   "source": [
    "final_threshold"
   ]
  },
  {
   "cell_type": "code",
   "execution_count": 521,
   "id": "b70e8d36",
   "metadata": {},
   "outputs": [],
   "source": [
    "results = []\n",
    "for i in final_probablities:\n",
    "    if i > final_threshold:\n",
    "        results.append(1)\n",
    "    else:\n",
    "        results.append(0)\n"
   ]
  },
  {
   "cell_type": "code",
   "execution_count": 522,
   "id": "ade71634",
   "metadata": {},
   "outputs": [],
   "source": [
    "final = pd.DataFrame({'employee_id':eid , 'is_promoted':results})"
   ]
  },
  {
   "cell_type": "code",
   "execution_count": null,
   "id": "26c507d8",
   "metadata": {},
   "outputs": [],
   "source": []
  },
  {
   "cell_type": "code",
   "execution_count": 523,
   "id": "8199e91a",
   "metadata": {},
   "outputs": [],
   "source": [
    "final.to_csv('submission_04_allmodels_roc_auc_049_threshold.csv',index=False)"
   ]
  },
  {
   "cell_type": "code",
   "execution_count": null,
   "id": "67da717b",
   "metadata": {},
   "outputs": [],
   "source": []
  },
  {
   "cell_type": "code",
   "execution_count": null,
   "id": "0c9f59de",
   "metadata": {},
   "outputs": [],
   "source": []
  },
  {
   "cell_type": "code",
   "execution_count": null,
   "id": "0b25b2bf",
   "metadata": {},
   "outputs": [],
   "source": []
  },
  {
   "cell_type": "code",
   "execution_count": null,
   "id": "ffc6467b",
   "metadata": {},
   "outputs": [],
   "source": []
  }
 ],
 "metadata": {
  "kernelspec": {
   "display_name": "Python 3 (ipykernel)",
   "language": "python",
   "name": "python3"
  },
  "language_info": {
   "codemirror_mode": {
    "name": "ipython",
    "version": 3
   },
   "file_extension": ".py",
   "mimetype": "text/x-python",
   "name": "python",
   "nbconvert_exporter": "python",
   "pygments_lexer": "ipython3",
   "version": "3.8.12"
  }
 },
 "nbformat": 4,
 "nbformat_minor": 5
}
